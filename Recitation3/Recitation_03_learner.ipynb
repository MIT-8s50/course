{
 "cells": [
  {
   "cell_type": "markdown",
   "metadata": {},
   "source": [
    "<!--start-block-->\n",
    "<hr style=\"height: 1px;\">\n",
    "<i>This code was authored by the 8.S50x Course Team, Copyright 2021 MIT All Rights Reserved.</i>\n",
    "<hr style=\"height: 1px;\">\n",
    "<br>\n",
    "\n",
    "# RECITATION 3: Fitting and `LMFIT` Software\n",
    "\n",
    "<br>\n",
    "<!--end-block--> "
   ]
  },
  {
   "cell_type": "markdown",
   "metadata": {},
   "source": [
    "<!--start-block-->\n",
    "<hr style=\"height: 1px;\">\n",
    "\n",
    "## 3.0 Overview of Learning Objectives\n",
    "\n",
    "In this recitation we will explore the following objectives:\n",
    "\n",
    "- Fitting with the software package `LMFIT`\n",
    "- A second `LMFIT` example\n",
    "- Fitting with complicated models, like project 1\n",
    "- How to interpret bugs using `LMFIT`\n",
    "\n",
    "<!--end-block-->"
   ]
  },
  {
   "cell_type": "markdown",
   "metadata": {},
   "source": [
    "<!--start-block-->\n",
    "<hr style=\"height: 1px;\">\n",
    "\n",
    "## 3.1 Using `LMFIT` to fit to data\n",
    "\n",
    "To get some practice fitting, suppose you have some data coming from the function $y=2x$. We'll fit a model function of $y=mx+b$\n",
    "\n",
    "<!--end-block-->"
   ]
  },
  {
   "cell_type": "markdown",
   "metadata": {},
   "source": [
    "<!--start-block-->\n",
    "#### <span style=\"color:green\">>>>RUN</span>\n",
    "\n",
    "Let's generate some example data with made-up systematic uncertainties. These uncertainties are assumed to be the standard deviations of normal distributions (a common assumption). Therefore, we draw each data point $y_i$ from a normal distribution with standard deviation equal to the uncertainty of point $i$ and mean $2 x_i$.\n",
    "\n",
    "<!--\n",
    "#initial code\n",
    "import numpy as np\n",
    "\n",
    "np.random.seed(421421)\n",
    "\n",
    "xi = np.array([2,3,4,5,6,7])\n",
    "yi = 2*xi\n",
    "\n",
    "y_unc = np.array([0.3, 0.4, 0.45, 0.35, 0.6, 0.5])\n",
    "yi = yi + np.random.randn(len(xi))*y_unc\n",
    "-->\n",
    "\n",
    "<!--end-block-->"
   ]
  },
  {
   "cell_type": "code",
   "execution_count": 1,
   "metadata": {},
   "outputs": [],
   "source": [
    "import numpy as np\n",
    "\n",
    "np.random.seed(421421)\n",
    "\n",
    "xi = np.array([2,3,4,5,6,7])\n",
    "yi = 2*xi\n",
    "\n",
    "y_unc = np.array([0.3, 0.4, 0.45, 0.35, 0.6, 0.5])\n",
    "yi = yi + np.random.randn(len(xi))*y_unc"
   ]
  },
  {
   "cell_type": "markdown",
   "metadata": {},
   "source": [
    "<!--start-block-->\n",
    "#### <span style=\"color:#BA2220\">>>>EXERCISE</span>\n",
    "\n",
    "Plot the data and its error bars.\n",
    "\n",
    "<!--\n",
    "#initial code\n",
    "import matplotlib.pyplot as plt\n",
    "\n",
    "#your code here\n",
    "-->\n",
    "\n",
    "<!--\n",
    "#solution\n",
    "import matplotlib.pyplot as plt\n",
    "\n",
    "plt.scatter(xi, yi)\n",
    "plt.errorbar(xi, yi, yerr=y_unc, linestyle='none')\n",
    "plt.plot(xi, 2 * xi);\n",
    "-->"
   ]
  },
  {
   "cell_type": "code",
   "execution_count": 2,
   "metadata": {},
   "outputs": [
    {
     "data": {
      "text/plain": [
       "[<matplotlib.lines.Line2D at 0x7fd94c1c6910>]"
      ]
     },
     "execution_count": 2,
     "metadata": {},
     "output_type": "execute_result"
    },
    {
     "data": {
      "image/png": "[encoded data removed]",
      "text/plain": [
       "<Figure size 432x288 with 1 Axes>"
      ]
     },
     "metadata": {
      "needs_background": "light"
     },
     "output_type": "display_data"
    }
   ],
   "source": [
    "import matplotlib.pyplot as plt\n",
    "\n",
    "plt.errorbar(xi, yi, yerr=y_unc, linestyle=\"none\")\n",
    "plt.scatter(xi, yi)\n",
    "plt.plot(xi, 2*xi)"
   ]
  },
  {
   "cell_type": "markdown",
   "metadata": {},
   "source": [
    "<!--start-block-->\n",
    "#### <span style=\"color:green\">>>>RUN</span>\n",
    "\n",
    "We'll make a model using `LMFIT` to represent the data. Models can either be selected from a [large list of functions](https://lmfit.github.io/lmfit-py/builtin_models.html) already set up by `LMFIT`, or you can make them yourself. Here we use a preset linear model.\n",
    "\n",
    "<!--\n",
    "#initial code\n",
    "from lmfit.models import LinearModel\n",
    "model = LinearModel()\n",
    "-->\n",
    "\n",
    "<!--end-block-->"
   ]
  },
  {
   "cell_type": "code",
   "execution_count": 3,
   "metadata": {},
   "outputs": [],
   "source": [
    "from lmfit.models import LinearModel\n",
    "model = LinearModel()"
   ]
  },
  {
   "cell_type": "markdown",
   "metadata": {},
   "source": [
    "<!--start-block-->\n",
    "#### <span style=\"color:green\">>>>RUN</span>\n",
    "\n",
    "In tomorrow's lecture, you'll learn about the math behind fitting. But for now, let's let `LMFIT` black box it for us. Just know that `LMFIT` is doing a minimization algorithm behind the scenes.\n",
    "\n",
    "<b>Important:</b> set the weights equal to one over the systematic uncertainty. Not the uncertainty itself, and not the variance.\n",
    "\n",
    "<!--\n",
    "#initial code\n",
    "result = model.fit(yi, x=xi, weights=1/yerr);\n",
    "\n",
    "print(result.fit_report())\n",
    "-->\n",
    "\n",
    "<!--end-block-->"
   ]
  },
  {
   "cell_type": "code",
   "execution_count": 4,
   "metadata": {},
   "outputs": [
    {
     "name": "stdout",
     "output_type": "stream",
     "text": [
      "[[Model]]\n",
      "    Model(linear)\n",
      "[[Fit Statistics]]\n",
      "    # fitting method   = leastsq\n",
      "    # function evals   = 6\n",
      "    # data points      = 6\n",
      "    # variables        = 2\n",
      "    chi-square         = 4.23466092\n",
      "    reduced chi-square = 1.05866523\n",
      "    Akaike info crit   = 1.90926274\n",
      "    Bayesian info crit = 1.49278168\n",
      "[[Variables]]\n",
      "    slope:      1.93632021 +/- 0.10004787 (5.17%) (init = 1)\n",
      "    intercept:  0.27253202 +/- 0.42745210 (156.84%) (init = 0)\n",
      "[[Correlations]] (unreported correlations are < 0.100)\n",
      "    C(slope, intercept) = -0.919\n"
     ]
    }
   ],
   "source": [
    "result = model.fit(yi, x=xi, weights=1/y_unc);\n",
    "\n",
    "print(result.fit_report())"
   ]
  },
  {
   "cell_type": "markdown",
   "metadata": {},
   "source": [
    "<!--start-block-->\n",
    "\n",
    "Look in the `Variables` section: we have a slope of about 2 and an intercept of about zero, consistent with the true model! Very helpfully, `LMFIT` also gives you uncertainties on the fit parameters. You'll learn how `LMFIT` does this tomorrow, as well as what the `chi-square` and `reduced chi-square` entries are.\n",
    "\n",
    "<!--end-block-->"
   ]
  },
  {
   "cell_type": "markdown",
   "metadata": {},
   "source": [
    "<!--start-block-->\n",
    "#### <span style=\"color:green\">>>>RUN</span>\n",
    "\n",
    "There's one more thing to do: it's always a good idea to verify that your model actually fits your data. So let's plot the data together with the model.\n",
    "\n",
    "<!--\n",
    "#initial code\n",
    "result.plot();\n",
    "-->\n",
    "\n",
    "<!--end-block-->"
   ]
  },
  {
   "cell_type": "code",
   "execution_count": 5,
   "metadata": {},
   "outputs": [
    {
     "data": {
      "image/png": "[encoded data removed]",
      "text/plain": [
       "<Figure size 432x432 with 2 Axes>"
      ]
     },
     "metadata": {
      "needs_background": "light"
     },
     "output_type": "display_data"
    }
   ],
   "source": [
    "result.plot();"
   ]
  },
  {
   "cell_type": "markdown",
   "metadata": {},
   "source": [
    "<!--start-block-->\n",
    "\n",
    "You can see that the model fits the data very well in the bottom plot, and the top plot demonstrates that deviations of the data from the model are random; they don't seem correlated with $x$ nor with each other. This is a good thing, because `LMFIT` assumed that the data points were uncorrelated with each other when performing the fit.\n",
    "\n",
    "\n",
    "<!--end-block-->"
   ]
  },
  {
   "cell_type": "markdown",
   "metadata": {},
   "source": [
    "<!--start-block-->\n",
    "\n",
    "<hr style=\"height: 1px;\">\n",
    "\n",
    "## 3.2 Another `LMFIT` example\n",
    "\n",
    "Fitting using a pre-determined model is all well and good, but how do you fit to data using your own model function?\n",
    "\n",
    "<!--end-block-->"
   ]
  },
  {
   "cell_type": "markdown",
   "metadata": {},
   "source": [
    "<!--start-block-->\n",
    "#### <span style=\"color:green\">>>>RUN</span>\n",
    "\n",
    "Let's arbitrarily choose the function\n",
    "$$f(x) = \\frac{\\cos(kx)}{x^a}$$\n",
    "as our model, with free parameters $k > 0$ and $a > 0$.\n",
    "\n",
    "<!--\n",
    "#initial code\n",
    "import numpy as np\n",
    "\n",
    "def model_fn(x, k, a):# independent variable must be first argument\n",
    "    return np.cos(k * x) / x**a\n",
    "-->\n",
    "\n",
    "<!--end-block-->"
   ]
  },
  {
   "cell_type": "code",
   "execution_count": 6,
   "metadata": {},
   "outputs": [],
   "source": [
    "import numpy as np\n",
    "\n",
    "def model_fn(x, k, a):# independent variable must be first argument\n",
    "    return np.cos(k * x) / x**a"
   ]
  },
  {
   "cell_type": "markdown",
   "metadata": {},
   "source": [
    "<!--start-block-->\n",
    "#### <span style=\"color:#BA2220\">>>>EXERCISE</span>\n",
    "\n",
    "Generate some synthetic data using this model function, with 20 $x$ coordinates spaced evenly in $(0.1, \\pi]$. Use true values of $k=\\pi$ and $a=1$.\n",
    "\n",
    "Generate systematic uncertainty from a uniformly random distribution in the range $[0.1, 0.5]$ (`np.random.random()`). Assume that this uncertainty is the standard deviation of a normal distribution for the sake of randomizing your data (`np.random.randn()`).\n",
    "\n",
    "<!--\n",
    "#initial code\n",
    "import numpy as np\n",
    "np.random.seed(2345789)\n",
    "\n",
    "TRUE_K = np.pi\n",
    "TRUE_A = 1\n",
    "\n",
    "x = np.linspace(-4 * np.pi, 4 * np.pi, 20)\n",
    "y = #your code here\n",
    "yerr = #your code here\n",
    "-->\n",
    "\n",
    "<!--\n",
    "#solution\n",
    "import numpy as np\n",
    "np.random.seed(2345789)\n",
    "\n",
    "TRUE_K = np.pi\n",
    "TRUE_A = 1\n",
    "\n",
    "x = np.linspace(0.1, np.pi, 20)\n",
    "y = model_fn(x, TRUE_K, TRUE_A)\n",
    "\n",
    "y_unc = 0.1 + 0.4 * np.random.random(len(x))\n",
    "y = y + np.random.randn(len(x)) * y_unc;\n",
    "-->"
   ]
  },
  {
   "cell_type": "code",
   "execution_count": 7,
   "metadata": {},
   "outputs": [],
   "source": [
    "import numpy as np\n",
    "np.random.seed(2345789)\n",
    "\n",
    "TRUE_K = np.pi\n",
    "TRUE_A = 1\n",
    "\n",
    "x = np.linspace(.1,np.pi, 20)\n",
    "y = model_fn(x, k=TRUE_K, a=TRUE_A)\n",
    "y_unc = np.random.random(len(x))*.4 + .1\n",
    "y+= np.random.randn(len(x))* y_unc"
   ]
  },
  {
   "cell_type": "markdown",
   "metadata": {},
   "source": [
    "<!--start-block-->\n",
    "#### <span style=\"color:#BA2220\">>>>EXERCISE</span>\n",
    "\n",
    "Now plot your data with error bars and the true function to ensure they match.\n",
    "<!--\n",
    "#initial code\n",
    "import matplotlib.pyplot as plt\n",
    "\n",
    "#your code here\n",
    "-->\n",
    "\n",
    "<!--\n",
    "#solution\n",
    "import numpy as np\n",
    "import matplotlib.pyplot as plt\n",
    "\n",
    "plt.errorbar(x, y, y_unc, linestyle='none')\n",
    "plt.plot(x, model_fn(x, TRUE_K, TRUE_A), label=\"true\")\n",
    "plt.scatter(x, y, label=\"data\")\n",
    "plt.legend()\n",
    "plt.xlabel(\"x\")\n",
    "plt.ylabel(\"y\")\n",
    "-->"
   ]
  },
  {
   "cell_type": "code",
   "execution_count": 8,
   "metadata": {},
   "outputs": [
    {
     "data": {
      "text/plain": [
       "[<matplotlib.lines.Line2D at 0x7fd93a952700>]"
      ]
     },
     "execution_count": 8,
     "metadata": {},
     "output_type": "execute_result"
    },
    {
     "data": {
      "image/png": "[encoded data removed]",
      "text/plain": [
       "<Figure size 432x288 with 1 Axes>"
      ]
     },
     "metadata": {
      "needs_background": "light"
     },
     "output_type": "display_data"
    }
   ],
   "source": [
    "import matplotlib.pyplot as plt\n",
    "\n",
    "plt.scatter(x=x, y=y)\n",
    "plt.errorbar(x=x, y=y, yerr=y_unc, linestyle='none')\n",
    "plt.plot(x,  model_fn(x, k=TRUE_K, a=TRUE_A))"
   ]
  },
  {
   "cell_type": "markdown",
   "metadata": {},
   "source": [
    "<!--start-block-->\n",
    "#### <span style=\"color:green\">>>>RUN</span>\n",
    "\n",
    "Now we need to give this model to `LMFIT`. This involves making a `Model` object, and giving it a `Parameters` object to describe the model parameters.\n",
    "\n",
    "Each parameter has `min`, `max`, and `value` arguments that specify the minimum allowable value, the maximum value, and the initial value respectively. None of these are required, but it's often a good idea to put them in if you expect your values to be within a certain range.\n",
    "\n",
    "<!--\n",
    "#initial code\n",
    "from lmfit import Model, Parameters\n",
    "\n",
    "model = Model(model_fn)\n",
    "\n",
    "params = Parameters()\n",
    "params.add('k', min=0, max=5, value=1)\n",
    "params.add('a', min=0, max=3, value=2)\n",
    "-->\n",
    "\n",
    "<!--end-block-->"
   ]
  },
  {
   "cell_type": "code",
   "execution_count": 9,
   "metadata": {},
   "outputs": [],
   "source": [
    "from lmfit import Model, Parameters\n",
    "\n",
    "model = Model(model_fn)\n",
    "\n",
    "params = Parameters()\n",
    "params.add('k', min=0, max=5, value=1)\n",
    "params.add('a', min=0, max=3, value=2)"
   ]
  },
  {
   "cell_type": "markdown",
   "metadata": {},
   "source": [
    "<!--start-block-->\n",
    "#### <span style=\"color:green\">>>>RUN</span>\n",
    "\n",
    "Finally, let's run the fit! We reuse the code from the previous example, but we have to pass `params` into the fit function this time.\n",
    "\n",
    "<!--\n",
    "#initial code\n",
    "result = model.fit(y, params, x=x, weights=1/yerr);\n",
    "\n",
    "print(result.fit_report())\n",
    "\n",
    "result.plot();\n",
    "-->\n",
    "\n",
    "<!--end-block-->"
   ]
  },
  {
   "cell_type": "code",
   "execution_count": 10,
   "metadata": {},
   "outputs": [
    {
     "name": "stdout",
     "output_type": "stream",
     "text": [
      "[[Model]]\n",
      "    Model(model_fn)\n",
      "[[Fit Statistics]]\n",
      "    # fitting method   = leastsq\n",
      "    # function evals   = 22\n",
      "    # data points      = 20\n",
      "    # variables        = 2\n",
      "    chi-square         = 11.9922753\n",
      "    reduced chi-square = 0.66623752\n",
      "    Akaike info crit   = -6.22939109\n",
      "    Bayesian info crit = -4.23792655\n",
      "[[Variables]]\n",
      "    k:  3.20037738 +/- 0.06674182 (2.09%) (init = 1)\n",
      "    a:  1.00936920 +/- 0.00760190 (0.75%) (init = 2)\n",
      "[[Correlations]] (unreported correlations are < 0.100)\n",
      "    C(k, a) = 0.224\n"
     ]
    },
    {
     "data": {
      "image/png": "[encoded data removed]",
      "text/plain": [
       "<Figure size 432x432 with 2 Axes>"
      ]
     },
     "metadata": {
      "needs_background": "light"
     },
     "output_type": "display_data"
    }
   ],
   "source": [
    "result = model.fit(y, params, x=x, weights=1/y_unc);\n",
    "\n",
    "print(result.fit_report())\n",
    "\n",
    "result.plot();"
   ]
  },
  {
   "cell_type": "markdown",
   "metadata": {},
   "source": [
    "<!--start-block-->\n",
    "#### <span style=\"color:purple\">>>>QUESTION</span>\n",
    "\n",
    "\n",
    "Do your fit results agree with the true values? Which was determined with higher precision: $k$ or $a$? Does this make sense given your knowledge of the model function and the systematic uncertainty?\n",
    "\n",
    "#### <span style=\"color:purple\">>>>ANSWER</span>\n",
    "\n",
    "k will only be known once many periods pass (this is when small differences in k are noticeable), whereas a can already be found in the initial point.\n",
    "\n",
    "<!--\n",
    "#solution\n",
    "They do agree. $a$ can be fitted with higher precision because it controls the height of the first data point very precisely; a small change in $a$ will change the height of the first data point dramatically. However, $k$ is dominated by the data points at large $x$, which have small $y$ values compared to their error bars.\n",
    "-->\n",
    "\n",
    "\n",
    "<br>\n",
    "<!--end-block-->"
   ]
  },
  {
   "cell_type": "markdown",
   "metadata": {},
   "source": [
    "<!--start-block-->\n",
    "\n",
    "<hr style=\"height: 1px;\">\n",
    "\n",
    "## 3.3 Complicated models\n",
    "\n",
    "You'll be using `LMFIT` for project 1 on a complicated gravitational wave model. This section is designed to grapple with some of the same challenges you'll grapple with in project 1, so that you have some practice.\n",
    "\n",
    "We'll look at a fit model which is similar to a black hole merger waveform.\n",
    "\n",
    "<!--end-block-->"
   ]
  },
  {
   "cell_type": "markdown",
   "metadata": {},
   "source": [
    "<!--start-block-->\n",
    "#### <span style=\"color:#BA2220\">>>>EXERCISE</span>\n",
    "\n",
    "Below is a complicated model function with six parameters. Add code to generate true data from the function and store it as true_yi (do not include any systematic uncertainties). Then plot your data to see what the waveform looks like. Do you see the similarity to a black hole merger?\n",
    "\n",
    "<!--\n",
    "#initial code\n",
    "import numpy as np\n",
    "import matplotlib.pyplot as plt\n",
    "\n",
    "np.random.seed(0x98a09fe)\n",
    "\n",
    "def complicated_model_fn(x, lambda_plus, lambda_minus, max_amp, omega_0, omega_max, omega_sigma):\n",
    "    omega = (omega_max - omega_0) * (np.exp(-np.minimum(x, 0)**2 / omega_sigma)) + omega_0\n",
    "    lambdas = np.array([lambda_plus if xvalue > 0 else lambda_minus for xvalue in x])\n",
    "    amplitude = max_amp * np.exp(-abs(x) / lambdas)\n",
    "    return amplitude * np.cos(omega * x)\n",
    "\n",
    "LAMBDA_PLUS_TRUE = 1.0\n",
    "LAMBDA_MINUS_TRUE = 4\n",
    "MAX_AMP_TRUE = 1.2\n",
    "OMEGA_0_TRUE = 3.0\n",
    "OMEGA_MAX_TRUE = 6.0\n",
    "OMEGA_SIGMA_TRUE = 4.0\n",
    "\n",
    "xi = np.linspace(-15, 5, 200)\n",
    "true_yi = # your code here\n",
    "\n",
    "# your plotting code here\n",
    "-->\n",
    "\n",
    "<!--\n",
    "#solution\n",
    "import numpy as np\n",
    "import matplotlib.pyplot as plt\n",
    "\n",
    "np.random.seed(0x98a09fe)\n",
    "\n",
    "def complicated_model_fn(x, lambda_plus, lambda_minus, max_amp, omega_0, omega_max, omega_sigma):\n",
    "    omega = (omega_max - omega_0) * (np.exp(-np.minimum(x, 0)**2 / omega_sigma)) + omega_0\n",
    "    lambdas = np.array([lambda_plus if xvalue > 0 else lambda_minus for xvalue in x])\n",
    "    amplitude = max_amp * np.exp(-abs(x) / lambdas)\n",
    "    return amplitude * np.cos(omega * x)\n",
    "\n",
    "LAMBDA_PLUS_TRUE = 1.0\n",
    "LAMBDA_MINUS_TRUE = 4\n",
    "MAX_AMP_TRUE = 1.2\n",
    "OMEGA_0_TRUE = 3.0\n",
    "OMEGA_MAX_TRUE = 6.0\n",
    "OMEGA_SIGMA_TRUE = 4.0\n",
    "\n",
    "xi = np.linspace(-15, 5, 200)\n",
    "true_yi = complicated_model_fn(xi, LAMBDA_PLUS_TRUE, LAMBDA_MINUS_TRUE, MAX_AMP_TRUE, OMEGA_0_TRUE,\n",
    "                                   OMEGA_MAX_TRUE, OMEGA_SIGMA_TRUE)\n",
    "\n",
    "plt.plot(xi, true_yi)\n",
    "plt.xlabel(\"Time (s)\")\n",
    "plt.ylabel(\"Strain\");\n",
    "-->\n",
    "\n",
    "<!--end-block-->"
   ]
  },
  {
   "cell_type": "code",
   "execution_count": 2,
   "metadata": {},
   "outputs": [
    {
     "data": {
      "text/plain": [
       "[<matplotlib.lines.Line2D at 0x7fcf3c709fd0>]"
      ]
     },
     "execution_count": 2,
     "metadata": {},
     "output_type": "execute_result"
    },
    {
     "data": {
      "image/png": "[encoded data removed]",
      "text/plain": [
       "<Figure size 432x288 with 1 Axes>"
      ]
     },
     "metadata": {
      "needs_background": "light"
     },
     "output_type": "display_data"
    }
   ],
   "source": [
    "import numpy as np\n",
    "import matplotlib.pyplot as plt\n",
    "\n",
    "np.random.seed(0x98a09fe)\n",
    "\n",
    "def complicated_model_fn(x, lambda_plus, lambda_minus, max_amp, omega_0, omega_max, omega_sigma):\n",
    "    omega = (omega_max - omega_0) * (np.exp(-np.minimum(x, 0)**2 / omega_sigma)) + omega_0\n",
    "    lambdas = np.array([lambda_plus if xvalue > 0 else lambda_minus for xvalue in x])\n",
    "    amplitude = max_amp * np.exp(-abs(x) / lambdas)\n",
    "    return amplitude * np.cos(omega * x)\n",
    "\n",
    "LAMBDA_PLUS_TRUE = 1.0\n",
    "LAMBDA_MINUS_TRUE = 4\n",
    "MAX_AMP_TRUE = 1.2\n",
    "OMEGA_0_TRUE = 3.0\n",
    "OMEGA_MAX_TRUE = 6.0\n",
    "OMEGA_SIGMA_TRUE = 4.0\n",
    "\n",
    "xi = np.linspace(-15, 5, 200)\n",
    "true_yi = complicated_model_fn(xi, LAMBDA_PLUS_TRUE, LAMBDA_MINUS_TRUE, MAX_AMP_TRUE, OMEGA_0_TRUE, OMEGA_MAX_TRUE, OMEGA_SIGMA_TRUE)\n",
    "plt.plot(xi, true_yi)"
   ]
  },
  {
   "cell_type": "markdown",
   "metadata": {},
   "source": [
    "<!--start-block-->\n",
    "#### <span style=\"color:green\">>>>RUN</span>\n",
    "\n",
    "Now we add noise to the data, but not by individually moving data points like we did in the past. To better imitate the LIGO project, we'll add low-amplitude sine waves at different frequencies immitating different noises.\n",
    "\n",
    "Note: this will mean that uncertainties on each data point are actually correlated, which violates the assumptions `LMFIT` uses to perform the fit. However, this problem is too complicated for us to handle now, so we ignore it.\n",
    "\n",
    "<!--\n",
    "#initial code\n",
    "NUMBER_SINES_TO_ADD = 10\n",
    "\n",
    "noise_frequencies = 0.5 + 7 * np.random.random(NUMBER_SINES_TO_ADD)\n",
    "noise_phases = 2 * np.pi * np.random.random(NUMBER_SINES_TO_ADD)\n",
    "noise_amplitudes = 2 * MAX_AMP_TRUE / NUMBER_SINES_TO_ADD * np.random.random(NUMBER_SINES_TO_ADD)\n",
    "    # The above line sets noise amplitudes so that the sum of all the noise amplitudes is on average\n",
    "    # equal to the maximum amplitude of the signal.\n",
    "\n",
    "yi = true_yi.copy()# yi contains the data\n",
    "\n",
    "for freq, phase, amplitude in zip(noise_frequencies, noise_phases, noise_amplitudes):\n",
    "    yi += amplitude * np.sin(phase + freq * xi)\n",
    "\n",
    "plt.plot(xi, yi, label='Data')\n",
    "plt.plot(xi, true_yi, label='True')\n",
    "plt.xlabel(\"Time (s)\")\n",
    "plt.ylabel(\"Strain\")\n",
    "plt.legend();\n",
    "-->\n",
    "\n",
    "<!--end-block-->"
   ]
  },
  {
   "cell_type": "code",
   "execution_count": 3,
   "metadata": {},
   "outputs": [
    {
     "data": {
      "image/png": "[encoded data removed]",
      "text/plain": [
       "<Figure size 432x288 with 1 Axes>"
      ]
     },
     "metadata": {
      "needs_background": "light"
     },
     "output_type": "display_data"
    }
   ],
   "source": [
    "NUMBER_SINES_TO_ADD = 10\n",
    "\n",
    "noise_frequencies = 0.5 + 7 * np.random.random(NUMBER_SINES_TO_ADD)\n",
    "noise_phases = 2 * np.pi * np.random.random(NUMBER_SINES_TO_ADD)\n",
    "noise_amplitudes = 2 * MAX_AMP_TRUE / NUMBER_SINES_TO_ADD * np.random.random(NUMBER_SINES_TO_ADD)\n",
    "    # The above line sets noise amplitudes so that the sum of all the noise amplitudes is on average\n",
    "    # equal to the maximum amplitude of the signal.\n",
    "\n",
    "yi = true_yi.copy()# yi contains the data\n",
    "\n",
    "for freq, phase, amplitude in zip(noise_frequencies, noise_phases, noise_amplitudes):\n",
    "    yi += amplitude * np.sin(phase + freq * xi)\n",
    "\n",
    "plt.plot(xi, yi, label='Data')\n",
    "plt.plot(xi, true_yi, label='True')\n",
    "plt.xlabel(\"Time (s)\")\n",
    "plt.ylabel(\"Strain\")\n",
    "plt.legend();"
   ]
  },
  {
   "cell_type": "markdown",
   "metadata": {},
   "source": [
    "<!--start-block-->\n",
    "#### <span style=\"color:green\">>>>RUN</span>\n",
    "\n",
    "Make an `LMFIT` model and parameters for this function.\n",
    "\n",
    "<!--\n",
    "#initial code\n",
    "from lmfit import Model, Parameters\n",
    "\n",
    "model = Model(complicated_model_fn)\n",
    "\n",
    "params = Parameters()\n",
    "params.add('lambda_plus', min=0.1, max=5, value=1.1)\n",
    "params.add('lambda_minus', min=0.1, max=5, value=1)\n",
    "params.add('max_amp', min=0, max=2, value=1)\n",
    "params.add('omega_0', min=0, max=5, value=1)\n",
    "params.add('omega_max', min=0, max=10, value=1)\n",
    "params.add('omega_sigma', min=0, max=5, value=1)\n",
    "-->\n",
    "\n",
    "<!--end-block-->"
   ]
  },
  {
   "cell_type": "code",
   "execution_count": 4,
   "metadata": {},
   "outputs": [],
   "source": [
    "from lmfit import Model, Parameters\n",
    "\n",
    "model = Model(complicated_model_fn)\n",
    "\n",
    "params = Parameters()\n",
    "params.add('lambda_plus', min=0.1, max=5, value=1.1)\n",
    "params.add('lambda_minus', min=0.1, max=5, value=1)\n",
    "params.add('max_amp', min=0, max=2, value=1)\n",
    "params.add('omega_0', min=0, max=5, value=1)\n",
    "params.add('omega_max', min=0, max=10, value=1)\n",
    "params.add('omega_sigma', min=0, max=5, value=1)"
   ]
  },
  {
   "cell_type": "markdown",
   "metadata": {},
   "source": [
    "<!--start-block-->\n",
    "#### <span style=\"color:#BA2220\">>>>EXERCISE</span>\n",
    "\n",
    "Using the `model` and `params` variables you made above, fit to the waveform signal. Do not include a weights argument; this will set the uncertainties on all data points equal to each other. Remember to plot the result.\n",
    "\n",
    "<!--\n",
    "#initial code\n",
    "#your code here\n",
    "-->\n",
    "\n",
    "<!--\n",
    "#solution\n",
    "result = model.fit(yi, params, x=xi)\n",
    "print(result.fit_report())\n",
    "result.plot()\n",
    "-->\n",
    "\n",
    "<!--end-block-->"
   ]
  },
  {
   "cell_type": "code",
   "execution_count": 5,
   "metadata": {},
   "outputs": [
    {
     "name": "stdout",
     "output_type": "stream",
     "text": [
      "[[Model]]\n",
      "    Model(complicated_model_fn)\n",
      "[[Fit Statistics]]\n",
      "    # fitting method   = leastsq\n",
      "    # function evals   = 130\n",
      "    # data points      = 200\n",
      "    # variables        = 6\n",
      "    chi-square         = 33.2100288\n",
      "    reduced chi-square = 0.17118572\n",
      "    Akaike info crit   = -347.093093\n",
      "    Bayesian info crit = -327.303188\n",
      "[[Variables]]\n",
      "    lambda_plus:   0.10000000 +/- 0.11023600 (110.24%) (init = 1.1)\n",
      "    lambda_minus:  5.00000000 +/- 1.51850722 (30.37%) (init = 1)\n",
      "    max_amp:       0.75025364 +/- 0.14523722 (19.36%) (init = 1)\n",
      "    omega_0:       1.35011093 +/- 0.05271525 (3.90%) (init = 1)\n",
      "    omega_max:     1.2412e-09 +/- 0.86082978 (69353805963.40%) (init = 1)\n",
      "    omega_sigma:   3.80397526 +/- 2.62427946 (68.99%) (init = 1)\n",
      "[[Correlations]] (unreported correlations are < 0.100)\n",
      "    C(omega_max, omega_sigma)    = 0.904\n",
      "    C(lambda_minus, max_amp)     = -0.648\n",
      "    C(max_amp, omega_max)        = 0.385\n",
      "    C(omega_0, omega_sigma)      = 0.372\n",
      "    C(max_amp, omega_sigma)      = 0.318\n",
      "    C(omega_0, omega_max)        = 0.242\n",
      "    C(lambda_plus, max_amp)      = -0.159\n",
      "    C(lambda_minus, omega_max)   = -0.147\n",
      "    C(lambda_minus, omega_sigma) = -0.118\n",
      "    C(lambda_plus, lambda_minus) = 0.103\n"
     ]
    },
    {
     "data": {
      "image/png": "[encoded data removed]",
      "text/plain": [
       "<Figure size 432x432 with 2 Axes>"
      ]
     },
     "metadata": {
      "needs_background": "light"
     },
     "output_type": "display_data"
    }
   ],
   "source": [
    "result = model.fit(yi, params, x=xi);\n",
    "\n",
    "print(result.fit_report())\n",
    "\n",
    "result.plot();"
   ]
  },
  {
   "cell_type": "markdown",
   "metadata": {},
   "source": [
    "<!--start-block-->\n",
    "#### <span style=\"color:purple\">>>>QUESTION</span>\n",
    "\n",
    "\n",
    "Are you happy with the fit?\n",
    "\n",
    "#### <span style=\"color:purple\">>>>ANSWER</span>\n",
    "\n",
    "No, it doesn't look like it usually fits the data\n",
    "<!--\n",
    "#solution\n",
    "No; we didn't recover the right parameters and the residuals are pretty large and don't really look like noise.\n",
    "-->\n",
    "\n",
    "\n",
    "<br>\n",
    "<!--end-block-->"
   ]
  },
  {
   "cell_type": "markdown",
   "metadata": {},
   "source": [
    "<!--start-block-->\n",
    "#### <span style=\"color:#BA2220\">>>>EXERCISE</span>\n",
    "\n",
    "Let's try to get better fit results. We'll do this by running the fit many times with different initial values and taking the best fit. This is a nice, principled way to get a good fit without knowing the true fit values. \n",
    "\n",
    "First, write a function that generates a new `params` varaible with initial values chosen randomly in the ranges given in the `params_max_min` dictionary.\n",
    "\n",
    "<!--\n",
    "#initial code\n",
    "from lmfit import Model, Parameters\n",
    "\n",
    "params_min_max = {\n",
    "    'lambda_plus': (0.1, 5),\n",
    "    'lambda_minus': (0.1, 5),\n",
    "    'max_amp': (0, 2),\n",
    "    'omega_0': (0, 5),\n",
    "    'omega_max': (0, 10),\n",
    "    'omega_sigma': (0, 5)\n",
    "}\n",
    "params_trues = {\n",
    "    'lambda_plus': LAMBDA_PLUS_TRUE,\n",
    "    'lambda_minus': LAMBDA_MINUS_TRUE,\n",
    "    'max_amp': MAX_AMP_TRUE,\n",
    "    'omega_0': OMEGA_0_TRUE,\n",
    "    'omega_max': OMEGA_MAX_TRUE,\n",
    "    'omega_sigma': OMEGA_SIGMA_TRUE\n",
    "}\n",
    "\n",
    "def get_params():\n",
    "    #your code here\n",
    "-->\n",
    "\n",
    "<!--\n",
    "#solution\n",
    "from lmfit import Model, Parameters\n",
    "\n",
    "params_min_max = {\n",
    "    'lambda_plus': (0.1, 5),\n",
    "    'lambda_minus': (0.1, 5),\n",
    "    'max_amp': (0, 2),\n",
    "    'omega_0': (0, 5),\n",
    "    'omega_max': (0, 10),\n",
    "    'omega_sigma': (0, 5)\n",
    "}\n",
    "params_trues = {\n",
    "    'lambda_plus': LAMBDA_PLUS_TRUE,\n",
    "    'lambda_minus': LAMBDA_MINUS_TRUE,\n",
    "    'max_amp': MAX_AMP_TRUE,\n",
    "    'omega_0': OMEGA_0_TRUE,\n",
    "    'omega_max': OMEGA_MAX_TRUE,\n",
    "    'omega_sigma': OMEGA_SIGMA_TRUE\n",
    "}\n",
    "\n",
    "def get_params():\n",
    "    params = Parameters()\n",
    "    for p, (p_min, p_max) in params_min_max.items():\n",
    "        value = p_min + (p_max - p_min) * np.random.random(1)\n",
    "        params.add(p, min=p_min, max=p_max, value=v\n",
    "    return params\n",
    "-->\n",
    "\n",
    "<!--end-block-->\n",
    "\n"
   ]
  },
  {
   "cell_type": "code",
   "execution_count": 10,
   "metadata": {},
   "outputs": [],
   "source": [
    "from lmfit import Model, Parameters\n",
    "\n",
    "params_min_max = {\n",
    "    'lambda_plus': (0.1, 5),\n",
    "    'lambda_minus': (0.1, 5),\n",
    "    'max_amp': (0, 2),\n",
    "    'omega_0': (0, 5),\n",
    "    'omega_max': (0, 10),\n",
    "    'omega_sigma': (0, 5)\n",
    "}\n",
    "params_trues = {\n",
    "    'lambda_plus': LAMBDA_PLUS_TRUE,\n",
    "    'lambda_minus': LAMBDA_MINUS_TRUE,\n",
    "    'max_amp': MAX_AMP_TRUE,\n",
    "    'omega_0': OMEGA_0_TRUE,\n",
    "    'omega_max': OMEGA_MAX_TRUE,\n",
    "    'omega_sigma': OMEGA_SIGMA_TRUE\n",
    "}\n",
    "\n",
    "def get_params():\n",
    "    params = Parameters()\n",
    "    for p, (p_min, p_max) in params_min_max.items():\n",
    "        value = p_min + (p_max - p_min) * np.random.random(1)\n",
    "        params.add(p, min=p_min, max=p_max, value=value)\n",
    "    return params"
   ]
  },
  {
   "cell_type": "markdown",
   "metadata": {},
   "source": [
    "<!--start-block-->\n",
    "#### <span style=\"color:green\">>>>RUN</span>\n",
    "\n",
    "Now we write a function that fits using these random parameters, returning the chi squared value and the fit result.\n",
    "\n",
    "<!--\n",
    "#initial code\n",
    "def fit(empty_arg):\n",
    "    model = Model(complicated_model_fn)\n",
    "    params = get_params()\n",
    "    result = model.fit(yi, params, x=xi)\n",
    "    return result.chisqr, result\n",
    "-->\n",
    "\n",
    "<!--end-block-->\n",
    "\n"
   ]
  },
  {
   "cell_type": "code",
   "execution_count": 7,
   "metadata": {},
   "outputs": [],
   "source": [
    "def fit(empty_arg):\n",
    "    model = Model(complicated_model_fn)\n",
    "    params = get_params()\n",
    "    result = model.fit(yi, params, x=xi)\n",
    "    return result.chisqr, result"
   ]
  },
  {
   "cell_type": "markdown",
   "metadata": {},
   "source": [
    "<!--start-block-->\n",
    "#### <span style=\"color:green\">>>>RUN</span>\n",
    "\n",
    "Using the `multiprocessing` module to parallelize the operation and make it faster, we perform this fit with different parameters 50 times and store the results for all 50 in the results array.\n",
    "\n",
    "<!--\n",
    "#initial code\n",
    "from multiprocessing import Pool\n",
    "\n",
    "NUM_FITS = 50\n",
    "\n",
    "with Pool() as pool:\n",
    "    results = pool.map(fit, np.zeros(NUM_FITS))\n",
    "-->\n",
    "\n",
    "<!--end-block-->\n",
    "\n"
   ]
  },
  {
   "cell_type": "code",
   "execution_count": 8,
   "metadata": {},
   "outputs": [],
   "source": [
    "from multiprocessing import Pool\n",
    "\n",
    "NUM_FITS = 50\n",
    "\n",
    "with Pool() as pool:\n",
    "    results = pool.map(fit, np.zeros(NUM_FITS))"
   ]
  },
  {
   "cell_type": "markdown",
   "metadata": {},
   "source": [
    "<!--start-block-->\n",
    "#### <span style=\"color:#BA2220\">>>>EXERCISE</span>\n",
    "\n",
    "Sort the `results` array generated above by the chi squared value from lowest to highest (the chi squared value is the first element of every item in `results`).\n",
    "\n",
    "Then, for the fit result with the lowest chi squared value (now the first element of sorted `results`), use the fact that the second element of the first item of `results` is the fit result object to print the `fit_report()` and show the `plot()`.\n",
    "\n",
    "<!--\n",
    "#initial code\n",
    "#your code here\n",
    "-->\n",
    "\n",
    "<!--\n",
    "#solution\n",
    "results = sorted(results, key=lambda x:x[0])\n",
    "\n",
    "print(results[0][1].fit_report())\n",
    "results[0][1].plot();\n",
    "-->\n",
    "\n",
    "<!--end-block-->\n",
    "\n"
   ]
  },
  {
   "cell_type": "code",
   "execution_count": 11,
   "metadata": {},
   "outputs": [
    {
     "ename": "TypeError",
     "evalue": "unsupported format string passed to numpy.ndarray.__format__",
     "output_type": "error",
     "traceback": [
      "\u001b[0;31m---------------------------------------------------------------------------\u001b[0m",
      "\u001b[0;31mTypeError\u001b[0m                                 Traceback (most recent call last)",
      "\u001b[0;32m/tmp/ipykernel_9124/705942314.py\u001b[0m in \u001b[0;36m<module>\u001b[0;34m\u001b[0m\n\u001b[1;32m      1\u001b[0m \u001b[0mresults\u001b[0m \u001b[0;34m=\u001b[0m \u001b[0msorted\u001b[0m\u001b[0;34m(\u001b[0m\u001b[0mresults\u001b[0m\u001b[0;34m,\u001b[0m \u001b[0mkey\u001b[0m\u001b[0;34m=\u001b[0m\u001b[0;32mlambda\u001b[0m \u001b[0mx\u001b[0m\u001b[0;34m:\u001b[0m\u001b[0mx\u001b[0m\u001b[0;34m[\u001b[0m\u001b[0;36m0\u001b[0m\u001b[0;34m]\u001b[0m\u001b[0;34m)\u001b[0m\u001b[0;34m\u001b[0m\u001b[0;34m\u001b[0m\u001b[0m\n\u001b[1;32m      2\u001b[0m \u001b[0;34m\u001b[0m\u001b[0m\n\u001b[0;32m----> 3\u001b[0;31m \u001b[0mprint\u001b[0m\u001b[0;34m(\u001b[0m\u001b[0mresults\u001b[0m\u001b[0;34m[\u001b[0m\u001b[0;36m0\u001b[0m\u001b[0;34m]\u001b[0m\u001b[0;34m[\u001b[0m\u001b[0;36m1\u001b[0m\u001b[0;34m]\u001b[0m\u001b[0;34m.\u001b[0m\u001b[0mfit_report\u001b[0m\u001b[0;34m(\u001b[0m\u001b[0;34m)\u001b[0m\u001b[0;34m)\u001b[0m\u001b[0;34m\u001b[0m\u001b[0;34m\u001b[0m\u001b[0m\n\u001b[0m\u001b[1;32m      4\u001b[0m \u001b[0mresults\u001b[0m\u001b[0;34m[\u001b[0m\u001b[0;36m0\u001b[0m\u001b[0;34m]\u001b[0m\u001b[0;34m[\u001b[0m\u001b[0;36m1\u001b[0m\u001b[0;34m]\u001b[0m\u001b[0;34m.\u001b[0m\u001b[0mplot\u001b[0m\u001b[0;34m(\u001b[0m\u001b[0;34m)\u001b[0m\u001b[0;34m\u001b[0m\u001b[0;34m\u001b[0m\u001b[0m\n",
      "\u001b[0;32m~/miniconda3/envs/8.s05/lib/python3.9/site-packages/lmfit/model.py\u001b[0m in \u001b[0;36mfit_report\u001b[0;34m(self, modelpars, show_correl, min_correl, sort_pars)\u001b[0m\n\u001b[1;32m   1611\u001b[0m \u001b[0;34m\u001b[0m\u001b[0m\n\u001b[1;32m   1612\u001b[0m         \"\"\"\n\u001b[0;32m-> 1613\u001b[0;31m         report = fit_report(self, modelpars=modelpars,\n\u001b[0m\u001b[1;32m   1614\u001b[0m                             \u001b[0mshow_correl\u001b[0m\u001b[0;34m=\u001b[0m\u001b[0mshow_correl\u001b[0m\u001b[0;34m,\u001b[0m\u001b[0;34m\u001b[0m\u001b[0;34m\u001b[0m\u001b[0m\n\u001b[1;32m   1615\u001b[0m                             min_correl=min_correl, sort_pars=sort_pars)\n",
      "\u001b[0;32m~/miniconda3/envs/8.s05/lib/python3.9/site-packages/lmfit/printfuncs.py\u001b[0m in \u001b[0;36mfit_report\u001b[0;34m(inpars, modelpars, show_correl, min_correl, sort_pars)\u001b[0m\n\u001b[1;32m    163\u001b[0m         \u001b[0minval\u001b[0m \u001b[0;34m=\u001b[0m \u001b[0;34m'(init = ?)'\u001b[0m\u001b[0;34m\u001b[0m\u001b[0;34m\u001b[0m\u001b[0m\n\u001b[1;32m    164\u001b[0m         \u001b[0;32mif\u001b[0m \u001b[0mpar\u001b[0m\u001b[0;34m.\u001b[0m\u001b[0minit_value\u001b[0m \u001b[0;32mis\u001b[0m \u001b[0;32mnot\u001b[0m \u001b[0;32mNone\u001b[0m\u001b[0;34m:\u001b[0m\u001b[0;34m\u001b[0m\u001b[0;34m\u001b[0m\u001b[0m\n\u001b[0;32m--> 165\u001b[0;31m             \u001b[0minval\u001b[0m \u001b[0;34m=\u001b[0m \u001b[0;34mf'(init = {par.init_value:.7g})'\u001b[0m\u001b[0;34m\u001b[0m\u001b[0;34m\u001b[0m\u001b[0m\n\u001b[0m\u001b[1;32m    166\u001b[0m         \u001b[0;32mif\u001b[0m \u001b[0mmodelpars\u001b[0m \u001b[0;32mis\u001b[0m \u001b[0;32mnot\u001b[0m \u001b[0;32mNone\u001b[0m \u001b[0;32mand\u001b[0m \u001b[0mname\u001b[0m \u001b[0;32min\u001b[0m \u001b[0mmodelpars\u001b[0m\u001b[0;34m:\u001b[0m\u001b[0;34m\u001b[0m\u001b[0;34m\u001b[0m\u001b[0m\n\u001b[1;32m    167\u001b[0m             \u001b[0minval\u001b[0m \u001b[0;34m=\u001b[0m \u001b[0;34mf'{inval}, model_value = {modelpars[name].value:.7g}'\u001b[0m\u001b[0;34m\u001b[0m\u001b[0;34m\u001b[0m\u001b[0m\n",
      "\u001b[0;31mTypeError\u001b[0m: unsupported format string passed to numpy.ndarray.__format__"
     ]
    }
   ],
   "source": [
    "results = sorted(results, key=lambda x:x[0])\n",
    "\n",
    "print(results[0][1].fit_report())\n",
    "results[0][1].plot()"
   ]
  },
  {
   "cell_type": "markdown",
   "metadata": {},
   "source": [
    "<!--start-block-->\n",
    "#### <span style=\"color:#BA2220\">>>>EXERCISE</span>\n",
    "\n",
    "For each parameter of the best fit result, display the true value (stored in `params_trues`), the fit value, the fit uncertainty, and the the difference between the true and fit values divided by the fit uncertainty.\n",
    "\n",
    "<!--\n",
    "#initial code\n",
    "#your code here\n",
    "-->\n",
    "\n",
    "<!--\n",
    "#solution\n",
    "for param, info in results[0][1].params.items():\n",
    "    print(f\"{param}:\\tTrue: {float(params_trues[param])}\\tFit: {info.value} +/- {info.stderr}\"+\\\n",
    "          f\"\\tSigmas: {abs(info.value - params_trues[param]) / info.stderr}\")\n",
    "-->\n",
    "\n",
    "<!--end-block-->"
   ]
  },
  {
   "cell_type": "code",
   "execution_count": 20,
   "metadata": {},
   "outputs": [
    {
     "name": "stdout",
     "output_type": "stream",
     "text": [
      "lambda_plus:\tTrue: 1.0\tFit: 1.048959947471869 +/- 0.1841728709861664\tSigmas: 0.26583691294873946\n",
      "lambda_minus:\tTrue: 4.0\tFit: 3.0787615686644996 +/- 0.3693582193766582\tSigmas: 2.4941598237348406\n",
      "max_amp:\tTrue: 1.2\tFit: 1.597109973251249 +/- 0.12518145087578136\tSigmas: 3.1722748895545614\n",
      "omega_0:\tTrue: 3.0\tFit: 2.7371811250580125 +/- 0.04264272818314242\tSigmas: 6.163275337666726\n",
      "omega_max:\tTrue: 6.0\tFit: 5.889519092839515 +/- 0.11134294087631089\tSigmas: 0.9922578503042847\n",
      "omega_sigma:\tTrue: 4.0\tFit: 4.999999915896448 +/- 0.24071039112883835\tSigmas: 4.15436953596742\n"
     ]
    }
   ],
   "source": [
    "for param, info in results[0][1].params.items():\n",
    "    print(f\"{param}:\\tTrue: {float(params_trues[param])}\\tFit: {info.value} +/- {info.stderr}\"+\\\n",
    "         f\"\\tSigmas: {abs(info.value - params_trues[param]) / info.stderr}\")"
   ]
  },
  {
   "cell_type": "markdown",
   "metadata": {},
   "source": [
    "<!--start-block-->\n",
    "#### <span style=\"color:purple\">>>>QUESTION</span>\n",
    "\n",
    "\n",
    "Are you happier with the fit now? What are some other things you might do to get an even better result?\n",
    "\n",
    "<!--\n",
    "#solution\n",
    "Yes; the true values are much closer to the fit values and the residuals look better. You might improve results by:\n",
    "- fitting over more initial parameters than 50\n",
    "- acknowledge uncertainty correlation\n",
    "- change the model function parameterization so that each parameter is more independent.\n",
    "- separate the hard-to-fit-for parts of the model function from the easy-to-fit-for so that the error bars on the easy-to-fit-for parameters are small\n",
    "-->\n",
    "\n",
    "\n",
    "<br>\n",
    "<!--end-block-->"
   ]
  },
  {
   "cell_type": "markdown",
   "metadata": {},
   "source": [
    "<!--start-block-->\n",
    "\n",
    "<hr style=\"height: 1px;\">\n",
    "\n",
    "## 3.4 Interpreting bugs with `LMFIT`\n",
    "\n",
    "Let's walk through a couple common bugs you might encounter when using `LMFIT`, so you know what causes them. (These are bugs in your code, not `LMFIT`).\n",
    "\n",
    "<!--end-block-->"
   ]
  },
  {
   "cell_type": "markdown",
   "metadata": {},
   "source": [
    "<!--start-block-->\n",
    "#### <span style=\"color:green\">>>>RUN</span>\n",
    "\n",
    "### Bug 1\n",
    "\n",
    "Let's run the code from example 3.2, but take out the parameter limits on $k$. (Make sure you run the 3.2 blocks of code before running this one.)\n",
    "\n",
    "<!--\n",
    "#initial code\n",
    "from lmfit import Model, Parameters\n",
    "\n",
    "model = Model(model_fn)\n",
    "params = Parameters()\n",
    "params.add('k')\n",
    "params.add('a', min=0, max=3, value=2)\n",
    "\n",
    "result = model.fit(y, params, x=x, weights=1/y_unc);\n",
    "\n",
    "print(result.fit_report())\n",
    "\n",
    "result.plot();\n",
    "\n",
    "#THROWS AN ERROR\n",
    "-->\n",
    "\n",
    "<!--end-block-->"
   ]
  },
  {
   "cell_type": "code",
   "execution_count": 26,
   "metadata": {},
   "outputs": [
    {
     "name": "stderr",
     "output_type": "stream",
     "text": [
      "/tmp/ipykernel_8939/1320781351.py:4: RuntimeWarning: invalid value encountered in cos\n",
      "  return np.cos(k * x) / x**a\n"
     ]
    },
    {
     "ename": "ValueError",
     "evalue": "The model function generated NaN values and the fit aborted! Please check your model function and/or set boundaries on parameters where applicable. In cases like this, using \"nan_policy='omit'\" will probably not work.",
     "output_type": "error",
     "traceback": [
      "\u001b[0;31m---------------------------------------------------------------------------\u001b[0m",
      "\u001b[0;31mValueError\u001b[0m                                Traceback (most recent call last)",
      "\u001b[0;32m/tmp/ipykernel_8939/1331090749.py\u001b[0m in \u001b[0;36m<module>\u001b[0;34m\u001b[0m\n\u001b[1;32m      6\u001b[0m \u001b[0mparams\u001b[0m\u001b[0;34m.\u001b[0m\u001b[0madd\u001b[0m\u001b[0;34m(\u001b[0m\u001b[0;34m'a'\u001b[0m\u001b[0;34m,\u001b[0m \u001b[0mmin\u001b[0m\u001b[0;34m=\u001b[0m\u001b[0;36m0\u001b[0m\u001b[0;34m,\u001b[0m \u001b[0mmax\u001b[0m\u001b[0;34m=\u001b[0m\u001b[0;36m3\u001b[0m\u001b[0;34m,\u001b[0m \u001b[0mvalue\u001b[0m\u001b[0;34m=\u001b[0m\u001b[0;36m2\u001b[0m\u001b[0;34m)\u001b[0m\u001b[0;34m\u001b[0m\u001b[0;34m\u001b[0m\u001b[0m\n\u001b[1;32m      7\u001b[0m \u001b[0;34m\u001b[0m\u001b[0m\n\u001b[0;32m----> 8\u001b[0;31m \u001b[0mresult\u001b[0m \u001b[0;34m=\u001b[0m \u001b[0mmodel\u001b[0m\u001b[0;34m.\u001b[0m\u001b[0mfit\u001b[0m\u001b[0;34m(\u001b[0m\u001b[0my\u001b[0m\u001b[0;34m,\u001b[0m \u001b[0mparams\u001b[0m\u001b[0;34m,\u001b[0m \u001b[0mx\u001b[0m\u001b[0;34m=\u001b[0m\u001b[0mx\u001b[0m\u001b[0;34m,\u001b[0m \u001b[0mweights\u001b[0m\u001b[0;34m=\u001b[0m\u001b[0;36m1\u001b[0m\u001b[0;34m/\u001b[0m\u001b[0my_unc\u001b[0m\u001b[0;34m)\u001b[0m\u001b[0;34m;\u001b[0m\u001b[0;34m\u001b[0m\u001b[0;34m\u001b[0m\u001b[0m\n\u001b[0m\u001b[1;32m      9\u001b[0m \u001b[0;34m\u001b[0m\u001b[0m\n\u001b[1;32m     10\u001b[0m \u001b[0mprint\u001b[0m\u001b[0;34m(\u001b[0m\u001b[0mresult\u001b[0m\u001b[0;34m.\u001b[0m\u001b[0mfit_report\u001b[0m\u001b[0;34m(\u001b[0m\u001b[0;34m)\u001b[0m\u001b[0;34m)\u001b[0m\u001b[0;34m\u001b[0m\u001b[0;34m\u001b[0m\u001b[0m\n",
      "\u001b[0;32m~/miniconda3/envs/8.s05/lib/python3.9/site-packages/lmfit/model.py\u001b[0m in \u001b[0;36mfit\u001b[0;34m(self, data, params, weights, method, iter_cb, scale_covar, verbose, fit_kws, nan_policy, calc_covar, max_nfev, **kwargs)\u001b[0m\n\u001b[1;32m   1048\u001b[0m                              \u001b[0mnan_policy\u001b[0m\u001b[0;34m=\u001b[0m\u001b[0mself\u001b[0m\u001b[0;34m.\u001b[0m\u001b[0mnan_policy\u001b[0m\u001b[0;34m,\u001b[0m \u001b[0mcalc_covar\u001b[0m\u001b[0;34m=\u001b[0m\u001b[0mcalc_covar\u001b[0m\u001b[0;34m,\u001b[0m\u001b[0;34m\u001b[0m\u001b[0;34m\u001b[0m\u001b[0m\n\u001b[1;32m   1049\u001b[0m                              max_nfev=max_nfev, **fit_kws)\n\u001b[0;32m-> 1050\u001b[0;31m         \u001b[0moutput\u001b[0m\u001b[0;34m.\u001b[0m\u001b[0mfit\u001b[0m\u001b[0;34m(\u001b[0m\u001b[0mdata\u001b[0m\u001b[0;34m=\u001b[0m\u001b[0mdata\u001b[0m\u001b[0;34m,\u001b[0m \u001b[0mweights\u001b[0m\u001b[0;34m=\u001b[0m\u001b[0mweights\u001b[0m\u001b[0;34m)\u001b[0m\u001b[0;34m\u001b[0m\u001b[0;34m\u001b[0m\u001b[0m\n\u001b[0m\u001b[1;32m   1051\u001b[0m         \u001b[0moutput\u001b[0m\u001b[0;34m.\u001b[0m\u001b[0mcomponents\u001b[0m \u001b[0;34m=\u001b[0m \u001b[0mself\u001b[0m\u001b[0;34m.\u001b[0m\u001b[0mcomponents\u001b[0m\u001b[0;34m\u001b[0m\u001b[0;34m\u001b[0m\u001b[0m\n\u001b[1;32m   1052\u001b[0m         \u001b[0;32mreturn\u001b[0m \u001b[0moutput\u001b[0m\u001b[0;34m\u001b[0m\u001b[0;34m\u001b[0m\u001b[0m\n",
      "\u001b[0;32m~/miniconda3/envs/8.s05/lib/python3.9/site-packages/lmfit/model.py\u001b[0m in \u001b[0;36mfit\u001b[0;34m(self, data, params, weights, method, nan_policy, **kwargs)\u001b[0m\n\u001b[1;32m   1403\u001b[0m         \u001b[0mself\u001b[0m\u001b[0;34m.\u001b[0m\u001b[0muserkws\u001b[0m\u001b[0;34m.\u001b[0m\u001b[0mupdate\u001b[0m\u001b[0;34m(\u001b[0m\u001b[0mkwargs\u001b[0m\u001b[0;34m)\u001b[0m\u001b[0;34m\u001b[0m\u001b[0;34m\u001b[0m\u001b[0m\n\u001b[1;32m   1404\u001b[0m         \u001b[0mself\u001b[0m\u001b[0;34m.\u001b[0m\u001b[0minit_fit\u001b[0m \u001b[0;34m=\u001b[0m \u001b[0mself\u001b[0m\u001b[0;34m.\u001b[0m\u001b[0mmodel\u001b[0m\u001b[0;34m.\u001b[0m\u001b[0meval\u001b[0m\u001b[0;34m(\u001b[0m\u001b[0mparams\u001b[0m\u001b[0;34m=\u001b[0m\u001b[0mself\u001b[0m\u001b[0;34m.\u001b[0m\u001b[0mparams\u001b[0m\u001b[0;34m,\u001b[0m \u001b[0;34m**\u001b[0m\u001b[0mself\u001b[0m\u001b[0;34m.\u001b[0m\u001b[0muserkws\u001b[0m\u001b[0;34m)\u001b[0m\u001b[0;34m\u001b[0m\u001b[0;34m\u001b[0m\u001b[0m\n\u001b[0;32m-> 1405\u001b[0;31m         \u001b[0m_ret\u001b[0m \u001b[0;34m=\u001b[0m \u001b[0mself\u001b[0m\u001b[0;34m.\u001b[0m\u001b[0mminimize\u001b[0m\u001b[0;34m(\u001b[0m\u001b[0mmethod\u001b[0m\u001b[0;34m=\u001b[0m\u001b[0mself\u001b[0m\u001b[0;34m.\u001b[0m\u001b[0mmethod\u001b[0m\u001b[0;34m)\u001b[0m\u001b[0;34m\u001b[0m\u001b[0;34m\u001b[0m\u001b[0m\n\u001b[0m\u001b[1;32m   1406\u001b[0m \u001b[0;34m\u001b[0m\u001b[0m\n\u001b[1;32m   1407\u001b[0m         \u001b[0;32mfor\u001b[0m \u001b[0mattr\u001b[0m \u001b[0;32min\u001b[0m \u001b[0mdir\u001b[0m\u001b[0;34m(\u001b[0m\u001b[0m_ret\u001b[0m\u001b[0;34m)\u001b[0m\u001b[0;34m:\u001b[0m\u001b[0;34m\u001b[0m\u001b[0;34m\u001b[0m\u001b[0m\n",
      "\u001b[0;32m~/miniconda3/envs/8.s05/lib/python3.9/site-packages/lmfit/minimizer.py\u001b[0m in \u001b[0;36mminimize\u001b[0;34m(self, method, params, **kws)\u001b[0m\n\u001b[1;32m   2350\u001b[0m                         val.lower().startswith(user_method)):\n\u001b[1;32m   2351\u001b[0m                     \u001b[0mkwargs\u001b[0m\u001b[0;34m[\u001b[0m\u001b[0;34m'method'\u001b[0m\u001b[0;34m]\u001b[0m \u001b[0;34m=\u001b[0m \u001b[0mval\u001b[0m\u001b[0;34m\u001b[0m\u001b[0;34m\u001b[0m\u001b[0m\n\u001b[0;32m-> 2352\u001b[0;31m         \u001b[0;32mreturn\u001b[0m \u001b[0mfunction\u001b[0m\u001b[0;34m(\u001b[0m\u001b[0;34m**\u001b[0m\u001b[0mkwargs\u001b[0m\u001b[0;34m)\u001b[0m\u001b[0;34m\u001b[0m\u001b[0;34m\u001b[0m\u001b[0m\n\u001b[0m\u001b[1;32m   2353\u001b[0m \u001b[0;34m\u001b[0m\u001b[0m\n\u001b[1;32m   2354\u001b[0m \u001b[0;34m\u001b[0m\u001b[0m\n",
      "\u001b[0;32m~/miniconda3/envs/8.s05/lib/python3.9/site-packages/lmfit/minimizer.py\u001b[0m in \u001b[0;36mleastsq\u001b[0;34m(self, params, max_nfev, **kws)\u001b[0m\n\u001b[1;32m   1687\u001b[0m         \u001b[0mresult\u001b[0m\u001b[0;34m.\u001b[0m\u001b[0mcall_kws\u001b[0m \u001b[0;34m=\u001b[0m \u001b[0mlskws\u001b[0m\u001b[0;34m\u001b[0m\u001b[0;34m\u001b[0m\u001b[0m\n\u001b[1;32m   1688\u001b[0m         \u001b[0;32mtry\u001b[0m\u001b[0;34m:\u001b[0m\u001b[0;34m\u001b[0m\u001b[0;34m\u001b[0m\u001b[0m\n\u001b[0;32m-> 1689\u001b[0;31m             \u001b[0mlsout\u001b[0m \u001b[0;34m=\u001b[0m \u001b[0mscipy_leastsq\u001b[0m\u001b[0;34m(\u001b[0m\u001b[0mself\u001b[0m\u001b[0;34m.\u001b[0m\u001b[0m__residual\u001b[0m\u001b[0;34m,\u001b[0m \u001b[0mvariables\u001b[0m\u001b[0;34m,\u001b[0m \u001b[0;34m**\u001b[0m\u001b[0mlskws\u001b[0m\u001b[0;34m)\u001b[0m\u001b[0;34m\u001b[0m\u001b[0;34m\u001b[0m\u001b[0m\n\u001b[0m\u001b[1;32m   1690\u001b[0m         \u001b[0;32mexcept\u001b[0m \u001b[0mAbortFitException\u001b[0m\u001b[0;34m:\u001b[0m\u001b[0;34m\u001b[0m\u001b[0;34m\u001b[0m\u001b[0m\n\u001b[1;32m   1691\u001b[0m             \u001b[0;32mpass\u001b[0m\u001b[0;34m\u001b[0m\u001b[0;34m\u001b[0m\u001b[0m\n",
      "\u001b[0;32m~/miniconda3/envs/8.s05/lib/python3.9/site-packages/scipy/optimize/minpack.py\u001b[0m in \u001b[0;36mleastsq\u001b[0;34m(func, x0, args, Dfun, full_output, col_deriv, ftol, xtol, gtol, maxfev, epsfcn, factor, diag)\u001b[0m\n\u001b[1;32m    408\u001b[0m     \u001b[0;32mif\u001b[0m \u001b[0;32mnot\u001b[0m \u001b[0misinstance\u001b[0m\u001b[0;34m(\u001b[0m\u001b[0margs\u001b[0m\u001b[0;34m,\u001b[0m \u001b[0mtuple\u001b[0m\u001b[0;34m)\u001b[0m\u001b[0;34m:\u001b[0m\u001b[0;34m\u001b[0m\u001b[0;34m\u001b[0m\u001b[0m\n\u001b[1;32m    409\u001b[0m         \u001b[0margs\u001b[0m \u001b[0;34m=\u001b[0m \u001b[0;34m(\u001b[0m\u001b[0margs\u001b[0m\u001b[0;34m,\u001b[0m\u001b[0;34m)\u001b[0m\u001b[0;34m\u001b[0m\u001b[0;34m\u001b[0m\u001b[0m\n\u001b[0;32m--> 410\u001b[0;31m     \u001b[0mshape\u001b[0m\u001b[0;34m,\u001b[0m \u001b[0mdtype\u001b[0m \u001b[0;34m=\u001b[0m \u001b[0m_check_func\u001b[0m\u001b[0;34m(\u001b[0m\u001b[0;34m'leastsq'\u001b[0m\u001b[0;34m,\u001b[0m \u001b[0;34m'func'\u001b[0m\u001b[0;34m,\u001b[0m \u001b[0mfunc\u001b[0m\u001b[0;34m,\u001b[0m \u001b[0mx0\u001b[0m\u001b[0;34m,\u001b[0m \u001b[0margs\u001b[0m\u001b[0;34m,\u001b[0m \u001b[0mn\u001b[0m\u001b[0;34m)\u001b[0m\u001b[0;34m\u001b[0m\u001b[0;34m\u001b[0m\u001b[0m\n\u001b[0m\u001b[1;32m    411\u001b[0m     \u001b[0mm\u001b[0m \u001b[0;34m=\u001b[0m \u001b[0mshape\u001b[0m\u001b[0;34m[\u001b[0m\u001b[0;36m0\u001b[0m\u001b[0;34m]\u001b[0m\u001b[0;34m\u001b[0m\u001b[0;34m\u001b[0m\u001b[0m\n\u001b[1;32m    412\u001b[0m \u001b[0;34m\u001b[0m\u001b[0m\n",
      "\u001b[0;32m~/miniconda3/envs/8.s05/lib/python3.9/site-packages/scipy/optimize/minpack.py\u001b[0m in \u001b[0;36m_check_func\u001b[0;34m(checker, argname, thefunc, x0, args, numinputs, output_shape)\u001b[0m\n\u001b[1;32m     22\u001b[0m def _check_func(checker, argname, thefunc, x0, args, numinputs,\n\u001b[1;32m     23\u001b[0m                 output_shape=None):\n\u001b[0;32m---> 24\u001b[0;31m     \u001b[0mres\u001b[0m \u001b[0;34m=\u001b[0m \u001b[0matleast_1d\u001b[0m\u001b[0;34m(\u001b[0m\u001b[0mthefunc\u001b[0m\u001b[0;34m(\u001b[0m\u001b[0;34m*\u001b[0m\u001b[0;34m(\u001b[0m\u001b[0;34m(\u001b[0m\u001b[0mx0\u001b[0m\u001b[0;34m[\u001b[0m\u001b[0;34m:\u001b[0m\u001b[0mnuminputs\u001b[0m\u001b[0;34m]\u001b[0m\u001b[0;34m,\u001b[0m\u001b[0;34m)\u001b[0m \u001b[0;34m+\u001b[0m \u001b[0margs\u001b[0m\u001b[0;34m)\u001b[0m\u001b[0;34m)\u001b[0m\u001b[0;34m)\u001b[0m\u001b[0;34m\u001b[0m\u001b[0;34m\u001b[0m\u001b[0m\n\u001b[0m\u001b[1;32m     25\u001b[0m     \u001b[0;32mif\u001b[0m \u001b[0;34m(\u001b[0m\u001b[0moutput_shape\u001b[0m \u001b[0;32mis\u001b[0m \u001b[0;32mnot\u001b[0m \u001b[0;32mNone\u001b[0m\u001b[0;34m)\u001b[0m \u001b[0;32mand\u001b[0m \u001b[0;34m(\u001b[0m\u001b[0mshape\u001b[0m\u001b[0;34m(\u001b[0m\u001b[0mres\u001b[0m\u001b[0;34m)\u001b[0m \u001b[0;34m!=\u001b[0m \u001b[0moutput_shape\u001b[0m\u001b[0;34m)\u001b[0m\u001b[0;34m:\u001b[0m\u001b[0;34m\u001b[0m\u001b[0;34m\u001b[0m\u001b[0m\n\u001b[1;32m     26\u001b[0m         \u001b[0;32mif\u001b[0m \u001b[0;34m(\u001b[0m\u001b[0moutput_shape\u001b[0m\u001b[0;34m[\u001b[0m\u001b[0;36m0\u001b[0m\u001b[0;34m]\u001b[0m \u001b[0;34m!=\u001b[0m \u001b[0;36m1\u001b[0m\u001b[0;34m)\u001b[0m\u001b[0;34m:\u001b[0m\u001b[0;34m\u001b[0m\u001b[0;34m\u001b[0m\u001b[0m\n",
      "\u001b[0;32m~/miniconda3/envs/8.s05/lib/python3.9/site-packages/lmfit/minimizer.py\u001b[0m in \u001b[0;36m__residual\u001b[0;34m(self, fvars, apply_bounds_transformation)\u001b[0m\n\u001b[1;32m    585\u001b[0m             \u001b[0;32mraise\u001b[0m \u001b[0mAbortFitException\u001b[0m\u001b[0;34m(\u001b[0m\u001b[0;34mf\"fit aborted: too many function evaluations {self.max_nfev}\"\u001b[0m\u001b[0;34m)\u001b[0m\u001b[0;34m\u001b[0m\u001b[0;34m\u001b[0m\u001b[0m\n\u001b[1;32m    586\u001b[0m \u001b[0;34m\u001b[0m\u001b[0m\n\u001b[0;32m--> 587\u001b[0;31m         \u001b[0mout\u001b[0m \u001b[0;34m=\u001b[0m \u001b[0mself\u001b[0m\u001b[0;34m.\u001b[0m\u001b[0muserfcn\u001b[0m\u001b[0;34m(\u001b[0m\u001b[0mparams\u001b[0m\u001b[0;34m,\u001b[0m \u001b[0;34m*\u001b[0m\u001b[0mself\u001b[0m\u001b[0;34m.\u001b[0m\u001b[0muserargs\u001b[0m\u001b[0;34m,\u001b[0m \u001b[0;34m**\u001b[0m\u001b[0mself\u001b[0m\u001b[0;34m.\u001b[0m\u001b[0muserkws\u001b[0m\u001b[0;34m)\u001b[0m\u001b[0;34m\u001b[0m\u001b[0;34m\u001b[0m\u001b[0m\n\u001b[0m\u001b[1;32m    588\u001b[0m \u001b[0;34m\u001b[0m\u001b[0m\n\u001b[1;32m    589\u001b[0m         \u001b[0;32mif\u001b[0m \u001b[0mcallable\u001b[0m\u001b[0;34m(\u001b[0m\u001b[0mself\u001b[0m\u001b[0;34m.\u001b[0m\u001b[0miter_cb\u001b[0m\u001b[0;34m)\u001b[0m\u001b[0;34m:\u001b[0m\u001b[0;34m\u001b[0m\u001b[0;34m\u001b[0m\u001b[0m\n",
      "\u001b[0;32m~/miniconda3/envs/8.s05/lib/python3.9/site-packages/lmfit/model.py\u001b[0m in \u001b[0;36m_residual\u001b[0;34m(self, params, data, weights, **kwargs)\u001b[0m\n\u001b[1;32m    768\u001b[0m                    \u001b[0;34m'boundaries on parameters where applicable. In cases like '\u001b[0m\u001b[0;34m\u001b[0m\u001b[0;34m\u001b[0m\u001b[0m\n\u001b[1;32m    769\u001b[0m                    'this, using \"nan_policy=\\'omit\\'\" will probably not work.')\n\u001b[0;32m--> 770\u001b[0;31m             \u001b[0;32mraise\u001b[0m \u001b[0mValueError\u001b[0m\u001b[0;34m(\u001b[0m\u001b[0mmsg\u001b[0m\u001b[0;34m)\u001b[0m\u001b[0;34m\u001b[0m\u001b[0;34m\u001b[0m\u001b[0m\n\u001b[0m\u001b[1;32m    771\u001b[0m \u001b[0;34m\u001b[0m\u001b[0m\n\u001b[1;32m    772\u001b[0m         \u001b[0mdiff\u001b[0m \u001b[0;34m=\u001b[0m \u001b[0mmodel\u001b[0m \u001b[0;34m-\u001b[0m \u001b[0mdata\u001b[0m\u001b[0;34m\u001b[0m\u001b[0;34m\u001b[0m\u001b[0m\n",
      "\u001b[0;31mValueError\u001b[0m: The model function generated NaN values and the fit aborted! Please check your model function and/or set boundaries on parameters where applicable. In cases like this, using \"nan_policy='omit'\" will probably not work."
     ]
    }
   ],
   "source": [
    "from lmfit import Model, Parameters\n",
    "\n",
    "model = Model(model_fn)\n",
    "params = Parameters()\n",
    "params.add('k')\n",
    "params.add('a', min=0, max=3, value=2)\n",
    "\n",
    "result = model.fit(y, params, x=x, weights=1/y_unc);\n",
    "\n",
    "print(result.fit_report())\n",
    "\n",
    "result.plot();\n",
    "\n",
    "#THROWS AN ERROR"
   ]
  },
  {
   "cell_type": "markdown",
   "metadata": {},
   "source": [
    "<!--start-block-->\n",
    "#### <span style=\"color:purple\">>>>QUESTION</span>\n",
    "\n",
    "\n",
    "What was the error? (Remember the phrase `generated NaN values`) What arguments can you add back to the $k$ parameter to fix this error?\n",
    "\n",
    "#### <span style=\"color:purple\">>>>ANSWER</span>\n",
    "\n",
    "The error was that the fit model tried to fit values of k that were not a number (likely approaching infinite). Therefore, we have to bound the $k$ parameter with something like:\n",
    "\n",
    "params.add('k', min=0, max=3, value=2)\n",
    "<!--\n",
    "#solution\n",
    "The nan error is a signifier that either your model function is incorrect or it is being used for parameters you did not intend to use it for. By setting the initial value of k closer to the true value, you resolve the problem. This error can also happen when your parameters are degenerate, as $k$ is here; $-k$ and $k$ give the same function.\n",
    "-->\n",
    "\n",
    "<br>\n",
    "<!--end-block-->"
   ]
  },
  {
   "cell_type": "markdown",
   "metadata": {},
   "source": [
    "<!--start-block-->\n",
    "#### <span style=\"color:green\">>>>RUN</span>\n",
    "\n",
    "### Bug 2\n",
    "\n",
    "Let's try fitting the wrong model to data. We'll generate data according to the function $f(x)=x^2$, but fit a Gaussian model instead.\n",
    "\n",
    "<!--\n",
    "#initial code\n",
    "import numpy as np\n",
    "from lmfit.models import GaussianModel\n",
    "\n",
    "np.random.seed(2)\n",
    "\n",
    "# Linear data\n",
    "xi = np.array([-2, -1, 0, 1, 2])\n",
    "yerr = np.array([0.3, 0.4, 0.45, 0.35, 0.6])\n",
    "yi = xi**2 +yerr*np.random.normal(xi.shape)\n",
    "\n",
    "# Gaussian model\n",
    "model = GaussianModel()\n",
    "\n",
    "results = model.fit(yi, x=xi, weights = 1/yerr);\n",
    "\n",
    "print(results.fit_report())\n",
    "-->\n",
    "\n",
    "<!--end-block-->"
   ]
  },
  {
   "cell_type": "code",
   "execution_count": 27,
   "metadata": {},
   "outputs": [
    {
     "name": "stdout",
     "output_type": "stream",
     "text": [
      "[[Model]]\n",
      "    Model(gaussian)\n",
      "[[Fit Statistics]]\n",
      "    # fitting method   = leastsq\n",
      "    # function evals   = 8000\n",
      "    # data points      = 5\n",
      "    # variables        = 3\n",
      "    chi-square         = 73.6008327\n",
      "    reduced chi-square = 36.8004163\n",
      "    Akaike info crit   = 19.4460921\n",
      "    Bayesian info crit = 18.2744059\n",
      "##  Warning: uncertainties could not be estimated:\n",
      "[[Variables]]\n",
      "    amplitude:  6.9556e+19 (init = 1)\n",
      "    center:    -605.740075 (init = 0)\n",
      "    sigma:      68.3439804 (init = 1)\n",
      "    fwhm:       160.937772 == '2.3548200*sigma'\n",
      "    height:     4.0602e+17 == '0.3989423*amplitude/max(1e-15, sigma)'\n"
     ]
    }
   ],
   "source": [
    "import numpy as np\n",
    "from lmfit.models import GaussianModel\n",
    "\n",
    "np.random.seed(2)\n",
    "\n",
    "# Quadratic data\n",
    "xi = np.array([-2, -1, 0, 1, 2])\n",
    "yerr = np.array([0.3, 0.4, 0.45, 0.35, 0.6])\n",
    "yi = xi**2 +yerr*np.random.normal(xi.shape)\n",
    "\n",
    "# Gaussian model\n",
    "model = GaussianModel()\n",
    "\n",
    "results = model.fit(yi, x=xi, weights = 1/yerr);\n",
    "\n",
    "print(results.fit_report())"
   ]
  },
  {
   "cell_type": "markdown",
   "metadata": {},
   "source": [
    "<!--start-block-->\n",
    "#### <span style=\"color:purple\">>>>QUESTION</span>\n",
    "\n",
    "\n",
    "Was an error thrown? Look more closely at the fit report. What is the warning line? What does it signify?\n",
    "\n",
    "Add the line `results.plot();` to the above block of code. Does this make it easier to diagnose the problem?\n",
    "\n",
    "#### <span style=\"color:purple\">>>>ANSWER</span>\n",
    "\n",
    "The warning line thrown is \"##  Warning: uncertainties could not be estimated:,\" signifying that the errors are so large that they cannot be properly estimated by the fitting algorithm.\n",
    "\n",
    "If the data is plotted, you see in the residual plot that the majority of the data points are not even close to the model. Furthermore, the graph shows an improper linear fit on a function that clearly has concavity.\n",
    "\n",
    "<!--\n",
    "#solution\n",
    "`##  Warning: uncertainties could not be estimated.` It indicates that your fit was quite bad, as do your chi squared and reduced chi-squared values. By looking at those or by plotting the function, the poor fit quality becomes more recognizable.\n",
    "-->\n",
    "\n",
    "\n",
    "<br>\n",
    "<!--end-block-->"
   ]
  },
  {
   "cell_type": "markdown",
   "metadata": {},
   "source": [
    "<!--start-block-->\n",
    "#### <span style=\"color:green\">>>>RUN</span>\n",
    "\n",
    "### Bug 3\n",
    "\n",
    "`LMFIT` relies on the fact that your model function needs to handle `np` arrays. What happens if yours doesn't?\n",
    "\n",
    "<!--\n",
    "#initial code\n",
    "import numpy as np\n",
    "from lmfit import Model, Parameters\n",
    "\n",
    "TRUE_HEIGHT = 1.0\n",
    "\n",
    "def heaviside(x, height):\n",
    "    if x > 0:\n",
    "        return height\n",
    "    return 0.0\n",
    "\n",
    "xi = np.linspace(-5, 5, 10)\n",
    "try:\n",
    "    yi = heaviside(xi, TRUE_HEIGHT)\n",
    "except:\n",
    "    yi = np.array([heaviside(x, TRUE_HEIGHT) for x in xi])\n",
    "yerr = np.random.random(len(xi)) * 0.4 + 0.1\n",
    "yi += np.random.randn(len(xi)) * yerr\n",
    "\n",
    "model = Model(heaviside)\n",
    "params = Parameters()\n",
    "params.add('height', min=0.1, max=10, value=2)\n",
    "\n",
    "results = model.fit(yi, params, x=xi, weights = 1/yerr);\n",
    "\n",
    "print(results.fit_report())\n",
    "\n",
    "results.plot();\n",
    "\n",
    "#THROWS AN ERROR\n",
    "-->\n",
    "\n",
    "<!--end-block-->"
   ]
  },
  {
   "cell_type": "code",
   "execution_count": 28,
   "metadata": {},
   "outputs": [
    {
     "ename": "ValueError",
     "evalue": "The truth value of an array with more than one element is ambiguous. Use a.any() or a.all()",
     "output_type": "error",
     "traceback": [
      "\u001b[0;31m---------------------------------------------------------------------------\u001b[0m",
      "\u001b[0;31mValueError\u001b[0m                                Traceback (most recent call last)",
      "\u001b[0;32m/tmp/ipykernel_8939/405486221.py\u001b[0m in \u001b[0;36m<module>\u001b[0;34m\u001b[0m\n\u001b[1;32m     21\u001b[0m \u001b[0mparams\u001b[0m\u001b[0;34m.\u001b[0m\u001b[0madd\u001b[0m\u001b[0;34m(\u001b[0m\u001b[0;34m'height'\u001b[0m\u001b[0;34m,\u001b[0m \u001b[0mmin\u001b[0m\u001b[0;34m=\u001b[0m\u001b[0;36m0.1\u001b[0m\u001b[0;34m,\u001b[0m \u001b[0mmax\u001b[0m\u001b[0;34m=\u001b[0m\u001b[0;36m10\u001b[0m\u001b[0;34m,\u001b[0m \u001b[0mvalue\u001b[0m\u001b[0;34m=\u001b[0m\u001b[0;36m2\u001b[0m\u001b[0;34m)\u001b[0m\u001b[0;34m\u001b[0m\u001b[0;34m\u001b[0m\u001b[0m\n\u001b[1;32m     22\u001b[0m \u001b[0;34m\u001b[0m\u001b[0m\n\u001b[0;32m---> 23\u001b[0;31m \u001b[0mresults\u001b[0m \u001b[0;34m=\u001b[0m \u001b[0mmodel\u001b[0m\u001b[0;34m.\u001b[0m\u001b[0mfit\u001b[0m\u001b[0;34m(\u001b[0m\u001b[0myi\u001b[0m\u001b[0;34m,\u001b[0m \u001b[0mparams\u001b[0m\u001b[0;34m,\u001b[0m \u001b[0mx\u001b[0m\u001b[0;34m=\u001b[0m\u001b[0mxi\u001b[0m\u001b[0;34m,\u001b[0m \u001b[0mweights\u001b[0m \u001b[0;34m=\u001b[0m \u001b[0;36m1\u001b[0m\u001b[0;34m/\u001b[0m\u001b[0myerr\u001b[0m\u001b[0;34m)\u001b[0m\u001b[0;34m;\u001b[0m\u001b[0;34m\u001b[0m\u001b[0;34m\u001b[0m\u001b[0m\n\u001b[0m\u001b[1;32m     24\u001b[0m \u001b[0;34m\u001b[0m\u001b[0m\n\u001b[1;32m     25\u001b[0m \u001b[0mprint\u001b[0m\u001b[0;34m(\u001b[0m\u001b[0mresults\u001b[0m\u001b[0;34m.\u001b[0m\u001b[0mfit_report\u001b[0m\u001b[0;34m(\u001b[0m\u001b[0;34m)\u001b[0m\u001b[0;34m)\u001b[0m\u001b[0;34m\u001b[0m\u001b[0;34m\u001b[0m\u001b[0m\n",
      "\u001b[0;32m~/miniconda3/envs/8.s05/lib/python3.9/site-packages/lmfit/model.py\u001b[0m in \u001b[0;36mfit\u001b[0;34m(self, data, params, weights, method, iter_cb, scale_covar, verbose, fit_kws, nan_policy, calc_covar, max_nfev, **kwargs)\u001b[0m\n\u001b[1;32m   1048\u001b[0m                              \u001b[0mnan_policy\u001b[0m\u001b[0;34m=\u001b[0m\u001b[0mself\u001b[0m\u001b[0;34m.\u001b[0m\u001b[0mnan_policy\u001b[0m\u001b[0;34m,\u001b[0m \u001b[0mcalc_covar\u001b[0m\u001b[0;34m=\u001b[0m\u001b[0mcalc_covar\u001b[0m\u001b[0;34m,\u001b[0m\u001b[0;34m\u001b[0m\u001b[0;34m\u001b[0m\u001b[0m\n\u001b[1;32m   1049\u001b[0m                              max_nfev=max_nfev, **fit_kws)\n\u001b[0;32m-> 1050\u001b[0;31m         \u001b[0moutput\u001b[0m\u001b[0;34m.\u001b[0m\u001b[0mfit\u001b[0m\u001b[0;34m(\u001b[0m\u001b[0mdata\u001b[0m\u001b[0;34m=\u001b[0m\u001b[0mdata\u001b[0m\u001b[0;34m,\u001b[0m \u001b[0mweights\u001b[0m\u001b[0;34m=\u001b[0m\u001b[0mweights\u001b[0m\u001b[0;34m)\u001b[0m\u001b[0;34m\u001b[0m\u001b[0;34m\u001b[0m\u001b[0m\n\u001b[0m\u001b[1;32m   1051\u001b[0m         \u001b[0moutput\u001b[0m\u001b[0;34m.\u001b[0m\u001b[0mcomponents\u001b[0m \u001b[0;34m=\u001b[0m \u001b[0mself\u001b[0m\u001b[0;34m.\u001b[0m\u001b[0mcomponents\u001b[0m\u001b[0;34m\u001b[0m\u001b[0;34m\u001b[0m\u001b[0m\n\u001b[1;32m   1052\u001b[0m         \u001b[0;32mreturn\u001b[0m \u001b[0moutput\u001b[0m\u001b[0;34m\u001b[0m\u001b[0;34m\u001b[0m\u001b[0m\n",
      "\u001b[0;32m~/miniconda3/envs/8.s05/lib/python3.9/site-packages/lmfit/model.py\u001b[0m in \u001b[0;36mfit\u001b[0;34m(self, data, params, weights, method, nan_policy, **kwargs)\u001b[0m\n\u001b[1;32m   1402\u001b[0m         \u001b[0mself\u001b[0m\u001b[0;34m.\u001b[0m\u001b[0muserargs\u001b[0m \u001b[0;34m=\u001b[0m \u001b[0;34m(\u001b[0m\u001b[0mself\u001b[0m\u001b[0;34m.\u001b[0m\u001b[0mdata\u001b[0m\u001b[0;34m,\u001b[0m \u001b[0mself\u001b[0m\u001b[0;34m.\u001b[0m\u001b[0mweights\u001b[0m\u001b[0;34m)\u001b[0m\u001b[0;34m\u001b[0m\u001b[0;34m\u001b[0m\u001b[0m\n\u001b[1;32m   1403\u001b[0m         \u001b[0mself\u001b[0m\u001b[0;34m.\u001b[0m\u001b[0muserkws\u001b[0m\u001b[0;34m.\u001b[0m\u001b[0mupdate\u001b[0m\u001b[0;34m(\u001b[0m\u001b[0mkwargs\u001b[0m\u001b[0;34m)\u001b[0m\u001b[0;34m\u001b[0m\u001b[0;34m\u001b[0m\u001b[0m\n\u001b[0;32m-> 1404\u001b[0;31m         \u001b[0mself\u001b[0m\u001b[0;34m.\u001b[0m\u001b[0minit_fit\u001b[0m \u001b[0;34m=\u001b[0m \u001b[0mself\u001b[0m\u001b[0;34m.\u001b[0m\u001b[0mmodel\u001b[0m\u001b[0;34m.\u001b[0m\u001b[0meval\u001b[0m\u001b[0;34m(\u001b[0m\u001b[0mparams\u001b[0m\u001b[0;34m=\u001b[0m\u001b[0mself\u001b[0m\u001b[0;34m.\u001b[0m\u001b[0mparams\u001b[0m\u001b[0;34m,\u001b[0m \u001b[0;34m**\u001b[0m\u001b[0mself\u001b[0m\u001b[0;34m.\u001b[0m\u001b[0muserkws\u001b[0m\u001b[0;34m)\u001b[0m\u001b[0;34m\u001b[0m\u001b[0;34m\u001b[0m\u001b[0m\n\u001b[0m\u001b[1;32m   1405\u001b[0m         \u001b[0m_ret\u001b[0m \u001b[0;34m=\u001b[0m \u001b[0mself\u001b[0m\u001b[0;34m.\u001b[0m\u001b[0mminimize\u001b[0m\u001b[0;34m(\u001b[0m\u001b[0mmethod\u001b[0m\u001b[0;34m=\u001b[0m\u001b[0mself\u001b[0m\u001b[0;34m.\u001b[0m\u001b[0mmethod\u001b[0m\u001b[0;34m)\u001b[0m\u001b[0;34m\u001b[0m\u001b[0;34m\u001b[0m\u001b[0m\n\u001b[1;32m   1406\u001b[0m \u001b[0;34m\u001b[0m\u001b[0m\n",
      "\u001b[0;32m~/miniconda3/envs/8.s05/lib/python3.9/site-packages/lmfit/model.py\u001b[0m in \u001b[0;36meval\u001b[0;34m(self, params, **kwargs)\u001b[0m\n\u001b[1;32m    866\u001b[0m \u001b[0;34m\u001b[0m\u001b[0m\n\u001b[1;32m    867\u001b[0m         \"\"\"\n\u001b[0;32m--> 868\u001b[0;31m         \u001b[0;32mreturn\u001b[0m \u001b[0mself\u001b[0m\u001b[0;34m.\u001b[0m\u001b[0mfunc\u001b[0m\u001b[0;34m(\u001b[0m\u001b[0;34m**\u001b[0m\u001b[0mself\u001b[0m\u001b[0;34m.\u001b[0m\u001b[0mmake_funcargs\u001b[0m\u001b[0;34m(\u001b[0m\u001b[0mparams\u001b[0m\u001b[0;34m,\u001b[0m \u001b[0mkwargs\u001b[0m\u001b[0;34m)\u001b[0m\u001b[0;34m)\u001b[0m\u001b[0;34m\u001b[0m\u001b[0;34m\u001b[0m\u001b[0m\n\u001b[0m\u001b[1;32m    869\u001b[0m \u001b[0;34m\u001b[0m\u001b[0m\n\u001b[1;32m    870\u001b[0m     \u001b[0;34m@\u001b[0m\u001b[0mproperty\u001b[0m\u001b[0;34m\u001b[0m\u001b[0;34m\u001b[0m\u001b[0m\n",
      "\u001b[0;32m/tmp/ipykernel_8939/405486221.py\u001b[0m in \u001b[0;36mheaviside\u001b[0;34m(x, height)\u001b[0m\n\u001b[1;32m      5\u001b[0m \u001b[0;34m\u001b[0m\u001b[0m\n\u001b[1;32m      6\u001b[0m \u001b[0;32mdef\u001b[0m \u001b[0mheaviside\u001b[0m\u001b[0;34m(\u001b[0m\u001b[0mx\u001b[0m\u001b[0;34m,\u001b[0m \u001b[0mheight\u001b[0m\u001b[0;34m)\u001b[0m\u001b[0;34m:\u001b[0m\u001b[0;34m\u001b[0m\u001b[0;34m\u001b[0m\u001b[0m\n\u001b[0;32m----> 7\u001b[0;31m     \u001b[0;32mif\u001b[0m \u001b[0mx\u001b[0m \u001b[0;34m>\u001b[0m \u001b[0;36m0\u001b[0m\u001b[0;34m:\u001b[0m\u001b[0;34m\u001b[0m\u001b[0;34m\u001b[0m\u001b[0m\n\u001b[0m\u001b[1;32m      8\u001b[0m         \u001b[0;32mreturn\u001b[0m \u001b[0mheight\u001b[0m\u001b[0;34m\u001b[0m\u001b[0;34m\u001b[0m\u001b[0m\n\u001b[1;32m      9\u001b[0m     \u001b[0;32mreturn\u001b[0m \u001b[0;36m0.0\u001b[0m\u001b[0;34m\u001b[0m\u001b[0;34m\u001b[0m\u001b[0m\n",
      "\u001b[0;31mValueError\u001b[0m: The truth value of an array with more than one element is ambiguous. Use a.any() or a.all()"
     ]
    }
   ],
   "source": [
    "import numpy as np\n",
    "from lmfit import Model, Parameters\n",
    "\n",
    "TRUE_HEIGHT = 1.0\n",
    "\n",
    "def heaviside(x, height):\n",
    "    if x > 0:\n",
    "        return height\n",
    "    return 0.0\n",
    "\n",
    "xi = np.linspace(-5, 5, 10)\n",
    "try:\n",
    "    yi = heaviside(xi, TRUE_HEIGHT)\n",
    "except:\n",
    "    yi = np.array([heaviside(x, TRUE_HEIGHT) for x in xi])\n",
    "yerr = np.random.random(len(xi)) * 0.4 + 0.1\n",
    "yi += np.random.randn(len(xi)) * yerr\n",
    "\n",
    "model = Model(heaviside)\n",
    "params = Parameters()\n",
    "params.add('height', min=0.1, max=10, value=2)\n",
    "\n",
    "results = model.fit(yi, params, x=xi, weights = 1/yerr);\n",
    "\n",
    "print(results.fit_report())\n",
    "\n",
    "results.plot();\n",
    "\n",
    "#THROWS AN ERROR"
   ]
  },
  {
   "cell_type": "markdown",
   "metadata": {},
   "source": [
    "<!--start-block-->\n",
    "#### <span style=\"color:purple\">>>>QUESTION</span>\n",
    "\n",
    "\n",
    "What was the error? Modify the model function so that it works for numpy arrays. There are several ways to do this, with varying levels of computational speed.\n",
    "\n",
    "Remember that as a fallback, you can always manually turn a python list into a numpy array by calling `np.array(list)` where `list` is a python list.\n",
    "\n",
    "#### <span style=\"color:purple\">>>>Answer</span>\n",
    "\n",
    "ValueError: The truth value of an array with more than one element is ambiguous. Use a.any() or a.all()\n",
    "\n",
    "<!--\n",
    "#solution\n",
    "The error was this `a.any()` / `a.all()`. This error is a bit of a red herring; I think it's simpler to change your fit function to the following.\n",
    "\n",
    "```\n",
    "def heaviside(x, height):\n",
    "    return np.array([height if x_val > 0 else 0 for x_val in x])\n",
    "```\n",
    "-->\n",
    "\n",
    "\n",
    "<br>\n",
    "<!--end-block-->"
   ]
  },
  {
   "cell_type": "code",
   "execution_count": null,
   "metadata": {},
   "outputs": [],
   "source": []
  }
 ],
 "metadata": {
  "kernelspec": {
   "display_name": "Python 3 (ipykernel)",
   "language": "python",
   "name": "python3"
  },
  "language_info": {
   "codemirror_mode": {
    "name": "ipython",
    "version": 3
   },
   "file_extension": ".py",
   "mimetype": "text/x-python",
   "name": "python",
   "nbconvert_exporter": "python",
   "pygments_lexer": "ipython3",
   "version": "3.9.7"
  }
 },
 "nbformat": 4,
 "nbformat_minor": 4
}
