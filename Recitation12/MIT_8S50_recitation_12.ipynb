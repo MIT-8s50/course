{
 "cells": [
  {
   "cell_type": "markdown",
   "metadata": {
    "id": "j_OYjrski6wJ"
   },
   "source": [
    "# MIT_8.S50 Recitation 12: Additional features of the Discrete Fourier Transform (DFT)\n",
    "\n",
    "Author: Juan Mena-Parra\n",
    "\n",
    "Date: December 08, 2021\n"
   ]
  },
  {
   "cell_type": "markdown",
   "metadata": {
    "id": "u9C9AJMv4shG"
   },
   "source": [
    "# Preliminaries\n",
    "\n",
    "QUESTION: What is the Fourier transform of $f(t)=\\sin(\\omega t)$? and of $f(t)=e^{i\\omega t}$?\n"
   ]
  },
  {
   "cell_type": "markdown",
   "metadata": {
    "id": "jnxnxlpt49Pe"
   },
   "source": [
    "# Part 1\n",
    "\n",
    "The discrete Fourier transform (DFT) of a discrete signal $f(n)$ of lenght $N$ is\n",
    "\n",
    "$F(k) = \\sum_{n=0}^{N-1} f(n)e^{-i2\\pi k n/N}$\n",
    "\n",
    "The inverse discrete Fourier transform (IDFT) is\n",
    "\n",
    "$x(n) = \\frac{1}{N}\\sum_{k=0}^{N-1} F(k)e^{i2\\pi k n/N}$\n",
    "\n",
    "For what follows, you may need to write functions that implement the DFT and IDFT of a function for given values of $k$ and $n$, respectively\n"
   ]
  },
  {
   "cell_type": "code",
   "execution_count": 2,
   "metadata": {
    "executionInfo": {
     "elapsed": 4,
     "status": "ok",
     "timestamp": 1641915586147,
     "user": {
      "displayName": "Juan David Mena",
      "photoUrl": "https://lh3.googleusercontent.com/a-/AOh14GitLOFy2FYeZTcocC3230KsRS0NCBCmzitpTP3zzw=s64",
      "userId": "04300883876663913307"
     },
     "user_tz": 300
    },
    "id": "KEi4u01GLuE-"
   },
   "outputs": [],
   "source": [
    "import numpy as np\n",
    "import matplotlib.pyplot as plt\n",
    "\n",
    "def DFT(f,k):\n",
    "    fk = 0\n",
    "    for i in range(len(f)):\n",
    "        fk += f[i]*np.exp(-2*np.pi *k * i / len(f) * j)\n",
    "    return fk"
   ]
  },
  {
   "cell_type": "markdown",
   "metadata": {
    "id": "x9OqOQQmrbpW"
   },
   "source": [
    "Consider the discrete function $x(n)=\\sin(2\\pi\\cdot 0.02n)$\n",
    "\n",
    "Plot $x(n)$\n",
    "\n",
    "QUESTION: What is the period of $x(n)$ in samples? This corresponds to an analog signal sampled at 100 Hz. What was the period of the analog signal in seconds?\n",
    "\n",
    "For $N=100$ compute the $X(k)=DFT\\{x(n)\\}$ for $k=0, \\cdots N-1$. Plot |X(k)| vs $k$. \n",
    "\n",
    "QUESTION: Is |X(k)| what you expected based on your intuition from the Fourier transform of a sine function of continuous time $t$? yes/no, why?\n",
    "\n",
    "Compute $y(n)=IDFT\\{X(k)\\}$ for $n=0, \\cdots N-1$. Plot $y(n)$ vs $n$.\n",
    "\n",
    "QUESTION: is $y(n)=x(n)$ from $n=0, \\cdots N-1$? yes/no, why?\n",
    "\n",
    "Compute $z(n)=IDFT\\{X(k)\\}$ for $n=0, \\cdots 3N-1$. Plot $z(n)$ vs $n$.\n",
    "\n",
    "QUESTION: is $z(n)=x(n)$ from $n=0, \\cdots 3N-1$? yes/no, why?"
   ]
  },
  {
   "cell_type": "code",
   "execution_count": 2,
   "metadata": {
    "executionInfo": {
     "elapsed": 3,
     "status": "ok",
     "timestamp": 1641915636126,
     "user": {
      "displayName": "Juan David Mena",
      "photoUrl": "https://lh3.googleusercontent.com/a-/AOh14GitLOFy2FYeZTcocC3230KsRS0NCBCmzitpTP3zzw=s64",
      "userId": "04300883876663913307"
     },
     "user_tz": 300
    },
    "id": "zVKxHwN839vn"
   },
   "outputs": [],
   "source": [
    "# Add your plots here"
   ]
  },
  {
   "cell_type": "markdown",
   "metadata": {
    "id": "GEjvLbYqxt-C"
   },
   "source": [
    "# Part 2\n",
    "\n",
    "Repeat the same procedure above and answer the same questions for $x(n)=\\sin(2\\pi\\cdot 0.025n)$\n"
   ]
  },
  {
   "cell_type": "code",
   "execution_count": 3,
   "metadata": {
    "executionInfo": {
     "elapsed": 156,
     "status": "ok",
     "timestamp": 1641915649096,
     "user": {
      "displayName": "Juan David Mena",
      "photoUrl": "https://lh3.googleusercontent.com/a-/AOh14GitLOFy2FYeZTcocC3230KsRS0NCBCmzitpTP3zzw=s64",
      "userId": "04300883876663913307"
     },
     "user_tz": 300
    },
    "id": "nN660UbWxsQF"
   },
   "outputs": [],
   "source": [
    "# Add your plots here"
   ]
  },
  {
   "cell_type": "markdown",
   "metadata": {
    "id": "dcOoJNYqmRbA"
   },
   "source": [
    "# Part 3\n",
    "\n",
    "QUESTION: How does the DFT help with the inversion of $N^{-1}d$ for the CMB project? What are the trade-offs, if any?\n"
   ]
  }
 ],
 "metadata": {
  "colab": {
   "collapsed_sections": [],
   "name": "MIT_8S50_recitation_12.ipynb",
   "provenance": []
  },
  "kernelspec": {
   "display_name": "Python 3 (ipykernel)",
   "language": "python",
   "name": "python3"
  },
  "language_info": {
   "codemirror_mode": {
    "name": "ipython",
    "version": 3
   },
   "file_extension": ".py",
   "mimetype": "text/x-python",
   "name": "python",
   "nbconvert_exporter": "python",
   "pygments_lexer": "ipython3",
   "version": "3.9.7"
  }
 },
 "nbformat": 4,
 "nbformat_minor": 1
}
