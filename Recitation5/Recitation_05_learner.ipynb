{
 "cells": [
  {
   "cell_type": "markdown",
   "id": "6f01f207",
   "metadata": {},
   "source": [
    "<!--start-block-->\n",
    "<hr style=\"height: 1px;\">\n",
    "<i>This code was authored by the 8.S50x Course Team, Copyright 2021 MIT All Rights Reserved.</i>\n",
    "<hr style=\"height: 1px;\">\n",
    "<br>\n",
    "\n",
    "# RECITATION 5: Matched Filtering\n",
    "\n",
    "<br>\n",
    "<!--end-block-->"
   ]
  },
  {
   "cell_type": "markdown",
   "id": "eef42f28",
   "metadata": {},
   "source": [
    "<!--start-block-->\n",
    "<hr style=\"height: 1px;\">\n",
    "\n",
    "## 5.0 Overview of Learning Objectives\n",
    "\n",
    "In this recitation we will explore the following objectives:\n",
    "\n",
    "- What is matched filtering?\n",
    "- Matched filtering in the time domain\n",
    "- Matched filtering in the frequency domain\n",
    "\n",
    "<!--end-block-->"
   ]
  },
  {
   "cell_type": "markdown",
   "id": "45fd5b46",
   "metadata": {},
   "source": [
    "<!--start-block-->\n",
    "<hr style=\"height: 1px;\">\n",
    "\n",
    "## 5.1 What is matched filtering?\n",
    "\n",
    "The purpose of matched filtering is to scan big data sets looking for some kind of signal. LIGO does this to look for gravitational waves in their strain data. Matched filtering is also done in many other fields.\n",
    "\n",
    "The purpose is usually to create some kind of plot of signal to noise ratio (SNR) over your data. For LIGO, this is a 2D plot with time on the x axis and SNR on the y axis. If you're looking for point sources in astrophysical telescope data, for example, this is an image plot with right ascention and declination as the axes and SNR shown in the image.\n",
    "\n",
    "Signals look like large spikes in the SNR.\n",
    "\n",
    "<!--end-block-->"
   ]
  },
  {
   "cell_type": "markdown",
   "id": "3db21c13",
   "metadata": {},
   "source": [
    "<!--start-block-->\n",
    "#### <span style=\"color:green\">>>>RUN</span>\n",
    "\n",
    "To make this exercise useful to you in the LIGO project, we'll make a model signal that looks kind of like a black hole waveform. Run the below code to load the waveform and plot an example. (This is nearly the same function as was used in recitation 3)\n",
    "\n",
    "<!--\n",
    "#initial code\n",
    "import numpy as np\n",
    "import matplotlib.pyplot as plt\n",
    "\n",
    "np.random.seed(0x98a09fe)\n",
    "\n",
    "def complicated_model_fn(x, time, lambda_plus, lambda_minus, max_amp, omega_0, omega_max, omega_sigma):\n",
    "    omega = (omega_max - omega_0) * (np.exp(-np.minimum(x - time, 0)**2 / omega_sigma)) + omega_0\n",
    "    lambdas = np.array([lambda_plus if xvalue > time else lambda_minus for xvalue in x])\n",
    "    amplitude = max_amp * np.exp(-abs(x - time) / lambdas)\n",
    "    return amplitude * np.cos(omega * (x-time))\n",
    "\n",
    "LAMBDA_PLUS_TRUE = 1.0\n",
    "LAMBDA_MINUS_TRUE = 4\n",
    "MAX_AMP_TRUE = 1.2\n",
    "OMEGA_0_TRUE = 3.0\n",
    "OMEGA_MAX_TRUE = 6.0\n",
    "OMEGA_SIGMA_TRUE = 4.0\n",
    "TIME_TRUE = 0.0\n",
    "\n",
    "xi = np.linspace(TIME_TRUE-15, TIME_TRUE+5, 200)\n",
    "true_yi = complicated_model_fn(xi, TIME_TRUE, LAMBDA_PLUS_TRUE, LAMBDA_MINUS_TRUE, MAX_AMP_TRUE,\n",
    "                               OMEGA_0_TRUE, OMEGA_MAX_TRUE, OMEGA_SIGMA_TRUE)\n",
    "\n",
    "plt.plot(xi, true_yi)\n",
    "plt.xlabel(\"Time (s)\")\n",
    "plt.ylabel(\"Strain\");\n",
    "-->"
   ]
  },
  {
   "cell_type": "code",
   "execution_count": 1,
   "id": "50b29b46",
   "metadata": {},
   "outputs": [
    {
     "data": {
      "image/png": "[encoded data removed]",
      "text/plain": [
       "<Figure size 432x288 with 1 Axes>"
      ]
     },
     "metadata": {
      "needs_background": "light"
     },
     "output_type": "display_data"
    }
   ],
   "source": [
    "import numpy as np\n",
    "import matplotlib.pyplot as plt\n",
    "\n",
    "np.random.seed(0x98a09fe)\n",
    "\n",
    "def complicated_model_fn(x, time, lambda_plus, lambda_minus, max_amp, omega_0, omega_max, omega_sigma):\n",
    "    omega = (omega_max - omega_0) * (np.exp(-np.minimum(x - time, 0)**2 / omega_sigma)) + omega_0\n",
    "    lambdas = np.array([lambda_plus if xvalue > time else lambda_minus for xvalue in x])\n",
    "    amplitude = max_amp * np.exp(-abs(x - time) / lambdas)\n",
    "    return amplitude * np.cos(omega * (x-time))\n",
    "\n",
    "LAMBDA_PLUS_TRUE = 1.0\n",
    "LAMBDA_MINUS_TRUE = 4\n",
    "MAX_AMP_TRUE = 1.2\n",
    "OMEGA_0_TRUE = 3.0\n",
    "OMEGA_MAX_TRUE = 6.0\n",
    "OMEGA_SIGMA_TRUE = 4.0\n",
    "TIME_TRUE = 50.0\n",
    "\n",
    "xi = np.linspace(TIME_TRUE-15, TIME_TRUE+5, 200)\n",
    "true_yi = complicated_model_fn(xi, TIME_TRUE, LAMBDA_PLUS_TRUE, LAMBDA_MINUS_TRUE, MAX_AMP_TRUE,\n",
    "                               OMEGA_0_TRUE, OMEGA_MAX_TRUE, OMEGA_SIGMA_TRUE)\n",
    "\n",
    "plt.plot(xi, true_yi)\n",
    "plt.xlabel(\"Time (s)\")\n",
    "plt.ylabel(\"Strain\");"
   ]
  },
  {
   "cell_type": "markdown",
   "id": "689b8cd4",
   "metadata": {},
   "source": [
    "<!--start-block-->\n",
    "#### <span style=\"color:green\">>>>RUN</span>\n",
    "\n",
    "Let's make some fake data. We'll simulate \"noise\" as ten sinusoids of varying frequency, phase, and amplitude added together, and superimpose a merger signal at $t=0$.\n",
    "\n",
    "<!--\n",
    "#initial code\n",
    "NUMBER_SINES_TO_ADD = 10\n",
    "\n",
    "noise_frequencies = 0.5 + 7 * np.random.random(NUMBER_SINES_TO_ADD)\n",
    "noise_phases = 2 * np.pi * np.random.random(NUMBER_SINES_TO_ADD)\n",
    "noise_amplitudes = 2 * MAX_AMP_TRUE / NUMBER_SINES_TO_ADD * np.random.random(NUMBER_SINES_TO_ADD)\n",
    "    # The above line sets noise amplitudes so that the sum of all the noise amplitudes is on average\n",
    "    # equal to the maximum amplitude of the signal.\n",
    "\n",
    "sample_spacing = 0.1\n",
    "xi = np.arange(-128, 128, sample_spacing)#times\n",
    "yi = np.zeros_like(xi)#data\n",
    "\n",
    "for freq, phase, amplitude in zip(noise_frequencies, noise_phases, noise_amplitudes):\n",
    "    yi += amplitude * np.sin(phase + freq * xi)\n",
    "    \n",
    "yi += complicated_model_fn(xi, TIME_TRUE, LAMBDA_PLUS_TRUE, LAMBDA_MINUS_TRUE, MAX_AMP_TRUE,\n",
    "                               OMEGA_0_TRUE, OMEGA_MAX_TRUE, OMEGA_SIGMA_TRUE)\n",
    "\n",
    "plt.figure(figsize=(16, 5))\n",
    "plt.plot(xi, yi)\n",
    "plt.xlabel(\"Time (s)\")\n",
    "plt.ylabel(\"Strain\")\n",
    "-->"
   ]
  },
  {
   "cell_type": "code",
   "execution_count": 2,
   "id": "5f439a3b",
   "metadata": {},
   "outputs": [
    {
     "data": {
      "text/plain": [
       "Text(0, 0.5, 'Strain')"
      ]
     },
     "execution_count": 2,
     "metadata": {},
     "output_type": "execute_result"
    },
    {
     "data": {
      "image/png": "[encoded data removed]",
      "text/plain": [
       "<Figure size 1152x360 with 1 Axes>"
      ]
     },
     "metadata": {
      "needs_background": "light"
     },
     "output_type": "display_data"
    }
   ],
   "source": [
    "NUMBER_SINES_TO_ADD = 10\n",
    "\n",
    "noise_frequencies = 0.5 + 7 * np.random.random(NUMBER_SINES_TO_ADD)\n",
    "noise_phases = 2 * np.pi * np.random.random(NUMBER_SINES_TO_ADD)\n",
    "noise_amplitudes = 2 * MAX_AMP_TRUE / NUMBER_SINES_TO_ADD * np.random.random(NUMBER_SINES_TO_ADD)\n",
    "    # The above line sets noise amplitudes so that the sum of all the noise amplitudes is on average\n",
    "    # equal to the maximum amplitude of the signal.\n",
    "\n",
    "sample_spacing = 0.1\n",
    "xi = np.arange(-128, 128, sample_spacing)#times\n",
    "yi = np.zeros_like(xi)#data\n",
    "\n",
    "for freq, phase, amplitude in zip(noise_frequencies, noise_phases, noise_amplitudes):\n",
    "    yi += amplitude * np.sin(phase + freq * xi)\n",
    "    \n",
    "yi += complicated_model_fn(xi, TIME_TRUE, LAMBDA_PLUS_TRUE, LAMBDA_MINUS_TRUE, MAX_AMP_TRUE,\n",
    "                               OMEGA_0_TRUE, OMEGA_MAX_TRUE, OMEGA_SIGMA_TRUE)\n",
    "\n",
    "plt.figure(figsize=(16, 5))\n",
    "plt.plot(xi, yi)\n",
    "plt.xlabel(\"Time (s)\")\n",
    "plt.ylabel(\"Strain\")"
   ]
  },
  {
   "cell_type": "markdown",
   "id": "6c77eb62",
   "metadata": {},
   "source": [
    "<!--start-block-->\n",
    "\n",
    "Our goal is to find the signal in this data.\n",
    "\n",
    "<!--end-block-->"
   ]
  },
  {
   "cell_type": "markdown",
   "id": "e6ccec4e",
   "metadata": {},
   "source": [
    "<!--start-block-->\n",
    "<hr style=\"height: 1px;\">\n",
    "\n",
    "## 5.2 Time domain\n",
    "\n",
    "Matched filtering in the time domain is probably conceptually the easiest approach to matched filtering. We will perform a fit of the model function to the data, forcing the model function to assume a time of merger of $t$, then plot the quality of the fit as a function of $t$. We expect a very good fit quality when $t$ is close to the true time $t=0$, and otherwise we expect poor fits.\n",
    "\n",
    "<!--end-block-->"
   ]
  },
  {
   "cell_type": "markdown",
   "id": "4fffd5cd",
   "metadata": {},
   "source": [
    "<!--start-block-->\n",
    "#### <span style=\"color:#BA2220\">>>>EXERCISE</span>\n",
    "\n",
    "We'll need to cut the data to perform the fit. How much time before and after $t$ would you like to fit over?\n",
    "\n",
    "<!--\n",
    "#initial code\n",
    "t_before = #your code here\n",
    "t_after = #your code here\n",
    "-->\n",
    "\n",
    "<!--\n",
    "#solution\n",
    "t_before = 5\n",
    "t_after = 2\n",
    "-->\n",
    "\n",
    "<!--end-block-->"
   ]
  },
  {
   "cell_type": "code",
   "execution_count": 4,
   "id": "2d762c97",
   "metadata": {},
   "outputs": [],
   "source": [
    "t_before = 1\n",
    "t_after = 1"
   ]
  },
  {
   "cell_type": "markdown",
   "id": "9a3e4721",
   "metadata": {},
   "source": [
    "<!--start-block-->\n",
    "#### <span style=\"color:#BA2220\">>>>EXERCISE</span>\n",
    "\n",
    "Make a function that creates `LMFIT` `Model` and `Parameters` instance, forcing the time of the signal to appear at time $t$. Seed the starting points of parameters randomly. Refer to recitation 3 code if you need help.\n",
    "\n",
    "Restrict your `time` parameter to be exactly $t$ by setting its `value` equal to $t$ and setting `vary=False`\n",
    "\n",
    "<!--\n",
    "#initial code\n",
    "from lmfit import Model, Parameters\n",
    "    \n",
    "params_min_max = {\n",
    "    'lambda_plus': (0.1, 5),\n",
    "    'lambda_minus': (0.1, 5),\n",
    "    'max_amp': (0, 2),\n",
    "    'omega_0': (0, 5),\n",
    "    'omega_max': (0, 10),\n",
    "    'omega_sigma': (0, 5)\n",
    "}\n",
    "\n",
    "def model_and_random_parameters(t, delta_t):\n",
    "    #your code here\n",
    "-->\n",
    "\n",
    "<!--\n",
    "#solution\n",
    "from lmfit import Model, Parameters\n",
    "\n",
    "params_min_max = {\n",
    "    'lambda_plus': (0.1, 5),\n",
    "    'lambda_minus': (0.1, 5),\n",
    "    'max_amp': (0, 2),\n",
    "    'omega_0': (0, 5),\n",
    "    'omega_max': (0, 10),\n",
    "    'omega_sigma': (0, 5),\n",
    "}\n",
    "\n",
    "def model_and_random_parameters(t):\n",
    "    model = Model(complicated_model_fn)\n",
    "    params = Parameters()\n",
    "    params.add('time', value=t, vary=False)\n",
    "    for p, (p_min, p_max) in params_min_max.items():\n",
    "        value = p_min + (p_max - p_min) * np.random.random(1)\n",
    "        params.add(p, min=p_min, max=p_max, value=value)\n",
    "    return model, params\n",
    "-->\n",
    "\n",
    "<!--end-block-->"
   ]
  },
  {
   "cell_type": "code",
   "execution_count": 5,
   "id": "fcad984e",
   "metadata": {},
   "outputs": [],
   "source": [
    "from lmfit import Model, Parameters\n",
    "    \n",
    "params_min_max = {\n",
    "    'lambda_plus': (0.1, 5),\n",
    "    'lambda_minus': (0.1, 5),\n",
    "    'max_amp': (0, 2),\n",
    "    'omega_0': (0, 5),\n",
    "    'omega_max': (0, 10),\n",
    "    'omega_sigma': (0, 5)\n",
    "}\n",
    "\n",
    "def model_and_random_parameters(t, delta_t):\n",
    "    model = Model(complicated_model_fn)\n",
    "    params = Parameters()\n",
    "    params.add('time',value=t,vary=False)\n",
    "    for p, (p_min,p_max) in params_min_max.items():\n",
    "        value = p_min + (p_max-p_min)*np.random.random(1)\n",
    "        params.add(p,min=p_min,max=p_max,value=value)\n",
    "    return model, params"
   ]
  },
  {
   "cell_type": "markdown",
   "id": "6bf4d508",
   "metadata": {},
   "source": [
    "<!--start-block-->\n",
    "#### <span style=\"color:green\">>>>RUN</span>\n",
    "\n",
    "This function cuts the data to data around $t$ and performs a fit, using your `model_and_random_parameters` function.\n",
    "\n",
    "<!--\n",
    "#initial code\n",
    "def fit_once(t):\n",
    "    data_indices = np.where((xi > t - t_before) & (xi < t + t_after))\n",
    "    data_x = xi[data_indices]\n",
    "    data_y = yi[data_indices]\n",
    "    model, params = model_and_random_parameters(t)\n",
    "    result = model.fit(data_y, params, x=data_x)\n",
    "    return result\n",
    "-->\n",
    "\n",
    "<!--end-block-->"
   ]
  },
  {
   "cell_type": "code",
   "execution_count": 6,
   "id": "9210f898",
   "metadata": {},
   "outputs": [],
   "source": [
    "def fit_once(t):\n",
    "    data_indices = np.where((xi > t - t_before) & (xi < t + t_after))\n",
    "    data_x = xi[data_indices]\n",
    "    data_y = yi[data_indices]\n",
    "    model, params = model_and_random_parameters(t,1)\n",
    "    result = model.fit(data_y, params, x=data_x)\n",
    "    return result"
   ]
  },
  {
   "cell_type": "markdown",
   "id": "3271f5ca",
   "metadata": {},
   "source": [
    "<!--start-block-->\n",
    "#### <span style=\"color:#BA2220\">>>>EXERCISE</span>\n",
    "\n",
    "Call `fit_once` at $t=0$. We would hope the result succeeds, since the waveform was inserted into the data at $t=0$. However, it doesn't always in practice.\n",
    "\n",
    "<!--\n",
    "#initial code\n",
    "#your code here\n",
    "-->\n",
    "\n",
    "<!--\n",
    "#solution\n",
    "result = fit_once(TIME_TRUE)\n",
    "print(result.fit_report())\n",
    "result.plot();\n",
    "-->\n",
    "\n",
    "<!--end-block-->"
   ]
  },
  {
   "cell_type": "code",
   "execution_count": 7,
   "id": "c17dd02d",
   "metadata": {},
   "outputs": [
    {
     "data": {
      "text/html": [
       "<h2> Model</h2> Model(complicated_model_fn) <h2>Fit Statistics</h2><table><tr><td>fitting method</td><td>leastsq</td><td></td></tr><tr><td># function evals</td><td>41</td><td></td></tr><tr><td># data points</td><td>20</td><td></td></tr><tr><td># variables</td><td>6</td><td></td></tr><tr><td>chi-square</td><td> 0.99857483</td><td></td></tr><tr><td>reduced chi-square</td><td> 0.07132677</td><td></td></tr><tr><td>Akaike info crit.</td><td>-47.9431692</td><td></td></tr><tr><td>Bayesian info crit.</td><td>-41.9687756</td><td></td></tr></table><h2>Variables</h2><table><tr><th> name </th><th> value </th><th> initial value </th><th> min </th><th> max </th><th> vary </th></tr><tr><td> time </td><td>  0.00000000 </td><td> 0 </td><td>        -inf </td><td>         inf </td><td> False </td></tr><tr><td> lambda_plus </td><td>  4.89137676 </td><td> [4.74686302] </td><td>  0.10000000 </td><td>  5.00000000 </td><td> True </td></tr><tr><td> lambda_minus </td><td>  0.15828433 </td><td> [1.73004565] </td><td>  0.10000000 </td><td>  5.00000000 </td><td> True </td></tr><tr><td> max_amp </td><td>  1.0658e-13 </td><td> [0.26925915] </td><td>  0.00000000 </td><td>  2.00000000 </td><td> True </td></tr><tr><td> omega_0 </td><td>  0.02367971 </td><td> [3.66804476] </td><td>  0.00000000 </td><td>  5.00000000 </td><td> True </td></tr><tr><td> omega_max </td><td>  3.64233381 </td><td> [2.20775126] </td><td>  0.00000000 </td><td>  10.0000000 </td><td> True </td></tr><tr><td> omega_sigma </td><td>  1.46601992 </td><td> [3.09416592] </td><td>  0.00000000 </td><td>  5.00000000 </td><td> True </td></tr></table>"
      ],
      "text/plain": [
       "<lmfit.model.ModelResult at 0x7f97b03e77f0>"
      ]
     },
     "execution_count": 7,
     "metadata": {},
     "output_type": "execute_result"
    }
   ],
   "source": [
    "fit_once(0)"
   ]
  },
  {
   "cell_type": "markdown",
   "id": "6cd96bca",
   "metadata": {},
   "source": [
    "<!--start-block-->\n",
    "#### <span style=\"color:green\">>>>RUN</span>\n",
    "\n",
    "Instead of `fit_once`, we'll use a new function called `fit`, which runs `fit_once` multiple times and takes the best result.\n",
    "<!--\n",
    "#initial code\n",
    "from multiprocessing import Pool\n",
    "\n",
    "NUM_FITS = 6\n",
    "\n",
    "def fit(t, pool):\n",
    "    results = pool.map(fit_once, np.full(NUM_FITS, t))\n",
    "    min_result = None\n",
    "    min_chisq = None\n",
    "    for result in results:\n",
    "        if min_chisq is None or min_chisq > result.chisqr:\n",
    "            min_result = result\n",
    "            min_chisq = result.chisqr\n",
    "    return min_result\n",
    "\n",
    "with Pool(6) as pool:\n",
    "    result = fit(TIME_TRUE, pool)\n",
    "print(result.fit_report())\n",
    "result.plot();\n",
    "-->\n",
    "\n",
    "<!--end-block-->"
   ]
  },
  {
   "cell_type": "code",
   "execution_count": 8,
   "id": "ee789178",
   "metadata": {},
   "outputs": [],
   "source": [
    "NUM_FITS = 6\n",
    "def fit(t):\n",
    "    results = [fit_once(t) for t in np.full(NUM_FITS,t)]\n",
    "    min_result = None\n",
    "    min_chisq = None\n",
    "    for result in results:\n",
    "        if min_chisq is None or min_chisq > result.chisqr:\n",
    "            min_result = result\n",
    "            min_chisq = result.chisqr\n",
    "    return min_result"
   ]
  },
  {
   "cell_type": "markdown",
   "id": "108df0d2",
   "metadata": {},
   "source": [
    "<!--start-block-->\n",
    "#### <span style=\"color:#BA2220\">>>>EXERCISE</span>\n",
    "\n",
    "Call `fit` for values of $t \\in [-100, 100]$, where the $t$ values are separated by $\\Delta t \\sim 1 \\text{s}$. Store the results in an array named `results`. This may take a while.\n",
    "\n",
    "\n",
    "<!--\n",
    "#initial code\n",
    "results = []\n",
    "delta_t = 1\n",
    "ts = np.arange(-10, 10, delta_t)\n",
    "\n",
    "#your code here\n",
    "-->\n",
    "\n",
    "<!--\n",
    "#solution\n",
    "results = []\n",
    "delta_t = 1\n",
    "ts = np.arange(-100, 100, delta_t)\n",
    "\n",
    "with Pool(NUM_F|ITS) as pool:\n",
    "    for t in ts:\n",
    "        if t % 10 == 0: print(t)\n",
    "        results.append(fit(t, pool))\n",
    "-->\n",
    "\n",
    "<!--end-block-->"
   ]
  },
  {
   "cell_type": "code",
   "execution_count": 9,
   "id": "04b4106b",
   "metadata": {},
   "outputs": [
    {
     "name": "stdout",
     "output_type": "stream",
     "text": [
      "-100\n",
      "-95\n",
      "-90\n",
      "-85\n",
      "-80\n",
      "-75\n",
      "-70\n",
      "-65\n",
      "-60\n",
      "-55\n",
      "-50\n",
      "-45\n",
      "-40\n",
      "-35\n",
      "-30\n",
      "-25\n",
      "-20\n",
      "-15\n",
      "-10\n",
      "-5\n",
      "0\n",
      "5\n",
      "10\n",
      "15\n",
      "20\n",
      "25\n",
      "30\n",
      "35\n",
      "40\n",
      "45\n",
      "50\n",
      "55\n",
      "60\n",
      "65\n",
      "70\n",
      "75\n",
      "80\n",
      "85\n",
      "90\n",
      "95\n"
     ]
    }
   ],
   "source": [
    "results = []\n",
    "delta_t = 1\n",
    "ts = np.arange(-100, 100, delta_t)\n",
    "\n",
    "#your code here\n",
    "for t in ts:\n",
    "    if t%5==0:\n",
    "        print(t)\n",
    "        results.append(fit(t))\n"
   ]
  },
  {
   "cell_type": "markdown",
   "id": "60f85e3f",
   "metadata": {},
   "source": [
    "<!--start-block-->\n",
    "#### <span style=\"color:#BA2220\">>>>EXERCISE</span>\n",
    "\n",
    "Choose some number which represents the success of the fit and plot it as a function of $t$ given the `results` you just calculated.\n",
    "\n",
    "<!--\n",
    "#initial code\n",
    "#your code here\n",
    "-->\n",
    "\n",
    "<!--\n",
    "#solution\n",
    "amps = [r.params[\"max_amp\"].value for r in results]\n",
    "plt.plot(ts, amps)\n",
    "plt.xlabel(\"Time(s)\")\n",
    "plt.ylabel(\"Wave amplitudes (SNR)\")\n",
    "-->\n",
    "\n",
    "<!--end-block-->"
   ]
  },
  {
   "cell_type": "code",
   "execution_count": 10,
   "id": "500efbb5",
   "metadata": {},
   "outputs": [
    {
     "name": "stdout",
     "output_type": "stream",
     "text": [
      "[-100, -95, -90, -85, -80, -75, -70, -65, -60, -55, -50, -45, -40, -35, -30, -25, -20, -15, -10, -5, 0, 5, 10, 15, 20, 25, 30, 35, 40, 45, 50, 55, 60, 65, 70, 75, 80, 85, 90, 95]\n"
     ]
    }
   ],
   "source": [
    "tss = [5*i-100 for i in range(40)]\n",
    "print(tss)"
   ]
  },
  {
   "cell_type": "code",
   "execution_count": 58,
   "id": "eb9d3b96",
   "metadata": {},
   "outputs": [
    {
     "data": {
      "text/plain": [
       "[<matplotlib.lines.Line2D at 0x7fe3d95e9a30>]"
      ]
     },
     "execution_count": 58,
     "metadata": {},
     "output_type": "execute_result"
    },
    {
     "data": {
      "image/png": "[encoded data removed]",
      "text/plain": [
       "<Figure size 432x288 with 1 Axes>"
      ]
     },
     "metadata": {
      "needs_background": "light"
     },
     "output_type": "display_data"
    }
   ],
   "source": [
    "#your code here\n",
    "amps = [r.params[\"max_amp\"] for r in results]\n",
    "plt.plot(tss,amps)"
   ]
  },
  {
   "cell_type": "markdown",
   "id": "c10e21a2",
   "metadata": {},
   "source": [
    "<!--start-block-->\n",
    "#### <span style=\"color:purple\">>>>QUESTION</span>\n",
    "\n",
    "This took a while to run. But in practice, it's nice to have searches like this run quickly, so that if a wave event is detected, an alert can be sent out to telescopes all over the world and they can look at the correct area of the sky with minimal delay.\n",
    "\n",
    "How could you make this process faster, aside from running it on better hardware?\n",
    "\n",
    "<!--\n",
    "#solution\n",
    "- Constrain parameters of the model to realistic values so that you're fitting with fewer degrees of freedom\n",
    "- Delve into the minimization software and tell it to halt if it's detecting a chi squared value above a certain threshold. Don't bother to minimize all the way to the maximum chi squared if you already know it's going to be significant\n",
    "- Don't perform a full fit; compare to some template or set of templates and plot the chi squared\n",
    "- Don't use the time domain! (see below)\n",
    "-->\n",
    "\n",
    "\n",
    "<br>\n",
    "<!--end-block-->"
   ]
  },
  {
   "cell_type": "markdown",
   "id": "98e08f5c",
   "metadata": {},
   "source": [
    "<!--start-block-->\n",
    "<hr style=\"height: 1px;\">\n",
    "\n",
    "## 5.3 Frequency domain\n",
    "\n",
    "Now we're going to do a similar process in the frequency domain, but instead of performing a fit, we're going compare the data to a template merger which we will generate.\n",
    "\n",
    "<!--end-block-->"
   ]
  },
  {
   "cell_type": "markdown",
   "id": "ffc39667",
   "metadata": {},
   "source": [
    "<!--start-block-->\n",
    "#### <span style=\"color:green\">>>>RUN</span>\n",
    "\n",
    "Let's start by making the template in the time domain. The parameters will be similar to the true values, but slightly off.\n",
    "<!--\n",
    "#initial code\n",
    "yi_temp = complicated_model_fn(xi, 0, 1.5, 3.5, 1.0, 3.2, 5.5, 3.5)\n",
    "yi_true = complicated_model_fn(xi, TIME_TRUE, LAMBDA_PLUS_TRUE, LAMBDA_MINUS_TRUE, MAX_AMP_TRUE,\n",
    "                               OMEGA_0_TRUE, OMEGA_MAX_TRUE, OMEGA_SIGMA_TRUE)\n",
    "\n",
    "template_mask = np.where((xi > -15) & (xi < 5))\n",
    "data_mask = np.where((xi > TIME_TRUE-15) & (xi < TIME_TRUE+5))\n",
    "plt.plot(xi[data_mask]-TIME_TRUE, yi_true[data_mask], label=\"True\")\n",
    "plt.plot(xi[template_mask], yi_temp[template_mask], label=\"Template\")\n",
    "plt.xlabel(\"Time (s)\")\n",
    "plt.ylabel(\"Strain\")\n",
    "plt.legend();\n",
    "-->\n",
    "\n",
    "<!--end-block-->"
   ]
  },
  {
   "cell_type": "code",
   "execution_count": null,
   "id": "6a74ef9d",
   "metadata": {},
   "outputs": [],
   "source": [
    "yi_temp = complicated_model_fn(xi, 0, 1.5, 3.5, 1.0, 3.2, 5.5, 3.5)\n",
    "yi_true = complicated_model_fn(xi, TIME_TRUE, LAMBDA_PLUS_TRUE, LAMBDA_MINUS_TRUE, MAX_AMP_TRUE,\n",
    "                               OMEGA_0_TRUE, OMEGA_MAX_TRUE, OMEGA_SIGMA_TRUE)\n",
    "\n",
    "template_mask = np.where((xi > -15) & (xi < 5))\n",
    "data_mask = np.where((xi > TIME_TRUE-15) & (xi < TIME_TRUE+5))\n",
    "plt.plot(xi[data_mask]-TIME_TRUE, yi_true[data_mask], label=\"True\")\n",
    "plt.plot(xi[template_mask], yi_temp[template_mask], label=\"Template\")\n",
    "plt.xlabel(\"Time (s)\")\n",
    "plt.ylabel(\"Strain\")\n",
    "plt.legend();"
   ]
  },
  {
   "cell_type": "markdown",
   "id": "b19d5741",
   "metadata": {},
   "source": [
    "<!--start-block-->\n",
    "#### <span style=\"color:green\">>>>RUN</span>\n",
    "\n",
    "We're going to be working in the frequency domain, so start by fft-ing our template and data.\n",
    "\n",
    "<!--\n",
    "#initial code\n",
    "import matplotlib.pyplot as plt\n",
    "\n",
    "fs = int(1/(xi[1] - xi[0]))\n",
    "\n",
    "data_fft = np.fft.fft(yi)\n",
    "template_fft = np.fft.fft(yi_temp)\n",
    "\n",
    "freq = np.fft.fftfreq(xi.shape[0])*fs\n",
    "\n",
    "#template_fft *= np.exp(-1.0j * 50 * freq * 2 * np.pi)\n",
    "\n",
    "plt.figure(figsize=(16, 5))\n",
    "plt.plot(freq, data_fft.real)\n",
    "plt.plot(freq, data_fft.imag)\n",
    "plt.xlabel(\"Frequency (Hz)\")\n",
    "plt.ylabel(\"Power\")\n",
    "plt.ylim(-20, 20)\n",
    "\n",
    "plt.figure(figsize=(16, 5))\n",
    "plt.plot(freq, template_fft.real)\n",
    "plt.plot(freq, template_fft.imag)\n",
    "plt.xlabel(\"Frequency (Hz)\")\n",
    "plt.ylabel(\"Power\")\n",
    "plt.ylim(-20, 20)\n",
    "-->\n",
    "\n",
    "<!--end-block-->"
   ]
  },
  {
   "cell_type": "code",
   "execution_count": null,
   "id": "a09a8579",
   "metadata": {},
   "outputs": [],
   "source": [
    "import matplotlib.pyplot as plt\n",
    "\n",
    "fs = int(1/(xi[1] - xi[0]))\n",
    "\n",
    "data_fft = np.fft.fft(yi)\n",
    "template_fft = np.fft.fft(yi_temp)\n",
    "\n",
    "freq = np.fft.fftfreq(xi.shape[0])*fs\n",
    "\n",
    "#template_fft *= np.exp(-1.0j * 50 * freq * 2 * np.pi)\n",
    "\n",
    "plt.figure(figsize=(16, 5))\n",
    "plt.plot(freq, data_fft.real)\n",
    "plt.plot(freq, data_fft.imag)\n",
    "plt.xlabel(\"Frequency (Hz)\")\n",
    "plt.ylabel(\"Power\")\n",
    "plt.ylim(-20, 20)\n",
    "\n",
    "plt.figure(figsize=(16, 5))\n",
    "plt.plot(freq, template_fft.real)\n",
    "plt.plot(freq, template_fft.imag)\n",
    "plt.xlabel(\"Frequency (Hz)\")\n",
    "plt.ylabel(\"Power\")\n",
    "plt.ylim(-20, 20)"
   ]
  },
  {
   "cell_type": "markdown",
   "id": "9c3da54e",
   "metadata": {},
   "source": [
    "<!--start-block-->\n",
    "Now suppose we want to do the same thing we did in the time domain case: shift the template by a time $t$. What happens to the FFT? Consider the integral definition of a fourier transform (as a substitute for the discrete case):\n",
    "\n",
    "$$\\mathcal{F}(\\omega) = \\int dt f(t)  e^{-2\\pi i\\omega t}$$\n",
    "\n",
    "So the FFT for a function shifted by $\\Delta t$ is\n",
    "\n",
    "$$\\int dt f(t - \\Delta t)  e^{-2\\pi i\\omega t} = \\int dt' f(t')  e^{-2\\pi i\\omega (t'+\\Delta t)} = e^{-2\\pi i \\omega \\Delta t}\\mathcal{F}(\\omega).$$\n",
    "\n",
    "It's just a multiplicative factor times the initial template FFT!\n",
    "\n",
    "<!--end-block-->"
   ]
  },
  {
   "cell_type": "markdown",
   "id": "aa9d8a29",
   "metadata": {},
   "source": [
    "<!--start-block-->\n",
    "So suppose our data is indeed just our template, shifted by some time $\\Delta t$. We can recover $\\Delta t$ from the data FFT $\\mathcal{D}$ and the template FFT $\\mathcal{T}$ by\n",
    "\n",
    "$$\\mathcal{D}(\\omega)=e^{-2\\pi i\\omega \\Delta t} \\mathcal{T}(\\omega) \\implies \\frac{\\mathcal{D}(\\omega)}{\\mathcal{T}(\\omega)}=e^{-2\\pi i\\omega \\Delta t} = \\frac{\\mathcal{D}(\\omega) \\mathcal{T}^*(\\omega)}{|\\mathcal{T}|^2(\\omega)}.$$\n",
    "\n",
    "Take the inverse Fourier transform of this ratio and you get a delta function at $\\Delta t$:\n",
    "\n",
    "$$f(t) = \\int d\\omega e^{-2\\pi i\\omega \\Delta t} e^{2\\pi i\\omega t} = \\delta(\\Delta t - t).$$\n",
    "\n",
    "In other words, the peak of the IFFT of \n",
    "$$f(\\omega) =\\mathcal{D}(\\omega) \\mathcal{T}^*(\\omega)$$\n",
    "is centered on $\\Delta t$.\n",
    "\n",
    "There's some extra complication behind this, but above is the gist. For more information, see the [LIGO tutorial from which this code is inspired](https://www.gw-openscience.org/s/events/GW150914/LOSC_Event_tutorial_GW150914.html).\n",
    "\n",
    "<!--end-block-->"
   ]
  },
  {
   "cell_type": "markdown",
   "id": "edf4755a",
   "metadata": {},
   "source": [
    "<!--start-block-->\n",
    "#### <span style=\"color:green\">>>>RUN</span>\n",
    "\n",
    "Let's compute $f(\\omega)$ as written above, using the power spectral density of the data instead of $|\\mathcal{T}|^2$ in the numerator. We call it `optimal_fft`. Then we take the IFFT and call it `optimal_time`.\n",
    "\n",
    "<!--\n",
    "#initial code\n",
    "power_data, freq_psd = plt.psd(yi, Fs=fs, NFFT=4 * fs)\n",
    "power_vec = np.interp(freq, freq_psd, power_data)\n",
    "\n",
    "optimal_fft = data_fft * template_fft.conjugate() / power_vec\n",
    "\n",
    "optimal_time = 2*np.fft.ifft(optimal_fft)*fs\n",
    "optimal_time_xi = np.append(xi[len(xi)//2:], xi[:len(xi)//2])\n",
    "-->\n",
    "\n",
    "<!--end-block-->"
   ]
  },
  {
   "cell_type": "code",
   "execution_count": null,
   "id": "ef2a5522",
   "metadata": {},
   "outputs": [],
   "source": [
    "power_data, freq_psd = plt.psd(yi, Fs=fs, NFFT=4 * fs)\n",
    "power_vec = np.interp(freq, freq_psd, power_data)\n",
    "\n",
    "optimal_fft = data_fft * template_fft.conjugate() / power_vec\n",
    "\n",
    "optimal_time = 2*np.fft.ifft(optimal_fft)*fs\n",
    "optimal_time_xi = np.append(xi[len(xi)//2:], xi[:len(xi)//2])"
   ]
  },
  {
   "cell_type": "markdown",
   "id": "36c0d77f",
   "metadata": {},
   "source": [
    "<!--start-block-->\n",
    "#### <span style=\"color:green\">>>>RUN</span>\n",
    "\n",
    "We should really plot some sort of signal to noise ratio, not `optimal_time` itself. Let's fix the ratio so that if the data is just noise, we have a ratio of one. We record the ratio as `SNR` and plot it.\n",
    "<!--\n",
    "#initial code\n",
    "df = np.abs(freq[1] - freq[0])\n",
    "sigmasq = 2*(template_fft * template_fft.conjugate() / power_vec).sum() * df\n",
    "sigma = np.sqrt(np.abs(sigmasq))\n",
    "SNR = abs(optimal_time) / (sigma)\n",
    "\n",
    "plt.figure()\n",
    "plt.plot(optimal_time_xi, SNR)\n",
    "plt.xlabel('Offset time (s)')\n",
    "plt.ylabel('SNR');\n",
    "-->\n",
    "\n",
    "<!--end-block-->"
   ]
  },
  {
   "cell_type": "code",
   "execution_count": null,
   "id": "7002b386",
   "metadata": {},
   "outputs": [],
   "source": [
    "df = np.abs(freq[1] - freq[0])\n",
    "sigmasq = 2*(template_fft * template_fft.conjugate() / power_vec).sum() * df\n",
    "sigma = np.sqrt(np.abs(sigmasq))\n",
    "SNR = abs(optimal_time) / (sigma)\n",
    "\n",
    "plt.figure()\n",
    "plt.plot(optimal_time_xi, SNR)\n",
    "plt.xlabel('Offset time (s)')\n",
    "plt.ylabel('SNR');"
   ]
  },
  {
   "cell_type": "markdown",
   "id": "6ae073dd",
   "metadata": {},
   "source": [
    "<!--start-block-->\n",
    "#### <span style=\"color:purple\">>>>QUESTION</span>\n",
    "\n",
    "Change the data, perhaps by adding more noise or a different kind of noise, or by shifting the signal to a different time. What changes in the matched filter result?\n",
    "\n",
    "<!--\n",
    "#solution\n",
    "The max filter peak should track the time of the event\n",
    "-->\n",
    "\n",
    "<!--end-block-->"
   ]
  },
  {
   "cell_type": "markdown",
   "id": "454661bc",
   "metadata": {},
   "source": [
    "<!--start-block-->\n",
    "#### <span style=\"color:purple\">>>>QUESTION</span>\n",
    "\n",
    "The runtime of the frequency domain matched filtering process was much faster than the time domain process. But we should not compare the directly because we tested against a template for the frequency version and performed a whole fit for the time version.\n",
    "\n",
    "If we instead used a template for the time version as well, computing a $\\chi^2$ for every offset $t$ between the signal and the template and plotted $\\chi^2$ as a function of $t$, which method do you think would be faster now? Frequency or time?\n",
    "\n",
    "<!--\n",
    "#solution\n",
    "Still frequency. If the template is $m$ long and the data is $n$ long, the time domain has complexity $O(mn)$, since it must spend $m$ operations computing a $\\chi^2$ for each of the $n$ data points.\n",
    "\n",
    "The frequency domain computes an $O(n\\log n)$ and $O(m\\log m)$ fft, then computes the product of the data and template ffts in $O(n)$ time. That's faster than the time case.\n",
    "-->\n",
    "\n",
    "<!--end-block-->"
   ]
  }
 ],
 "metadata": {
  "kernelspec": {
   "display_name": "Python 3 (ipykernel)",
   "language": "python",
   "name": "python3"
  },
  "language_info": {
   "codemirror_mode": {
    "name": "ipython",
    "version": 3
   },
   "file_extension": ".py",
   "mimetype": "text/x-python",
   "name": "python",
   "nbconvert_exporter": "python",
   "pygments_lexer": "ipython3",
   "version": "3.9.7"
  }
 },
 "nbformat": 4,
 "nbformat_minor": 5
}
