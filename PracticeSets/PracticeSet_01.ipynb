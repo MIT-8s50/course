{
 "cells": [
  {
   "cell_type": "markdown",
   "metadata": {},
   "source": [
    "<!--start-block-->\n",
    "<hr style=\"height: 1px;\">\n",
    "<i>This code was authored by the 8.S50x Course Team, Copyright 2021 MIT All Rights Reserved.</i>\n",
    "<hr style=\"height: 1px;\">\n",
    "<br>\n",
    "\n",
    "# Practice Set 1\n",
    "\n",
    "<br>\n",
    "<!--end-block-->"
   ]
  },
  {
   "cell_type": "markdown",
   "metadata": {},
   "source": [
    "<!--start-block-->\n",
    "<hr style=\"height: 1px;\">\n",
    "\n",
    "## Overview of Learning Objectives and Instructions\n",
    "\n",
    "\n",
    "### Learning Objectives\n",
    "\n",
    "This Practice Set covers the following learning objectives from recitation 1:\n",
    "\n",
    "- Gaussian distributions\n",
    "- Comparing functions and randomly generated data\n",
    "- Poisson processes\n",
    "\n",
    "### Instructions\n",
    "\n",
    "Each exercise below is interactive. Run the interactive cell for each exercise and enter your solution code in the problem that is opened. When you are ready, submit your code and it will automatically be checked for correctness, but not graded for credit.\n",
    "\n",
    "Each interactive problem has the following options:\n",
    "- ***Run Code:*** Run your code to check that no errors arise.\n",
    "- ***Save:*** Save your work. Your saved work will appear again anytime you run the notebook.\n",
    "- ***Submit:*** Submit your work to be checked for correctness.\n",
    "- ***View Answer:*** View the answer after you submit.\n",
    "\n",
    "\n",
    "<!--end-block-->"
   ]
  },
  {
   "cell_type": "markdown",
   "metadata": {},
   "source": [
    "<!--start-block-->\n",
    "<hr style=\"height: 1px;\">\n",
    "\n",
    "## Setup\n",
    "\n",
    "Evaluate the cell below once, each time you start this notebook. This code establishes an authenticated connection to the server used for interactive problems.\n",
    "\n",
    "After you have run the line <code>!pip3 install ...</code> once, you do not have to run it again. Here it is commented out, but if this is your first time running any interactive problems, you can run the install."
   ]
  },
  {
   "cell_type": "code",
   "execution_count": null,
   "metadata": {},
   "outputs": [],
   "source": [
    "# Evaluate this and the following cell once, each time you start using the notebook\n",
    "\n",
    "#!pip3 install git+https://github.com/ichuang/ipynb2catsoop.git\n",
    "from ipynb2catsoop.catsoop2nb import CatsoopInterface"
   ]
  },
  {
   "cell_type": "code",
   "execution_count": null,
   "metadata": {},
   "outputs": [],
   "source": [
    "# This code establishes an authenticated connection to the server used for interactive problems\n",
    "\n",
    "CIF = CatsoopInterface(host=\"eecs.odl.mit.edu/cat-soop\", course=\"8.S50\")\n",
    "CIF.do_auth()"
   ]
  },
  {
   "cell_type": "markdown",
   "metadata": {},
   "source": [
    "<!--start-block-->\n",
    "<hr style=\"height: 1px;\">\n",
    "\n",
    "## 1. Gaussian Distribution"
   ]
  },
  {
   "cell_type": "markdown",
   "metadata": {},
   "source": [
    "<!--start-block-->\n",
    "### <span style=\"color:#BA2220\">>>>EXERCISE 1.1</span>\n",
    "\n",
    "Plot two Gaussian distributions, with the following parameters:\n",
    "1. $\\mu=5, \\sigma = 1.0$\n",
    "2. $\\mu=10, \\sigma = 2.0$\n",
    "\n",
    "Define one function to do this, and do not use functions from scipy.stats. Write your own for this exercise."
   ]
  },
  {
   "cell_type": "code",
   "execution_count": null,
   "metadata": {},
   "outputs": [],
   "source": [
    "# Use this cell for drafting your solution, if desired, then enter your solution in the interactive problem.\n",
    "import numpy as np\n",
    "import matplotlib.pyplot as plt\n",
    "\n",
    "def gauss_mu_sigma(x,mu,sigma):\n",
    "    return #your code here\n",
    "\n",
    "def plot_gauss_pdf(mu,sigma):\n",
    "    x = np.linspace(0,20, 1000) #make a vector of points from 0 to 20 with 1000 data points\n",
    "    plt.plot(x, gauss_mu_sigma(x,mu,sigma), label = \"$\\mu=$\" + str(mu) + \", $\\sigma=$\" + str(sigma))\n",
    "    plt.legend(loc=1)\n",
    "    return\n",
    "\n",
    "plot_gauss_pdf(5,1)\n",
    "plot_gauss_pdf(10,2)"
   ]
  },
  {
   "cell_type": "code",
   "execution_count": null,
   "metadata": {},
   "outputs": [],
   "source": [
    "# Evaluate this cell to show the interactive problem, then enter your solution below.\n",
    "CIF.show_question(\"PracticeSet01\", \"two_gaussians\")"
   ]
  },
  {
   "cell_type": "markdown",
   "metadata": {},
   "source": [
    "<!--start-block-->\n",
    "### <span style=\"color:#BA2220\">>>>EXERCISE 1.2</span>\n",
    "\n",
    "Sample 1000 data points from the Gaussian distribution with $\\mu=5, \\sigma = 1.0$, and plot a histogram with centered bins from 0-10 (inclusive) with bin-width 0.5. Plot the Gaussian distribution on the same plot. What happens if you increase the number of points that are drawn? Try this."
   ]
  },
  {
   "cell_type": "code",
   "execution_count": null,
   "metadata": {},
   "outputs": [],
   "source": [
    "# Use this cell for drafting your solution, if desired, then enter your solution in the interactive problem.\n",
    "import numpy as np\n",
    "import matplotlib.pyplot as plt\n",
    "\n",
    "def get_gauss_data_bins(mu, sigma, num_samples):\n",
    "    s_vals = #your code here, use np.random.normal\n",
    "    bin_width = #your code here\n",
    "    bin_num = #your code here\n",
    "    bin_vals = #your code here\n",
    "    return s_vals, bin_vals\n",
    "\n",
    "def plot_hist_gauss_pdf(mu, sigma, num_samples):\n",
    "    s, bins = get_gauss_data_bins(mu, sigma, num_samples)\n",
    "    x = np.linspace(0,10, 1000) #make a vector of points from 0 to 10 with 1000 data points\n",
    "    plt.hist(s, bins=bins, density=True, label=\"Gaussian data\")\n",
    "    plt.plot(x, gauss_mu_sigma(x,mu,sigma), label = \"Gaussian function\")\n",
    "    plt.xlim(0,10)\n",
    "    plt.legend(loc=1)\n",
    "    return\n",
    "\n",
    "plot_hist_gauss_pdf(5, 1, 1000)"
   ]
  },
  {
   "cell_type": "code",
   "execution_count": null,
   "metadata": {},
   "outputs": [],
   "source": [
    "# Evaluate this cell  to show the interactive problem, then enter your solution below.\n",
    "CIF.show_question(\"PracticeSet01\", \"gauss_hist_compare\")"
   ]
  },
  {
   "cell_type": "markdown",
   "metadata": {},
   "source": [
    "<!--start-block-->\n",
    "<hr style=\"height: 1px;\">\n",
    "\n",
    "## 2. Poisson Distribution"
   ]
  },
  {
   "cell_type": "markdown",
   "metadata": {},
   "source": [
    "<!--start-block-->\n",
    "### <span style=\"color:#BA2220\">>>>EXERCISE 2.1</span>\n",
    "\n",
    "Consider a Poisson process where 500 events occur within a time range of 250 seconds (thus, the average time between events is known). Plot both the data generated by this process and the expected Poisson distribution (PDF)."
   ]
  },
  {
   "cell_type": "code",
   "execution_count": null,
   "metadata": {},
   "outputs": [],
   "source": [
    "# Use this cell for drafting your solution, if desired, then enter your solution in the interactive problem.\n",
    "import numpy as np\n",
    "import matplotlib.pyplot as plt\n",
    "from scipy.special import factorial\n",
    "\n",
    "def Poisson_PDF(l,k):\n",
    "    return #your code here\n",
    "\n",
    "\n",
    "def Poisson_data(NUM_EVENTS, TIME_RANGE, TIME_INTERVAL):\n",
    "    num_intervals = #your code here\n",
    "    event_times = #your code here, draw a number of events from np.random.random, and multiply by the time range\n",
    "    counts = #your code here, sum the number of events in each interval, returns a list of counts for each bin\n",
    "    return counts\n",
    "    \n",
    "\n",
    "def plot_1(NUM_EVENTS, TIME_RANGE, TIME_INTERVAL):\n",
    "    counts = Poisson_data(NUM_EVENTS, TIME_RANGE, TIME_INTERVAL)\n",
    "    bins = np.arange(np.max(counts)+2)-0.5 # Center the bins on the integers\n",
    "\n",
    "    plt.hist(counts, bins=bins, density=True)\n",
    "    plt.xlabel(\"Number of events in interval\")\n",
    "    plt.ylabel(\"Fraction of intervals\")\n",
    "\n",
    "    l = TIME_INTERVAL * (NUM_EVENTS / TIME_RANGE)\n",
    "    k = np.arange(np.max(counts), dtype=int)\n",
    "\n",
    "    plt.plot(k,Poisson_PDF(l,k), label=\"Poisson PDF\")\n",
    "    plt.legend(loc=1)\n",
    "    return\n",
    "\n",
    "\n",
    "NUM_EVENTS = 500\n",
    "TIME_RANGE = 250\n",
    "TIME_INTERVAL = 1 #units of the time interval (1s is default)\n",
    "\n",
    "plot_1(NUM_EVENTS, TIME_RANGE, TIME_INTERVAL)"
   ]
  },
  {
   "cell_type": "code",
   "execution_count": null,
   "metadata": {},
   "outputs": [],
   "source": [
    "# Evaluate this cell  to show the interactive problem, then enter your solution below.\n",
    "CIF.show_question(\"PracticeSet01\", \"poisson_hist_compare\")"
   ]
  },
  {
   "cell_type": "markdown",
   "metadata": {},
   "source": [
    "<!--start-block-->\n",
    "### <span style=\"color:#BA2220\">>>>EXERCISE 2.2</span>\n",
    "\n",
    "Show that this Poisson process tends towards a Gaussian distribution by plotting the histogram of this process, the expected Poison PDF, and the Gaussian PDF for a number of events equal to 5000."
   ]
  },
  {
   "cell_type": "code",
   "execution_count": null,
   "metadata": {},
   "outputs": [],
   "source": [
    "# Use this cell for drafting your solution, if desired, then enter your solution in the interactive problem.\n",
    "import numpy as np\n",
    "import matplotlib.pyplot as plt\n",
    "from scipy.special import factorial\n",
    "import math\n",
    "\n",
    "def Gaussian_l_k(l,k):\n",
    "    return #your code here\n",
    "\n",
    "def get_l_k(NUM_EVENTS, TIME_RANGE, TIME_INTERVAL):\n",
    "    counts = #your code here, call Poisson_data that you defined previously\n",
    "    l = #your code here, the average event rate\n",
    "    k = #your code here, an array of integers corresponding to the range of [0,np.max(counts))\n",
    "    return l, k\n",
    "\n",
    "def plot_2(NUM_EVENTS, TIME_RANGE, TIME_INTERVAL):\n",
    "    l, k = get_l_k(NUM_EVENTS, TIME_RANGE, TIME_INTERVAL)\n",
    "    plt.plot(k, Gaussian_l_k(l,k), label=\"Gaussian PDF\")\n",
    "    plt.legend(loc=2)\n",
    "    return\n",
    "\n",
    "NUM_EVENTS = 5000\n",
    "TIME_RANGE = 250\n",
    "TIME_INTERVAL = 1\n",
    "\n",
    "plot_1(NUM_EVENTS, TIME_RANGE, TIME_INTERVAL)\n",
    "plot_2(NUM_EVENTS, TIME_RANGE, TIME_INTERVAL)"
   ]
  },
  {
   "cell_type": "code",
   "execution_count": null,
   "metadata": {},
   "outputs": [],
   "source": [
    "# Evaluate this cell  to show the interactive problem, then enter your solution below.\n",
    "CIF.show_question(\"PracticeSet01\", \"gauss_poisson_compare\")"
   ]
  }
 ],
 "metadata": {
  "celltoolbar": "Raw Cell Format",
  "kernelspec": {
   "display_name": "Python 3",
   "language": "python",
   "name": "python3"
  },
  "language_info": {
   "codemirror_mode": {
    "name": "ipython",
    "version": 3
   },
   "file_extension": ".py",
   "mimetype": "text/x-python",
   "name": "python",
   "nbconvert_exporter": "python",
   "pygments_lexer": "ipython3",
   "version": "3.7.1"
  }
 },
 "nbformat": 4,
 "nbformat_minor": 2
}
