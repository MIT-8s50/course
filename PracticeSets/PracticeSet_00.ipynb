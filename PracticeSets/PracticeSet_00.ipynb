{
 "cells": [
  {
   "cell_type": "markdown",
   "metadata": {
    "deletable": false,
    "editable": false
   },
   "source": [
    "<!--start-block-->\n",
    "<hr style=\"height: 1px;\">\n",
    "<i>This code was authored by the 6.036 and 8.S50x Course Teams, Copyright 2021 MIT All Rights Reserved.</i>\n",
    "<hr style=\"height: 1px;\">\n",
    "<br>\n",
    "\n",
    "# Practice Set 0: Introduction to numpy\n",
    "\n",
    "<br>\n",
    "<!--end-block-->"
   ]
  },
  {
   "cell_type": "markdown",
   "metadata": {
    "deletable": false,
    "editable": false
   },
   "source": [
    "<!--start-block-->\n",
    "<hr style=\"height: 1px;\">\n",
    "\n",
    "## Overview of Learning Objectives and Instructions\n",
    "\n",
    "\n",
    "### Learning Objectives\n",
    "\n",
    "This Practice Set covers the following learning objectives, related to numpy operations:\n",
    "\n",
    "- Array Basics\n",
    "- Shapes\n",
    "- Indexing vs. Slicing\n",
    "- Debugging Advice\n",
    "- Coding Practice\n",
    "\n",
    "\n",
    "### Instructions\n",
    "\n",
    "Each exercise below is interactive. Run the interactive cell for each exercise and enter your solution code in the problem that is opened. When you are ready, submit your code and it will automatically be checked for correctness, but not graded for credit.\n",
    "\n",
    "Each interactive problem has the following options:\n",
    "- ***Run Code:*** Run your code to check that no errors arise.\n",
    "- ***Save:*** Save your work. Your saved work will appear again anytime you run the notebook.\n",
    "- ***Submit:*** Submit your work to be checked for correctness.\n",
    "- ***View Answer:*** View the answer after you submit.\n",
    "\n",
    "\n",
    "<!--end-block-->"
   ]
  },
  {
   "cell_type": "markdown",
   "metadata": {
    "deletable": false,
    "editable": false
   },
   "source": [
    "<!--start-block-->\n",
    "<hr style=\"height: 1px;\">\n",
    "\n",
    "## Setup\n",
    "\n",
    "Evaluate the cell below once, each time you start this notebook. This code establishes an authenticated connection to the server used for interactive problems.\n",
    "\n",
    "After you have run the line <code>!pip3 install ...</code> once, you do not have to run it again. Here it is commented out, but if this is your first time running any interactive problems, you can run the install."
   ]
  },
  {
   "cell_type": "code",
   "execution_count": null,
   "metadata": {},
   "outputs": [],
   "source": [
    "# Evaluate this and the following cell once, each time you start using the notebook\n",
    "\n",
    "#!pip3 install git+https://github.com/ichuang/ipynb2catsoop.git\n",
    "from ipynb2catsoop.catsoop2nb import CatsoopInterface"
   ]
  },
  {
   "cell_type": "code",
   "execution_count": null,
   "metadata": {
    "deletable": false,
    "editable": false
   },
   "outputs": [],
   "source": [
    "# This code establishes an authenticated connection to the server used for interactive problems\n",
    "\n",
    "CIF = CatsoopInterface(host=\"eecs.odl.mit.edu/cat-soop\", course=\"8.S50\")\n",
    "CIF.do_auth()"
   ]
  },
  {
   "cell_type": "markdown",
   "metadata": {
    "deletable": false,
    "editable": false
   },
   "source": [
    "<!--start-block-->\n",
    "<hr style=\"height: 1px;\">\n",
    "\n",
    "## Introduction\n",
    "\n",
    "Data science algorithms almost always boil down to matrix computations, so we'll need a way to efficiently work with matrices.\n",
    "\n",
    "`numpy` is a package for doing a variety of numerical computations in Python that supports writing very compact and efficient code for handling arrays of data. It is used extensively in many fields requiring numerical analysis, so it is worth getting to know.\n",
    "\n",
    "We will start every code file that uses `numpy` with `import numpy as np`, so that we can reference `numpy` functions with the `np.` precedent. The fundamental data type in numpy is the multidimensional array, and arrays are usually generated from a nested list of values using the `np.array` command. Every `array` has a `shape` attribute which is a tuple of dimension sizes.\n",
    "\n",
    "In this class, we will use one- and two-dimensional arrays routinely.  Note that it is often conventional to use 2D arrays to represent both matrices and vectors.  Even if `[[1,2,3]]` and `[1,2,3]` may look the same to us, numpy functions can behave differently depending on which format you use. The first has two dimensions (it's a list of lists), while the second has only one (it's a single list). Using only 2D arrays for both matrices and vectors gives us predictable results from numpy operations.\n",
    "\n",
    "Using 2D arrays for matrices is clear enough, but what about column and row vectors? We will represent a column vector as a $d\\times 1$ array and a row vector as a $1\\times d$\n",
    "array.  So for example, we will represent the three-element column vector,\n",
    "$$\n",
    "x =\n",
    "\\left[\n",
    "\\begin{array}{c}\n",
    "1 \\\\\n",
    "5 \\\\\n",
    "3 \\\\\n",
    "\\end{array}\n",
    "\\right],\n",
    "$$\n",
    "as a $ 3 \\times 1 $ `numpy` array.  This array can be generated with\n",
    "\n",
    "$~~~$<tt> x = np.array([[1],[5],[3]]), </tt>\n",
    "\n",
    "or by using the transpose of a $ 1 \\times 3 $ array (a row vector) as in,\n",
    "\n",
    "$~~~$<tt> x = np.transpose(np.array([[1,5,3]]),</tt>\n",
    "\n",
    "where you should take note of the \"double\" brackets.\n",
    "\n",
    "It is often more convenient to use the array attribute <tt> .T </tt>, as in\n",
    "\n",
    "$~~~$<tt> x = np.array([[1,5,3]]).T </tt>\n",
    "\n",
    "to compute the transpose.\n",
    "\n",
    "Before you begin, we would like to note that in the ineractive quesitons below, in order to learn best practices with numpy arrays, the interactive coding problems will not accept answers that use \"loops\".   One reason for avoiding loops is efficiency. For many operations, numpy calls a compiled library written in C, and the library is far faster than interpreted Python (in part due to the low-level nature of C, optimizations like vectorization, and in some cases, parallelization).  But the more important reason for avoiding loops is that using higher-level constructs leads to simpler code that is easier to debug. So, we expect that you should be able to transform loop operations into equivalent operations on numpy arrays, and we will practice this in this assignment.\n",
    "\n",
    "Of course, there will be more complex algorithms that require loops, but when manipulating matrices you should always look for a solution without loops.\n",
    "\n",
    "You can find general documentation on `numpy` <a href=\"https://docs.scipy.org/doc/numpy/user/quickstart.html\" target=\"_blank\">here</a>.\n",
    "\n",
    "Numpy functions and features you should be familiar with for this assignment:\n",
    "\n",
    "* <tt><a href=\"https://docs.scipy.org/doc/numpy/reference/generated/numpy.array.html\" target=\"_blank\">np.array</a></tt>\n",
    "* <tt><a href=\"https://docs.scipy.org/doc/numpy/reference/generated/numpy.transpose.html\" target=\"_blank\">np.transpose</a></tt> (and the equivalent method <tt>a.T</tt>)\n",
    "* <tt><a href=\"https://docs.scipy.org/doc/numpy/reference/generated/numpy.ndarray.shape.html\" target=\"_blank\">np.ndarray.shape</a></tt>\n",
    "* <tt><a href=\"https://docs.scipy.org/doc/numpy/reference/generated/numpy.dot.html\" target=\"_blank\">np.dot</a></tt> (and the equivalent method <tt>a.dot(b)</tt> )\n",
    "* <tt><a href=\"https://numpy.org/doc/stable/reference/generated/numpy.linalg.inv.html\" target=\"_blank\">np.linalg.inv</a></tt>\n",
    "* <tt><a href=\"https://numpy.org/doc/stable/reference/generated/numpy.vstack.html\" target=\"_blank\">np.vstack</a></tt>\n",
    "* <tt><a href=\"https://numpy.org/doc/stable/reference/generated/numpy.ones.html\" target=\"_blank\">np.ones</a></tt>\n",
    "* <tt><a href=\"https://numpy.org/doc/stable/reference/generated/numpy.sqrt.html\" target=\"_blank\">np.sqrt</a></tt>\n",
    "* Elementwise operators <tt>+, -, *, /</tt>\n",
    "\n",
    "**Note that in Python, `np.dot(a, b)` is the matrix product `a @ b`, not the dot product $a^T b$.**\n",
    "\n",
    "If you're unfamiliar with numpy and want to see some examples of how to use it, please see this link: <a href=\"https://canvas.mit.edu/courses/11118/modules/items/418957\" target=\"_blank\">Some Numpy Examples</a>.\n",
    "\n",
    "You can also find some helpful Numpy explanations at the <a href=\"#reference\">bottom of the page</a>.\n"
   ]
  },
  {
   "cell_type": "markdown",
   "metadata": {
    "deletable": false,
    "editable": false
   },
   "source": [
    "<!--start-block-->\n",
    "<hr style=\"height: 1px;\">\n",
    "\n",
    "## 1. Array Basics"
   ]
  },
  {
   "cell_type": "markdown",
   "metadata": {
    "deletable": false,
    "editable": false
   },
   "source": [
    "<!--start-block-->\n",
    "### <span style=\"color:#BA2220\">>>>EXERCISE 1.1: Creating Arrays</span>\n",
    "\n",
    "Provide an expression that sets A to be a  2×3  numpy array ( 2  rows by  3  columns), containing any values you wish."
   ]
  },
  {
   "cell_type": "code",
   "execution_count": null,
   "metadata": {},
   "outputs": [],
   "source": [
    "# Use this cell for drafting your solution, if desired, then enter your solution in the interactive problem.\n",
    "import numpy as np\n",
    "A = 0"
   ]
  },
  {
   "cell_type": "code",
   "execution_count": null,
   "metadata": {
    "deletable": false,
    "editable": false
   },
   "outputs": [],
   "source": [
    "# Evaluate this cell to show the interactive problem, then enter your solution below.\n",
    "CIF.show_question(\"PracticeSet00\", \"creating_arrays\")"
   ]
  },
  {
   "cell_type": "markdown",
   "metadata": {
    "deletable": false,
    "editable": false
   },
   "source": [
    "<!--start-block-->\n",
    "### <span style=\"color:#BA2220\">>>>EXERCISE 1.2: Transpose</span>\n",
    "\n",
    "Write a procedure that takes an array and returns the transpose of the array.  You can use `np.transpose` or the property `T`, but you may not use loops. Note: as with other coding problems, you do not need to call the procedure; it will be called/tested when submitted."
   ]
  },
  {
   "cell_type": "code",
   "execution_count": null,
   "metadata": {},
   "outputs": [],
   "source": [
    "# Use this cell for drafting your solution, if desired, then enter your solution in the interactive problem.\n",
    "import numpy as np\n",
    "def tp(A):\n",
    "    pass"
   ]
  },
  {
   "cell_type": "code",
   "execution_count": null,
   "metadata": {
    "deletable": false,
    "editable": false
   },
   "outputs": [],
   "source": [
    "# Evaluate this cell to show the interactive problem, then enter your solution below.\n",
    "CIF.show_question(\"PracticeSet00\", \"transpose\")"
   ]
  },
  {
   "cell_type": "markdown",
   "metadata": {
    "deletable": false,
    "editable": false
   },
   "source": [
    "<!--start-block-->\n",
    "<hr style=\"height: 1px;\">\n",
    "\n",
    "## 2. Shapes\n",
    "\n",
    "Let `A` be a $4\\times 2$ numpy array, `B` be a $4\\times 3$ array, and `C` be a $4\\times 1$ array.  For each of the following expressions, indicate the shape of the result as a tuple of integers (<b>recall python tuples use parentheses, not square brackets, which are for lists, and a tuple with just one item  <tt>x</tt> in it is written as <tt>(x,)</tt> with a comma</b>). Write \"none\" (as a Python string with quotes) if the expression is illegal.\n",
    "\n",
    "For example,\n",
    "\n",
    "* If the result array was `[45, 36, 75]`, the shape is `(3,)`\n",
    "* If the result array was `[[1,2,3],[4,5,6]]`, the shape is `(2,3)`\n",
    "\n",
    "*Hint: If you get stuck, code and run these expressions (with array values of your choosing), then print out the shape using `A.shape`*"
   ]
  },
  {
   "cell_type": "markdown",
   "metadata": {
    "deletable": false,
    "editable": false
   },
   "source": [
    "<!--start-block-->\n",
    "### <span style=\"color:#BA2220\">>>>EXERCISE 2.1</span>"
   ]
  },
  {
   "cell_type": "code",
   "execution_count": null,
   "metadata": {
    "deletable": false,
    "editable": false
   },
   "outputs": [],
   "source": [
    "# Evaluate this cell to show the interactive problem named one_D_shape\n",
    "CIF.show_question(\"numpy_intro\", \"one_D_shape\")"
   ]
  },
  {
   "cell_type": "markdown",
   "metadata": {
    "deletable": false,
    "editable": false
   },
   "source": [
    "<!--start-block-->\n",
    "### <span style=\"color:#BA2220\">>>>EXERCISE 2.2</span>"
   ]
  },
  {
   "cell_type": "code",
   "execution_count": null,
   "metadata": {
    "deletable": false,
    "editable": false
   },
   "outputs": [],
   "source": [
    "# Evaluate this cell to show the interactive problem named two_D_shape\n",
    "CIF.show_question(\"numpy_intro\", \"two_D_shape\")"
   ]
  },
  {
   "cell_type": "markdown",
   "metadata": {
    "deletable": false,
    "editable": false
   },
   "source": [
    "<!--start-block-->\n",
    "### <span style=\"color:#BA2220\">>>>EXERCISE 2.3</span>\n",
    "\n",
    "Reminder: `A` is $4\\times 2$, `B` is $4\\times 3$, and `C` is $4\\times 1$."
   ]
  },
  {
   "cell_type": "code",
   "execution_count": null,
   "metadata": {
    "deletable": false,
    "editable": false
   },
   "outputs": [],
   "source": [
    "# Evaluate this cell to show the interactive problem named element_wise_multiply\n",
    "CIF.show_question(\"numpy_intro\", \"element_wise_multiply\")"
   ]
  },
  {
   "cell_type": "markdown",
   "metadata": {
    "deletable": false,
    "editable": false
   },
   "source": [
    "<!--start-block-->\n",
    "### <span style=\"color:#BA2220\">>>>EXERCISE 2.4</span>\n",
    "\n",
    "Reminder: `A` is $4\\times 2$, `B` is $4\\times 3$, and `C` is $4\\times 1$."
   ]
  },
  {
   "cell_type": "code",
   "execution_count": null,
   "metadata": {
    "deletable": false,
    "editable": false
   },
   "outputs": [],
   "source": [
    "# Evaluate this cell to show the interactive problem named invalid_dot\n",
    "CIF.show_question(\"numpy_intro\", \"invalid_dot\")"
   ]
  },
  {
   "cell_type": "markdown",
   "metadata": {
    "deletable": false,
    "editable": false
   },
   "source": [
    "<!--start-block-->\n",
    "### <span style=\"color:#BA2220\">>>>EXERCISE 2.5</span>\n",
    "\n",
    "Reminder: `A` is $4\\times 2$, `B` is $4\\times 3$, and `C` is $4\\times 1$."
   ]
  },
  {
   "cell_type": "code",
   "execution_count": null,
   "metadata": {
    "deletable": false,
    "editable": false
   },
   "outputs": [],
   "source": [
    "# Evaluate this cell to show the interactive problem named c_t_dot_c\n",
    "CIF.show_question(\"numpy_intro\", \"c_t_dot_c\")"
   ]
  },
  {
   "cell_type": "markdown",
   "metadata": {
    "deletable": false,
    "editable": false
   },
   "source": [
    "<!--start-block-->\n",
    "### <span style=\"color:#BA2220\">>>>EXERCISE 2.6</span>\n",
    "\n",
    "Reminder: `A` is $4\\times 2$, `B` is $4\\times 3$, and `C` is $4\\times 1$."
   ]
  },
  {
   "cell_type": "code",
   "execution_count": null,
   "metadata": {
    "deletable": false,
    "editable": false
   },
   "outputs": [],
   "source": [
    "# Evaluate this cell to show the interactive problem named a_dot_b\n",
    "CIF.show_question(\"numpy_intro\", \"a_dot_b\")"
   ]
  },
  {
   "cell_type": "markdown",
   "metadata": {
    "deletable": false,
    "editable": false
   },
   "source": [
    "<!--start-block-->\n",
    "### <span style=\"color:#BA2220\">>>>EXERCISE 2.7</span>\n",
    "\n",
    "Reminder: `A` is $4\\times 2$, `B` is $4\\times 3$, and `C` is $4\\times 1$."
   ]
  },
  {
   "cell_type": "code",
   "execution_count": null,
   "metadata": {
    "deletable": false,
    "editable": false
   },
   "outputs": [],
   "source": [
    "# Evaluate this cell to show the interactive problem named a_t_dot_b\n",
    "CIF.show_question(\"numpy_intro\", \"a_t_dot_b\")"
   ]
  },
  {
   "cell_type": "markdown",
   "metadata": {
    "deletable": false,
    "editable": false
   },
   "source": [
    "<font color='blue'>Hint: for more compact and legible code, use\n",
    "<tt>@</tt> for matrix multiplication, instead of <tt>np.dot</tt>.  If\n",
    "<tt>A</tt> and <tt>B</tt>, are matrices (2D numpy arrays), then <tt>A\n",
    "@ B = np.dot(A, B)</tt>.</font>"
   ]
  },
  {
   "cell_type": "markdown",
   "metadata": {
    "deletable": false,
    "editable": false
   },
   "source": [
    "<!--start-block-->\n",
    "<hr style=\"height: 1px;\">\n",
    "\n",
    "## 3. Indexing vs. Slicing\n",
    "\n",
    "The shape of the resulting array is different depending on if you use indexing or slicing.\n",
    "<b>Indexing</b> refers to selecting particular elements of an array by using a single number (the index) to specify a particular row or column.\n",
    "<b>Slicing</b> refers to selecting a subset of the array by specifying a range of indices.\n",
    "\n",
    "If you're unfamiliar with these terms, and the indexing and slicing rules of arrays, please see the indexing and slicing sections of this link: <a href=\"https://canvas.mit.edu/courses/11118/modules/items/418957\" target=\"_blank\">Some Numpy Examples</a> (Same as the numpy examples link from the introduction). You can also look at the official numpy documentation <a href=\"https://numpy.org/doc/stable/reference/arrays.indexing.html\" target=\"_blank\">here</a>.\n",
    "\n",
    "In the following questions, let `A = np.array([[5,7,10,14],[2,4,8,9]])`. Tell us what the output would be for each of the following expressions. Use brackets `[]` as necessary. If the operation is invalid, write the python string `\"none\"`.\n",
    "\n",
    "*Note: Remember that Python uses zero-indexing and thus starts counting from 0, not 1. This is different from R and MATLAB.*"
   ]
  },
  {
   "cell_type": "markdown",
   "metadata": {
    "deletable": false,
    "editable": false
   },
   "source": [
    "<!--start-block-->\n",
    "### <span style=\"color:#BA2220\">>>>EXERCISE 3.1: Indexing</span>\n",
    "\n",
    "Reminder: `A = np.array([[5,7,10,14],[2,4,8,9]])`"
   ]
  },
  {
   "cell_type": "code",
   "execution_count": null,
   "metadata": {
    "deletable": false,
    "editable": false
   },
   "outputs": [],
   "source": [
    "# Evaluate this cell to show the interactive problem named q000000\n",
    "CIF.show_question(\"numpy_intro\", \"basic_indexing\")"
   ]
  },
  {
   "cell_type": "markdown",
   "metadata": {
    "deletable": false,
    "editable": false
   },
   "source": [
    "<!--start-block-->\n",
    "### <span style=\"color:#BA2220\">>>>EXERCISE 3.2: Indexing, revisited</span>\n",
    "\n",
    "Reminder: `A = np.array([[5,7,10,14],[2,4,8,9]])`"
   ]
  },
  {
   "cell_type": "code",
   "execution_count": null,
   "metadata": {
    "deletable": false,
    "editable": false
   },
   "outputs": [],
   "source": [
    "# Evaluate this cell to show the interactive problem named q000001\n",
    "CIF.show_question(\"numpy_intro\", \"indexing_error\")"
   ]
  },
  {
   "cell_type": "markdown",
   "metadata": {
    "deletable": false,
    "editable": false
   },
   "source": [
    "<!--start-block-->\n",
    "### <span style=\"color:#BA2220\">>>>EXERCISE 3.3: Slicing</span>\n",
    "\n",
    "Reminder: `A = np.array([[5,7,10,14],[2,4,8,9]])`"
   ]
  },
  {
   "cell_type": "code",
   "execution_count": null,
   "metadata": {
    "deletable": false,
    "editable": false
   },
   "outputs": [],
   "source": [
    "# Evaluate this cell to show the interactive problem\n",
    "CIF.show_question(\"numpy_intro\", \"basic_slicing\")"
   ]
  },
  {
   "cell_type": "markdown",
   "metadata": {
    "deletable": false,
    "editable": false
   },
   "source": [
    "<!--start-block-->\n",
    "### <span style=\"color:#BA2220\">>>>EXERCISE 3.4: Slicing, revisited</span>\n",
    "\n",
    "Reminder: `A = np.array([[5,7,10,14],[2,4,8,9]])`"
   ]
  },
  {
   "cell_type": "code",
   "execution_count": null,
   "metadata": {
    "deletable": false,
    "editable": false
   },
   "outputs": [],
   "source": [
    "# Evaluate this cell to show the interactive problem\n",
    "CIF.show_question(\"numpy_intro\", \"slicing_revisited\")"
   ]
  },
  {
   "cell_type": "markdown",
   "metadata": {
    "deletable": false,
    "editable": false
   },
   "source": [
    "<!--start-block-->\n",
    "### <span style=\"color:#BA2220\">>>>EXERCISE 3.5: Lone Colon Slicing</span>\n",
    "\n",
    "Reminder: `A = np.array([[5,7,10,14],[2,4,8,9]])`"
   ]
  },
  {
   "cell_type": "code",
   "execution_count": null,
   "metadata": {
    "deletable": false,
    "editable": false
   },
   "outputs": [],
   "source": [
    "# Evaluate this cell to show the interactive problem\n",
    "CIF.show_question(\"numpy_intro\", \"lone_colon_slicing\")"
   ]
  },
  {
   "cell_type": "markdown",
   "metadata": {
    "deletable": false,
    "editable": false
   },
   "source": [
    "<!--start-block-->\n",
    "### <span style=\"color:#BA2220\">>>>EXERCISE 3.6: Combining Indexing and Slicing</span>\n",
    "\n",
    "Reminder: `A = np.array([[5,7,10,14],[2,4,8,9]])`"
   ]
  },
  {
   "cell_type": "code",
   "execution_count": null,
   "metadata": {
    "deletable": false,
    "editable": false
   },
   "outputs": [],
   "source": [
    "# Evaluate this cell to show the interactive problem\n",
    "CIF.show_question(\"numpy_intro\", \"index_slicing_combo\")"
   ]
  },
  {
   "cell_type": "markdown",
   "metadata": {
    "deletable": false,
    "editable": false
   },
   "source": [
    "<!--start-block-->\n",
    "### <span style=\"color:#BA2220\">>>>EXERCISE 3.7: Combining Indexing and Slicing, revisited</span>\n",
    "\n",
    "Reminder: `A = np.array([[5,7,10,14],[2,4,8,9]])`"
   ]
  },
  {
   "cell_type": "code",
   "execution_count": null,
   "metadata": {
    "deletable": false,
    "editable": false
   },
   "outputs": [],
   "source": [
    "# Evaluate this cell to show the interactive problem\n",
    "CIF.show_question(\"numpy_intro\", \"index_slicing_combo_2\")"
   ]
  },
  {
   "cell_type": "markdown",
   "metadata": {
    "deletable": false,
    "editable": false
   },
   "source": [
    "<!--start-block-->\n",
    "### <span style=\"color:#BA2220\">>>>EXERCISE 3.8: Combining Indexing and Slicing, revisited again</span>\n",
    "\n",
    "Reminder: `A = np.array([[5,7,10,14],[2,4,8,9]])`"
   ]
  },
  {
   "cell_type": "code",
   "execution_count": null,
   "metadata": {
    "deletable": false,
    "editable": false
   },
   "outputs": [],
   "source": [
    "# Evaluate this cell to show the interactive problem\n",
    "CIF.show_question(\"numpy_intro\", \"index_slicing_combo_3\")"
   ]
  },
  {
   "cell_type": "markdown",
   "metadata": {
    "deletable": false,
    "editable": false
   },
   "source": [
    "<!--start-block-->\n",
    "### <span style=\"color:#BA2220\">>>>EXERCISE 3.9: Differences</span>"
   ]
  },
  {
   "cell_type": "code",
   "execution_count": null,
   "metadata": {
    "deletable": false,
    "editable": false
   },
   "outputs": [],
   "source": [
    "# Evaluate this cell to show the interactive problem\n",
    "CIF.show_question(\"numpy_intro\", \"slicing_vs_indexing\")"
   ]
  },
  {
   "cell_type": "markdown",
   "metadata": {
    "deletable": false,
    "editable": false
   },
   "source": [
    "<!--start-block-->\n",
    "<hr style=\"height: 1px;\">\n",
    "\n",
    "## 4. Debugging Advice"
   ]
  },
  {
   "cell_type": "markdown",
   "metadata": {
    "deletable": false,
    "editable": false
   },
   "source": [
    "<!--start-block-->\n",
    "### <span style=\"color:#BA2220\">>>>EXERCISE 4.1</span>"
   ]
  },
  {
   "cell_type": "code",
   "execution_count": null,
   "metadata": {
    "deletable": false,
    "editable": false
   },
   "outputs": [],
   "source": [
    "# Evaluate this cell to show the interactive problem named q000009\n",
    "CIF.show_question(\"numpy_intro\", \"debugging\")"
   ]
  },
  {
   "cell_type": "markdown",
   "metadata": {
    "deletable": false,
    "editable": false
   },
   "source": [
    "<!--start-block-->\n",
    "<hr style=\"height: 1px;\">\n",
    "\n",
    "## 5. Coding Practice\n",
    "\n",
    "Now that we're familiar with numpy arrays, let's practice actually using numpy in our code!\n",
    "\n",
    "In the following questions, you must get the shapes of the output correct for your answer to be accepted. If your answer contains the right numbers but the grader is still saying your answers are incorrect, check the shapes of your output. The number and placement of brackets need to match!"
   ]
  },
  {
   "cell_type": "markdown",
   "metadata": {
    "deletable": false,
    "editable": false
   },
   "source": [
    "<!--start-block-->\n",
    "### <span style=\"color:#BA2220\">>>>EXERCISE 5.1: Row Vector</span>\n",
    "\n",
    "Write a procedure that takes a list of numbers and returns a 2D `numpy` array representing a **row** vector containing those numbers. Recall that a row vector in our usage will have shape $(1, d)$ where $d$ is the number of elements in the row."
   ]
  },
  {
   "cell_type": "code",
   "execution_count": null,
   "metadata": {},
   "outputs": [],
   "source": [
    "# Use this cell for drafting your solution, if desired, then enter your solution in the interactive problem.\n",
    "import numpy as np\n",
    "def rv(value_list):\n",
    "    pass"
   ]
  },
  {
   "cell_type": "code",
   "execution_count": null,
   "metadata": {
    "deletable": false,
    "editable": false
   },
   "outputs": [],
   "source": [
    "# Evaluate this cell to show the interactive problem named row_vector\n",
    "CIF.show_question(\"numpy_intro\", \"row_vector\")"
   ]
  },
  {
   "cell_type": "markdown",
   "metadata": {
    "deletable": false,
    "editable": false
   },
   "source": [
    "<!--start-block-->\n",
    "### <span style=\"color:#BA2220\">>>>EXERCISE 5.2: Column Vector</span>\n",
    "\n",
    "Write a procedure that takes a list of numbers and returns a 2D numpy array representing a column vector containing those numbers.  You can use the `rv` procedure."
   ]
  },
  {
   "cell_type": "code",
   "execution_count": null,
   "metadata": {},
   "outputs": [],
   "source": [
    "# Use this cell for drafting your solution, if desired, then enter your solution in the interactive problem.\n",
    "import numpy as np\n",
    "def cv(value_list):\n",
    "    pass"
   ]
  },
  {
   "cell_type": "code",
   "execution_count": null,
   "metadata": {
    "deletable": false,
    "editable": false
   },
   "outputs": [],
   "source": [
    "# Evaluate this cell to show the interactive problem named column_vector\n",
    "CIF.show_question(\"numpy_intro\", \"column_vector\")"
   ]
  },
  {
   "cell_type": "markdown",
   "metadata": {
    "deletable": false,
    "editable": false
   },
   "source": [
    "<!--start-block-->\n",
    "### <span style=\"color:#BA2220\">>>>EXERCISE 5.3: Length</span>\n",
    "\n",
    "Write a procedure that takes a column vector and returns the vector's Euclidean length (or equivalently, its magnitude) as a <a href=\"https://docs.scipy.org/doc/numpy/reference/generated/numpy.asscalar.html\" target=\"_blank\">scalar</a>.  You may not use `np.linalg.norm`, and you may not use loops.\n",
    "\n",
    "Remember that the formula for the Euclidean length for a vector $\\mathbf{x}$ is:\n",
    "\n",
    "$$\n",
    "{\\rm length}(\\mathbf{x}) = \\sqrt{x_1^2 + x_2^2 + ... + x_n^2} \\\\\n",
    " = \\sqrt{\\sum_{i=1}^n{x^2_i}}\n",
    "$$"
   ]
  },
  {
   "cell_type": "code",
   "execution_count": null,
   "metadata": {},
   "outputs": [],
   "source": [
    "# Use this cell for drafting your solution, if desired, then enter your solution in the interactive problem.\n",
    "import numpy as np\n",
    "def length(col_v):\n",
    "    pass"
   ]
  },
  {
   "cell_type": "code",
   "execution_count": null,
   "metadata": {
    "deletable": false,
    "editable": false
   },
   "outputs": [],
   "source": [
    "# Evaluate this cell to show the interactive problem named length\n",
    "CIF.show_question(\"numpy_intro\", \"length\")"
   ]
  },
  {
   "cell_type": "markdown",
   "metadata": {
    "deletable": false,
    "editable": false
   },
   "source": [
    "<!--start-block-->\n",
    "### <span style=\"color:#BA2220\">>>>EXERCISE 5.4: Normalize</span>\n",
    "\n",
    "Write a procedure that takes a column vector and returns a unit vector (a vector of length $1$) in the same direction. You may not use loops.  Use your `length` procedure from above (you do not need to define it again)."
   ]
  },
  {
   "cell_type": "code",
   "execution_count": null,
   "metadata": {},
   "outputs": [],
   "source": [
    "# Use this cell for drafting your solution, if desired, then enter your solution in the interactive problem.\n",
    "import numpy as np\n",
    "def normalize(col_v):\n",
    "    pass"
   ]
  },
  {
   "cell_type": "code",
   "execution_count": null,
   "metadata": {
    "deletable": false,
    "editable": false
   },
   "outputs": [],
   "source": [
    "# Evaluate this cell to show the interactive problem named normalize\n",
    "CIF.show_question(\"numpy_intro\", \"normalize\")"
   ]
  },
  {
   "cell_type": "markdown",
   "metadata": {
    "deletable": false,
    "editable": false
   },
   "source": [
    "<!--start-block-->\n",
    "### <span style=\"color:#BA2220\">>>>EXERCISE 5.5: Last Column</span>\n",
    "\n",
    "Write a procedure that takes a 2D array and returns the final column as a two dimensional array. You may not use loops. Hint: negative indices are interpreted as counting from the end of the array."
   ]
  },
  {
   "cell_type": "code",
   "execution_count": null,
   "metadata": {},
   "outputs": [],
   "source": [
    "# Use this cell for drafting your solution, if desired, then enter your solution in the interactive problem.\n",
    "import numpy as np\n",
    "def index_final_col(A):\n",
    "    pass"
   ]
  },
  {
   "cell_type": "code",
   "execution_count": null,
   "metadata": {
    "deletable": false,
    "editable": false
   },
   "outputs": [],
   "source": [
    "# Evaluate this cell to show the interactive problem named last_column\n",
    "CIF.show_question(\"numpy_intro\", \"last_column\")"
   ]
  },
  {
   "cell_type": "markdown",
   "metadata": {
    "deletable": false,
    "editable": false
   },
   "source": [
    "<!--start-block-->\n",
    "### <span style=\"color:#BA2220\">>>>EXERCISE 5.6: Matrix Inverse</span>\n",
    "\n",
    "A scalar number $x$ has an inverse $x^{-1}$, such that $x^{-1} x = 1$,\n",
    "that is, their product is $1$.  Similarly, a matrix $A$ may have a\n",
    "well-defined inverse $A^{-1}$, such that $A^{-1} A = I$, where matrix\n",
    "multiplication is used, and $I$ is the identity matrix.  Such inverses\n",
    "generally only exist when $A$ is a square matrix, and just as $0$ has\n",
    "no well defined multiplicative inverse, there are also cases when\n",
    "matrices are \"singular\" and have no well defined inverses.\n",
    "\n",
    "Write a procedure that takes a matrix $A$ and returns its inverse,\n",
    "$A^{-1}$.  Assume that $A$ is well-formed, such that its inverse\n",
    "exists.  Feel free to use routines from <tt>np.linalg</tt>."
   ]
  },
  {
   "cell_type": "code",
   "execution_count": null,
   "metadata": {},
   "outputs": [],
   "source": [
    "# Use this cell for drafting your solution, if desired, then enter your solution in the interactive problem.\n",
    "import numpy as np\n",
    "def matrix_inverse(A):\n",
    "    pass"
   ]
  },
  {
   "cell_type": "code",
   "execution_count": null,
   "metadata": {
    "deletable": false,
    "editable": false
   },
   "outputs": [],
   "source": [
    "# Evaluate this cell to show the interactive problem named matinv\n",
    "CIF.show_question(\"numpy_intro\", \"matinv\")"
   ]
  }
 ],
 "metadata": {
  "kernelspec": {
   "display_name": "Python 3",
   "language": "python",
   "name": "python3"
  },
  "language_info": {
   "codemirror_mode": {
    "name": "ipython",
    "version": 3
   },
   "file_extension": ".py",
   "mimetype": "text/x-python",
   "name": "python",
   "nbconvert_exporter": "python",
   "pygments_lexer": "ipython3",
   "version": "3.7.1"
  }
 },
 "nbformat": 4,
 "nbformat_minor": 2
}
