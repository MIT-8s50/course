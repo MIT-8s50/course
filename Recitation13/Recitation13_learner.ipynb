{
 "cells": [
  {
   "cell_type": "markdown",
   "metadata": {},
   "source": [
    "<!--start-block-->\n",
    "<hr style=\"height: 1px;\">\n",
    "<i>This code was authored by the 8.S50x Course Team, Copyright 2021 MIT All Rights Reserved.</i>\n",
    "<hr style=\"height: 1px;\">\n",
    "<br>\n",
    "\n",
    "# RECITATION 13: Metropolis–Hastings algorithm for MCMC\n",
    "\n",
    "<br>\n",
    "<!--end-block--> "
   ]
  },
  {
   "cell_type": "markdown",
   "metadata": {},
   "source": [
    "<!--start-block-->\n",
    "<hr style=\"height: 1px;\">\n",
    "\n",
    "## 13.0 Overview of Learning Objectives\n",
    "\n",
    "\n",
    "In this recitation, we will explore the following concepts:\n",
    "\n",
    "- What is a Markov Process?\n",
    "- How do you implement Metropolis-Hastings?\n",
    "- What are some pros and cons of MCMC/Metropolis-Hastings?\n",
    "- How can you use MCMC for parameter estimation?\n",
    "\n",
    "This recitation will walk you through the implementation of the Metropolis-Hastings algorithm,\n",
    "which should make the last part of Project 3 less \"black-boxy\".\n",
    "\n",
    "<br>\n",
    "<!--end-block-->"
   ]
  },
  {
   "cell_type": "markdown",
   "metadata": {},
   "source": [
    "<!--start-block-->\n",
    "<hr style=\"height: 1px;\">\n",
    "\n",
    "## 13.1 MCMC\n",
    "\n",
    "A <a href=\"https://en.wikipedia.org/wiki/Markov_chain\">markov process</a> is a probabilistic process or sequence of events $\\{X_i\\}$ with the memory-less property i.e. the probability of each event depends only on the state attained in the previous event or\n",
    "$$\n",
    "P(X_t | X_{t-1}, \\cdots, X_{0}) = P(X_t | X_{t-1})\n",
    "$$\n",
    "\n",
    "\n",
    "<a href=\"https://en.wikipedia.org/wiki/Markov_chain_Monte_Carlo\">Markov Chain Monte Carlo</a>\n",
    "(MCMC) is a method for sampling arbitrary probability distributions. MCMCs rely on the fact that a markov process has a unique equilibrium distribution which can be constructed such that it is identical to the target distribution. \n",
    "\n",
    "> Note: Let $\\pi$ be the equilibrium distribution of a Markov chain, if $X_t \\sim \\pi$ then $X_{t+1} \\sim \\pi$. \n",
    "\n",
    "The process converges to the equilibrium distribution after a number of steps. Thus, the more steps are taken in the process, the more closely the distribution of the sample matches the actual desired distribution. Various algorithms exist for constructing these chains, including the Metropolis–Hastings algorithm which we will discuss next.\n",
    "\n",
    "<br>\n",
    "<!--end-block-->"
   ]
  },
  {
   "cell_type": "markdown",
   "metadata": {},
   "source": [
    "<!--start-block-->\n",
    "<hr style=\"height: 1px;\">\n",
    "\n",
    "## 13.2 Metropolis-Hastings\n",
    "\n",
    "\n",
    "<a href=\"https://en.wikipedia.org/wiki/Metropolis–Hastings_algorithm\">Metropolis-Hastings</a>\n",
    "is a particular MCMC sampling algorithm. The goal is to generate samples from some target distribution $P(x)$ (for our purposes this will be the posterior $p(x | D)$) where $x$ is a vector of the parameters we would like to estimate and $D$ is the observed dataset.\n",
    "It relies on a proposal density or jumping distribution, $g(y|x)$ used to jump from one proposed sample ($x$) to the next ($y$) with some probability. The equilibrium distribution of the Markov Chain generated is exactly the desired distribution $P(x)$. The proof for this can be found in any standard text and will not be covered here.\n",
    "\n",
    "The algorithm itself is quite straightforward.\n",
    "\n",
    "1. Sample a proposal value $y_t$ from the jumping distribution $g(y_t|x_{t-1})$.\n",
    "\n",
    "2. Compute the acceptance probability \n",
    "    $$\n",
    "    p_t = \\rm{min}\\big[1,\\, \\frac{g(y_t|x_{t-1})}{g(x_{t-1}|y_t)} \\frac{P(y_t)}{P(x_{t-1})}\\big]\n",
    "    $$\n",
    "    if the proposal distribution is symmetric (i.e. $g(x|y) = g(y|x)$) then the probability is simply \n",
    "    $$\n",
    "    p_t = \\rm{min}\\big[1,\\, \\frac{P(y_t)}{P(x_{t-1})} \\big]\n",
    "    $$\n",
    "    As mentioned earlier, our target distribution is the posterior. So $P(x)$ is to be replaced with $\\frac{p(D|x)p(x)}{p(D)}$ where $p(x)$ is the prior and $p(D|x)$ is the likelihood.\n",
    "\n",
    "3. With probability $p_t$ accept the proposed sample:\n",
    "\n",
    "    1. Sample $u_t$ from $\\mathcal{U}(0,1)$, the uniform distribution between 0 and 1.\n",
    "\n",
    "    2. If $p_t>u_t$ accept the sample by setting $x_t = y_t$. Otherwise remain at $x_{t-1}$.\n",
    "\n",
    "Repeat until an adequate number of samples is generated.\n",
    "<br>\n",
    "<!--end-block-->"
   ]
  },
  {
   "cell_type": "code",
   "execution_count": 1,
   "metadata": {},
   "outputs": [],
   "source": [
    "import numpy as np\n",
    "import matplotlib.pyplot as plt\n",
    "from scipy import stats"
   ]
  },
  {
   "cell_type": "markdown",
   "metadata": {},
   "source": [
    "First we will generate some sample data from a normal distribution. Out of 10K data points, we will initially select 1000 to use as our observed data. Using a smaller sample will allow you to play around with the various parts of the algorithm because everything runs faster. We will make the observed dataset bigger for the final analysis. The goal, for now, is to get an intuition for MCMCs and how they can be used to do parameter estimation."
   ]
  },
  {
   "cell_type": "code",
   "execution_count": 2,
   "metadata": {},
   "outputs": [
    {
     "data": {
      "image/png": "[encoded data removed]",
      "text/plain": [
       "<Figure size 432x288 with 1 Axes>"
      ]
     },
     "metadata": {
      "needs_background": "light"
     },
     "output_type": "display_data"
    }
   ],
   "source": [
    "mu_true = 10\n",
    "sigma_true = 5\n",
    "data = np.random.normal(mu_true, sigma_true, 10000)\n",
    "obs = np.random.choice(data, 1000, replace=False)\n",
    "\n",
    "plt.hist(data, bins=50, label='All data', density=True, alpha=1, histtype='step')\n",
    "plt.hist(obs, bins=20, label='Observations', density=True, alpha=0.8, histtype='stepfilled')\n",
    "plt.legend()\n",
    "plt.show()"
   ]
  },
  {
   "cell_type": "markdown",
   "metadata": {},
   "source": [
    "<!--start-block-->\n",
    "<hr style=\"height: 1px;\">\n",
    "\n",
    "## 13.3 Exercise 1\n",
    "\n",
    "\n",
    "Now we will implement some of the moving parts of Metropolis-Hastings to sample from the posterior of the mean only. (You can do both mu and sigma later).\n",
    "\n",
    "1) First implement a likelihood function which takes in the parameter vector (this is just mu for now)\n",
    "and returns the likelihood of the observed data under those parameter values.\n",
    "\n",
    "2) Implement a proposal distribution/ transition model.\n",
    "\n",
    "3) Implement a prior for the parameters.\n",
    "\n",
    "Note: You should work in log space as much as possible for numerical stability. If you see NaNs, you are probably multiplying very small/large values.\n",
    "<br>\n",
    "<!--end-block-->"
   ]
  },
  {
   "cell_type": "code",
   "execution_count": 3,
   "metadata": {},
   "outputs": [],
   "source": [
    "def likelihood(D, mu, sigma):\n",
    "    \"\"\"Returns the likelihood of the data given the parameters\n",
    "\n",
    "    Args:\n",
    "        D (array[float]): Array of observed data points.\n",
    "        mu (float): Mean of the distribution.\n",
    "        sigma (float): Standard deviation of the distribution.\n",
    "\n",
    "    Returns:\n",
    "        float: likelihood of the data given the parameters.\n",
    "    \"\"\"    \n",
    "    log_likelihood = stats.norm.logpdf(D, mu, sigma).sum()\n",
    "    # Implement a likelihood function for the model used to generate the data\n",
    "    # make sure to avoid multiplying very small numbers to avoid underflow\n",
    "    return log_likelihood# return a single value for the likelihood/loglikelihood for the entire dataset: p(x|D)\n",
    "# you can also use stats.norm from scipy \n",
    "# which implements methods for all sorts of useful things like the pdf and cdf\n",
    "\n",
    "\n",
    "def transition_model(x):\n",
    "    \"\"\"Returns the next state of the Markov chain given the current state x.\n",
    "\n",
    "    Args:\n",
    "        x (float or array[float]): Current state of the Markov chain. \n",
    "\n",
    "    Returns:\n",
    "        float or array[float]: Next state of the Markov chain.\n",
    "    \"\"\"    \n",
    "    new_x = np.random.normal(x, .1)\n",
    "    # Implement a symmetric transition model\n",
    "    # Remember if the transition density is not symmetric, \n",
    "    # you will need to account for this term in the acceptance probability\n",
    "\n",
    "    # For now we will run the MCMC over the mean only and assume we know the true sigma\n",
    "    # An easy transition_model is to sample from a normal distribution around the current mean\n",
    "    return new_x\n",
    "\n",
    "def prior(x):\n",
    "    \"\"\"Returns the prior probability of the current state x. \n",
    "\n",
    "    Args:\n",
    "        x (float or array[float]): Current state of the Markov chain. \n",
    "\n",
    "    Returns:\n",
    "        float: p(x)\n",
    "    \"\"\"    \n",
    "    log_prior = stats.norm.logpdf(x, 11, 5)\n",
    "    # Implement a prior for mu you can pick a uniform prior or something else\n",
    "    return log_prior# return a single value for the prior"
   ]
  },
  {
   "cell_type": "markdown",
   "metadata": {},
   "source": [
    "Now let's combine these pieces to implement the metropolis-hastings algorithm (see above for details). "
   ]
  },
  {
   "cell_type": "code",
   "execution_count": 4,
   "metadata": {},
   "outputs": [],
   "source": [
    "def step(mu, sigma):\n",
    "    # A single step of the Markov chain\n",
    "    # This function should return the new value of mu and sigma\n",
    "    # and the loglikelihood of the new value\n",
    "    # You will change this later to step over sigma as well\n",
    "    return transition_model(mu), sigma, likelihood(obs, mu, sigma)\n",
    "\n",
    "def metro_hastings(mu, sigma, n_samples=1000):\n",
    "    # Implement the Metropolis-Hastings algorithm\n",
    "    samples = []\n",
    "    while i< n_samples:\n",
    "        new_mu, sigma, log_likelihood, log_prior = step(data, mu, 5)\n",
    "        log_ratio = prior(new_mu) + likelihood(data, new_mu, sigma) - (log_likelihood\n",
    "    \n",
    "    return # samples"
   ]
  },
  {
   "cell_type": "code",
   "execution_count": null,
   "metadata": {},
   "outputs": [],
   "source": [
    "# Run your Metropolis-Hastings algorithm\n",
    "# to generate 1000 samples\n",
    "samples, sample_index, all_mus= metro_hastings(0, 5, n_samples=1000)\n",
    "print(\"acceptancerate:\", len(samples)/len(all_mus))\n",
    "# What is your acceptance rate?\n",
    "# What determines this value? How can you make it larger?\n",
    "# Hint: try changing your jumping distribution\n",
    "plt.scatter(sample_index, samples, alpha =.5, s=10)\n",
    "plt.show()\n",
    "\n",
    "# Make some plots to visualize your markov chain with (parameter as a function of step for example)\n",
    "# both accepted and rejected proposals\n",
    "# What happens in the early steps?\n",
    "# This is why there is a \"burn-in\" phase in MCMC methods."
   ]
  },
  {
   "cell_type": "markdown",
   "metadata": {},
   "source": [
    "In many cases we want to generate independent identically distributed samples.\n",
    "Let's check if that's what we got.\n",
    "\n",
    "The function plt.accor plots the correlation between samples at different distances $\\tau$,\n",
    " $$C(\\tau) = Corr(x_t,x_{t-\\tau})$$\n",
    " at $\\tau = 0$, $C(0)$ is always 1 since it's the correlation of a random variable with itself."
   ]
  },
  {
   "cell_type": "code",
   "execution_count": 3,
   "metadata": {},
   "outputs": [
    {
     "data": {
      "image/png": "[encoded data removed]",
      "text/plain": [
       "<Figure size 432x288 with 1 Axes>"
      ]
     },
     "metadata": {
      "needs_background": "light"
     },
     "output_type": "display_data"
    }
   ],
   "source": [
    "# Use plt.acorr to plot the autocorrelation of the samples you generated \n",
    "# (make sure to remove the mean first i.e. samples - np.mean(samples))\n",
    "# and compare that to a true i.i.d sample from a normal distribution (np.random.randn)\n",
    "# Do you notice a problem?\n",
    "# Try the same thing with every 10th sample for example. You should notice less autocorrelation.\n",
    "# This is why people use \"thinning\" in MCMC methods.\n",
    "# Another way to fix this is to use a proposal distribution with larger step sizes.\n",
    "\n",
    "plt.acorr(np.random.randn(1000), maxlags=100)\n",
    "plt.show()"
   ]
  },
  {
   "cell_type": "markdown",
   "metadata": {},
   "source": [
    "<!--start-block-->\n",
    "<hr style=\"height: 1px;\">\n",
    "\n",
    "## 13.3 Exercise 2\n",
    "\n",
    "\n",
    "Now we will do some parameter estimation!\n",
    "Hints:\n",
    "The mean of the sample can be a good estimator.\n",
    "A 95% credible interval (CI) is an interval which contains\n",
    "the true value of the parameter $\\theta$ with probability 0.95. \n",
    "You can find a few examples of ways to construct a CI here\n",
    "https://en.wikipedia.org/wiki/Credible_interval\n",
    "<br>\n",
    "<!--end-block-->"
   ]
  },
  {
   "cell_type": "markdown",
   "metadata": {},
   "source": [
    "Construct a 90% Credible Interval for the true mean using\n",
    "the samples you generated from MCMC. You can use the function np.percentile from numpy\n",
    "to compute the percentiles of the samples.\n"
   ]
  },
  {
   "cell_type": "code",
   "execution_count": 4,
   "metadata": {},
   "outputs": [
    {
     "ename": "NameError",
     "evalue": "name 'samples' is not defined",
     "output_type": "error",
     "traceback": [
      "\u001b[0;31m---------------------------------------------------------------------------\u001b[0m",
      "\u001b[0;31mNameError\u001b[0m                                 Traceback (most recent call last)",
      "\u001b[0;32m/tmp/ipykernel_327/2250754349.py\u001b[0m in \u001b[0;36m<module>\u001b[0;34m\u001b[0m\n\u001b[1;32m      7\u001b[0m \u001b[0;31m# your results.\u001b[0m\u001b[0;34m\u001b[0m\u001b[0;34m\u001b[0m\u001b[0m\n\u001b[1;32m      8\u001b[0m \u001b[0;34m\u001b[0m\u001b[0m\n\u001b[0;32m----> 9\u001b[0;31m \u001b[0mplt\u001b[0m\u001b[0;34m.\u001b[0m\u001b[0mhist\u001b[0m\u001b[0;34m(\u001b[0m\u001b[0msamples\u001b[0m\u001b[0;34m[\u001b[0m\u001b[0;36m100\u001b[0m\u001b[0;34m:\u001b[0m\u001b[0;34m:\u001b[0m\u001b[0;34m]\u001b[0m\u001b[0;34m,\u001b[0m \u001b[0mbins\u001b[0m\u001b[0;34m=\u001b[0m\u001b[0;36m50\u001b[0m\u001b[0;34m,\u001b[0m \u001b[0mdensity\u001b[0m\u001b[0;34m=\u001b[0m\u001b[0;32mTrue\u001b[0m\u001b[0;34m,\u001b[0m \u001b[0malpha\u001b[0m\u001b[0;34m=\u001b[0m\u001b[0;36m.5\u001b[0m\u001b[0;34m)\u001b[0m\u001b[0;34m\u001b[0m\u001b[0;34m\u001b[0m\u001b[0m\n\u001b[0m\u001b[1;32m     10\u001b[0m \u001b[0mplt\u001b[0m\u001b[0;34m.\u001b[0m\u001b[0maxvline\u001b[0m\u001b[0;34m(\u001b[0m\u001b[0mmu_true\u001b[0m\u001b[0;34m,\u001b[0m \u001b[0mcolor\u001b[0m\u001b[0;34m=\u001b[0m\u001b[0;34m'r'\u001b[0m\u001b[0;34m,\u001b[0m \u001b[0mlinestyle\u001b[0m\u001b[0;34m=\u001b[0m\u001b[0;34m'--'\u001b[0m\u001b[0;34m,\u001b[0m \u001b[0mlabel\u001b[0m\u001b[0;34m=\u001b[0m\u001b[0;34m'Estimated Mean'\u001b[0m\u001b[0;34m)\u001b[0m\u001b[0;34m\u001b[0m\u001b[0;34m\u001b[0m\u001b[0m\n\u001b[1;32m     11\u001b[0m \u001b[0mCI\u001b[0m \u001b[0;34m=\u001b[0m \u001b[0mnp\u001b[0m\u001b[0;34m.\u001b[0m\u001b[0mpercentile\u001b[0m\u001b[0;34m(\u001b[0m\u001b[0msamples\u001b[0m\u001b[0;34m[\u001b[0m\u001b[0;36m100\u001b[0m\u001b[0;34m:\u001b[0m\u001b[0;34m:\u001b[0m\u001b[0;34m]\u001b[0m\u001b[0;34m,\u001b[0m \u001b[0;34m[\u001b[0m\u001b[0;36m2.5\u001b[0m\u001b[0;34m,\u001b[0m \u001b[0;36m97.5\u001b[0m\u001b[0;34m]\u001b[0m\u001b[0;34m)\u001b[0m\u001b[0;34m\u001b[0m\u001b[0;34m\u001b[0m\u001b[0m\n",
      "\u001b[0;31mNameError\u001b[0m: name 'samples' is not defined"
     ]
    }
   ],
   "source": [
    "# Make a histogram of your samples (don't forget about burn-in)\n",
    "# Plot your best estimate of the true mean\n",
    "# along with the edges of your credible interval.\n",
    "# Are the results reasonable?\n",
    "# How can you have a \"better\" interval?\n",
    "# Hint: Investigate how the number of observations affects\n",
    "# your results.\n",
    "\n",
    "plt.hist(samples[100::], bins=50, density=True, alpha=.5)\n",
    "plt.axvline(mu_true, color='r', linestyle='--', label='Estimated Mean')\n",
    "CI = np.percentile(samples[100::], [2.5, 97.5])\n",
    "plt.axcline(CI[0], color='g', linestyle='--', label = '95% CI')\n",
    "plt.axcline(CI[1], color='g', linestyle='--')\n",
    "plt.legend()\n",
    "plt.show()"
   ]
  },
  {
   "cell_type": "code",
   "execution_count": null,
   "metadata": {},
   "outputs": [],
   "source": [
    "# Optional: \n",
    "# Run the MCMC algorithm for both mu and sigma \n",
    "# and plot the mean and the 90% CI\n",
    "\n",
    "# How can you make the MCMC algorithm more efficient?\n",
    "# How can you make the samples independent?\n",
    "# The answer can be found here: https://arxiv.org/pdf/2101.08176.pdf\n",
    "# The key idea is that you can use \"Normalizing Flows\" to approximate\n",
    "# the target distribution which you can then correct using Metropolis-Hastings\n",
    "# to obtain an exact i.i.d sample of the target distribution. "
   ]
  }
 ],
 "metadata": {
  "interpreter": {
   "hash": "c34b3f829f55344124a5a0f2100dda58adb8e3cad3250906cc72bb8dd00bb6e7"
  },
  "kernelspec": {
   "display_name": "Python 3 (ipykernel)",
   "language": "python",
   "name": "python3"
  },
  "language_info": {
   "codemirror_mode": {
    "name": "ipython",
    "version": 3
   },
   "file_extension": ".py",
   "mimetype": "text/x-python",
   "name": "python",
   "nbconvert_exporter": "python",
   "pygments_lexer": "ipython3",
   "version": "3.9.7"
  }
 },
 "nbformat": 4,
 "nbformat_minor": 2
}
