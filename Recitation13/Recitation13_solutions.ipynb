{
 "cells": [
  {
   "cell_type": "markdown",
   "metadata": {},
   "source": [
    "<!--start-block-->\n",
    "<hr style=\"height: 1px;\">\n",
    "<i>This code was authored by the 8.S50x Course Team, Copyright 2021 MIT All Rights Reserved.</i>\n",
    "<hr style=\"height: 1px;\">\n",
    "<br>\n",
    "\n",
    "# RECITATION 13: Metropolis–Hastings algorithm for MCMC\n",
    "\n",
    "<br>\n",
    "<!--end-block--> "
   ]
  },
  {
   "cell_type": "markdown",
   "metadata": {},
   "source": [
    "<!--start-block-->\n",
    "<hr style=\"height: 1px;\">\n",
    "\n",
    "## 13.0 Overview of Learning Objectives\n",
    "\n",
    "\n",
    "In this recitation we will explore the following concepts:\n",
    "\n",
    "- What is a Markov Process?\n",
    "- How can you use MCMC for parameter estimation?\n",
    "- How to implement Metropolis-Hastings?\n",
    "- What are some pros and cons of MCMC/Metropolis-Hastings?\n",
    "\n",
    "This recitation will walk you through the implementation of the Metropolis-Hastings algorithm \n",
    "which should make the last part of Project 3 less \"black-boxy\".\n",
    "\n",
    "<br>\n",
    "<!--end-block-->"
   ]
  },
  {
   "cell_type": "markdown",
   "metadata": {},
   "source": [
    "<!--start-block-->\n",
    "<hr style=\"height: 1px;\">\n",
    "\n",
    "## 13.1 MCMC\n",
    "\n",
    "A <a href=\"https://en.wikipedia.org/wiki/Markov_chain\">markov process</a> is a probabilistic process or sequence of events $\\{x_i\\}$ with the memory-less property i.e. the probability of each event depends only on the state attained in the previous event or\n",
    "$$\n",
    "P(x_t | x_{t-1}, \\cdots, x_{0}) = P(x_t | x_{t-1})\n",
    "$$\n",
    "\n",
    "\n",
    "<a href=\"https://en.wikipedia.org/wiki/Markov_chain_Monte_Carlo\">Markov Chain Monte Carlo</a>\n",
    "(MCMC) is a method for sampling arbitrary probability distributions. MCMCs rely on the fact that a markov process has a unique equilibrium distribution which can be constructed such that it is identical to the target distribution. The process converges to the equilibrium distribution after a number of steps. Thus, the more steps are taken in the process, the more closely the distribution of the sample matches the actual desired distribution. Various algorithms exist for constructing these chains, including the Metropolis–Hastings algorithm which we will discuss next.\n",
    "\n",
    "<br>\n",
    "<!--end-block-->"
   ]
  },
  {
   "cell_type": "markdown",
   "metadata": {},
   "source": [
    "<!--start-block-->\n",
    "<hr style=\"height: 1px;\">\n",
    "\n",
    "## 13.2 Metropolis-Hastings\n",
    "\n",
    "\n",
    "<a href=\"https://en.wikipedia.org/wiki/Metropolis–Hastings_algorithm\">Metropolis-Hastings</a>\n",
    "is a particular MCMC sampling algorithm. The goal is to generate samples from some target distribution $P(x)$ (for our purposes this will be the posterior $p(\\theta | D)$) where $\\theta$ is a vector of the parameters we would like to estimate and $D$ is the observed dataset.\n",
    "It relies on a proposal density or jumping distribution, $g(y|x)$ used to jump from one proposed sample ($x$) to the next ($y$) with some probability. The equilibrium distribution of the Markov Chain generated is exactly the desired distribution $P(x)$. The proof for this can be found in any standard text and will not be covered here.\n",
    "\n",
    "The algorithm itself is quite straightforward.\n",
    "\n",
    "1) Sample a proposal value $y_t$ from the jumping distribution $g(y_t|x_{t-1})$.\n",
    "2) Compute the acceptance probability \n",
    "$$\n",
    "p_t = \\rm{max}\\big[1,\\, \\frac{g(y_t|x_{t-1})}{g(x_{t-1}|y_t)} \\frac{P(y_t)}{P(x_{t-1})}\\big]\n",
    "$$\n",
    "if the proposal distribution is symmetric (i.e. $g(x|y) = g(y|x)$) then the probability is simply \n",
    "$$\n",
    "p_t = \\rm{max}\\big[1,\\, \\frac{P(y_t)}{P(x_{t-1})} \\big]\n",
    "$$\n",
    "3) Sample $u_t$ from $\\mathcal{U}(0,1)$ (the uniform distribution between 0 and 1).\n",
    "4) If $p_t>u_t$ accept the sample by setting $x_t = y_t$. Otherwise remain at $x_{t-1}$.\n",
    "\n",
    "Repeat until an adequate number of samples is generated.\n",
    "<br>\n",
    "<!--end-block-->"
   ]
  },
  {
   "cell_type": "code",
   "execution_count": 1,
   "metadata": {},
   "outputs": [],
   "source": [
    "import numpy as np\n",
    "import matplotlib.pyplot as plt\n",
    "from scipy import stats"
   ]
  },
  {
   "cell_type": "markdown",
   "metadata": {},
   "source": [
    "First we will generate some sample data. Out of 10K data points we will initially select 1000 to use as our \"observations\". We will make the observed dataset bigger for the final analysis. The goal for now is to get an intution for MCMCs and how they can be used to do parameter estimation."
   ]
  },
  {
   "cell_type": "code",
   "execution_count": 2,
   "metadata": {},
   "outputs": [
    {
     "data": {
      "image/png": "[encoded data removed]",
      "text/plain": [
       "<Figure size 432x288 with 1 Axes>"
      ]
     },
     "metadata": {
      "needs_background": "light"
     },
     "output_type": "display_data"
    }
   ],
   "source": [
    "mu_true = 10\n",
    "sigma_true = 5\n",
    "data = np.random.normal(mu_true, sigma_true, 10000)\n",
    "obs = np.random.choice(data, 1000, replace=False)\n",
    "\n",
    "plt.hist(data, bins=50, label='All data', density=True, alpha=1, histtype='step')\n",
    "plt.hist(obs, bins=20, label='Observations', density=True, alpha=0.8, histtype='stepfilled')\n",
    "plt.legend()\n",
    "plt.show()"
   ]
  },
  {
   "cell_type": "markdown",
   "metadata": {},
   "source": [
    "<!--start-block-->\n",
    "<hr style=\"height: 1px;\">\n",
    "\n",
    "## 13.3 Exercise 1\n",
    "\n",
    "\n",
    "Now we will implement some of the moving parts of Metropolis-Hastings. \n",
    "\n",
    "1) First implement a likelihood function which takes in the parameters mu and sigma\n",
    "and returns the likelihood of the observed data under those parameter values.\n",
    "2) Implement a proposal distribution.\n",
    "\n",
    "<br>\n",
    "<!--end-block-->"
   ]
  },
  {
   "cell_type": "code",
   "execution_count": 4,
   "metadata": {},
   "outputs": [],
   "source": [
    "def likelihood(x, mu, sigma):\n",
    "    # Implement a likelihood function for the model used to generate the data\n",
    "    # make sure to avoid multiplying very small numbers to avoid underflow\n",
    "    # and compute the likelihood over the observed data\n",
    "    return np.exp(-0.5*(x-mu)**2/sigma**2)/np.sqrt(2*np.pi*sigma**2)\n",
    "\n",
    "\n",
    "# instead of defining the likelihood function, we can use stats.norm from scipy \n",
    "# which implements methods for all sorts of useful things like the pdf and cdf\n",
    "def loglikelihood(mu, sigma):\n",
    "    return sum(stats.norm.logpdf(obs, mu, sigma))\n",
    "\n",
    "def transition_model(x):\n",
    "    # Implement a symmetric transition model\n",
    "    # Remember if the transition density is not symmetric, \n",
    "    # you will need to account for this term in the acceptance probability\n",
    "    return np.random.randn() + x\n",
    "\n",
    "def log_prior(mu, sigma):\n",
    "    # Implement a uniform prior for mu\n",
    "    # which does not change the acceptance probability\n",
    "\n",
    "    # the prior for sigma is uniform over positive values\n",
    "    log_prob = 0 if sigma > 0 else -np.inf\n",
    "    return log_prob"
   ]
  },
  {
   "cell_type": "code",
   "execution_count": 5,
   "metadata": {},
   "outputs": [],
   "source": [
    "def step(mu, sigma):\n",
    "    # Implement a single step of the Markov chain\n",
    "    # This function should return the new value of mu and sigma\n",
    "    # and the loglikelihood of the new value\n",
    "    return transition_model(mu), sigma, loglikelihood(mu, sigma)\n",
    "\n",
    "def metro_hastings(mu, sigma, n_steps=1000, n_samples=0):\n",
    "    samples = []\n",
    "    samples_step = []\n",
    "    markov_chain = []\n",
    "    # Implement the Metropolis-Hastings algorithm\n",
    "    i=0\n",
    "    while len(samples) < n_samples or i < n_steps:\n",
    "        # Take a step\n",
    "        mu_new, _, log_likelihood = step(mu, sigma)\n",
    "        # Acceptance probability\n",
    "        prob = np.exp(min(0, loglikelihood(mu_new, sigma) - log_prior(mu_new, sigma))) # log_prior(mu_new, sigma) - log_prior(mu, sigma)\n",
    "        if np.random.rand() < prob:\n",
    "            mu = mu_new\n",
    "            samples.append(mu_new)\n",
    "            samples_step.append(i)\n",
    "        i+=1\n",
    "        markov_chain.append(mu)\n",
    "    return samples, samples_step, markov_chain"
   ]
  },
  {
   "cell_type": "code",
   "execution_count": 6,
   "metadata": {},
   "outputs": [
    {
     "name": "stdout",
     "output_type": "stream",
     "text": [
      "Acceptance rate: 0.19470404984423675\n"
     ]
    },
    {
     "data": {
      "image/png": "[encoded data removed]",
      "text/plain": [
       "<Figure size 432x288 with 1 Axes>"
      ]
     },
     "metadata": {
      "needs_background": "light"
     },
     "output_type": "display_data"
    }
   ],
   "source": [
    "# Run your Metropolis-Hastings algorithm\n",
    "# to generate 1000 samples\n",
    "TOTAL_STEPS = 1000\n",
    "samples, samples_step, markov_chain = metro_hastings(0, 5, TOTAL_STEPS, n_samples=1000)\n",
    "# What is your acceptance rate?\n",
    "# What determines this value? How can you make it larger?\n",
    "# Hint: try changing your jumping distribution\n",
    "print(\"Acceptance rate: {}\".format(len(samples)/len(markov_chain)))\n",
    "\n",
    "# Make some plots to visualize your markov chain with \n",
    "# both accepted and rejected proposals\n",
    "# What happens in the early steps?\n",
    "# This why there is a \"burn-in\" phase in MCMC methods.\n",
    "plt.scatter(range(len(markov_chain)), markov_chain, label='Markov chain', alpha=0.8, s=5)\n",
    "plt.scatter(samples_step, samples, label='accepted samples', color='crimson', s=5)\n",
    "plt.axhline(10, color='black', linestyle='--', label='True mean')\n",
    "plt.xlabel('step')\n",
    "plt.legend()\n",
    "plt.show()"
   ]
  },
  {
   "cell_type": "markdown",
   "metadata": {},
   "source": [
    "In many cases we want to generate independent identically distributed samples.\n",
    "Let's check if that's what we got.\n",
    "\n",
    "The function plt.accor plots the correlation between samples at different distances $\\tau$,\n",
    " $$C(\\tau) = Corr(x_t,x_{t-\\tau})$$\n",
    " at $\\tau = 0$, $C(0)$ is always 1 since it's the correlation of a random variable with itself."
   ]
  },
  {
   "cell_type": "code",
   "execution_count": 7,
   "metadata": {},
   "outputs": [
    {
     "data": {
      "image/png": "[encoded data removed]",
      "text/plain": [
       "<Figure size 432x288 with 1 Axes>"
      ]
     },
     "metadata": {
      "needs_background": "light"
     },
     "output_type": "display_data"
    }
   ],
   "source": [
    "# Use plt.acorr to plot the autocorrelation of the samples you generated\n",
    "# and compare that to a true i.i.d sample from a normal distribution (np.random.randn)\n",
    "# Do you notice a problem?\n",
    "x = np.random.randn(len(samples))\n",
    "plt.acorr(x, maxlags=10)\n",
    "plt.show()"
   ]
  },
  {
   "cell_type": "code",
   "execution_count": 8,
   "metadata": {},
   "outputs": [
    {
     "data": {
      "image/png": "[encoded data removed]",
      "text/plain": [
       "<Figure size 432x288 with 1 Axes>"
      ]
     },
     "metadata": {
      "needs_background": "light"
     },
     "output_type": "display_data"
    }
   ],
   "source": [
    "plt.acorr(samples, maxlags=900)\n",
    "plt.show()"
   ]
  },
  {
   "cell_type": "code",
   "execution_count": 9,
   "metadata": {},
   "outputs": [],
   "source": [
    "def transition_model(x):\n",
    "    # Implement a symmetric transition model\n",
    "    # Remember if the transition density is not symmetric, \n",
    "    # you will need to account for this term in the acceptance probability\n",
    "    return np.random.randn()*0.1 + x"
   ]
  },
  {
   "cell_type": "code",
   "execution_count": 10,
   "metadata": {},
   "outputs": [
    {
     "name": "stdout",
     "output_type": "stream",
     "text": [
      "Acceptance rate: 0.7971938775510204\n"
     ]
    }
   ],
   "source": [
    "samples, _, mc = metro_hastings(0, 5, n_samples=10000)\n",
    "print(\"Acceptance rate: {}\".format(len(samples)/len(mc)))"
   ]
  },
  {
   "cell_type": "markdown",
   "metadata": {},
   "source": [
    "<!--start-block-->\n",
    "<hr style=\"height: 1px;\">\n",
    "\n",
    "## 13.3 Exercise 2\n",
    "\n",
    "\n",
    "Now we will do some parameter estimation!\n",
    "Hints:\n",
    "The mean of the sample can be a good estimator.\n",
    "A 95% credible interval (CI) is an interval which contains\n",
    "the true value of the parameter $\\theta$ with probability 0.95. \n",
    "You can find a few examples of ways to construct a CI here\n",
    "https://en.wikipedia.org/wiki/Credible_interval\n",
    "<br>\n",
    "<!--end-block-->"
   ]
  },
  {
   "cell_type": "markdown",
   "metadata": {},
   "source": [
    "Construct a 90% Credible Interval for the true mean using\n",
    "the samples you generated from MCMC. You can use the function np.percentile from numpy\n",
    "to compute the percentiles of the samples.\n"
   ]
  },
  {
   "cell_type": "code",
   "execution_count": 12,
   "metadata": {},
   "outputs": [
    {
     "data": {
      "image/png": "[encoded data removed]",
      "text/plain": [
       "<Figure size 432x288 with 1 Axes>"
      ]
     },
     "metadata": {
      "needs_background": "light"
     },
     "output_type": "display_data"
    },
    {
     "name": "stdout",
     "output_type": "stream",
     "text": [
      "Mean estimate: 10.07 + 0.26 - -0.26\n"
     ]
    }
   ],
   "source": [
    "# Make a histogram of your samples (don't forget about burn-in)\n",
    "# Plot your best estimate of the true mean\n",
    "# along with the edges of your credible interval.\n",
    "# Are the results reasonable?\n",
    "# How can you have a \"better\" interval?\n",
    "# Hint: Investigate how the number of observations affects\n",
    "# your results.\n",
    "plt.hist(samples[200:], bins=50, label='Samples', density=True, alpha=0.8, histtype='stepfilled')\n",
    "plt.axvline(mu_true, color='black', linestyle='--', label='True mean')\n",
    "\n",
    "percentiles = np.percentile(samples[200:], [5, 95])\n",
    "mu_estimate = np.mean(samples[200:])\n",
    "\n",
    "plt.axvline(mu_estimate, color='red', linestyle='--', label='Sample mean')\n",
    "for p in percentiles:\n",
    "    plt.axvline(p, color='crimson', linestyle=':')\n",
    "plt.title(r'mu = {:.2f}'.format(mu_estimate) + '\\n' + '90% CI: {:.2f} - {:.2f}'.format(percentiles[0], percentiles[1]))\n",
    "plt.legend()\n",
    "plt.show()\n",
    "print(f\"Mean estimate: {mu_estimate:.2f} + {percentiles[1]-mu_estimate:.2f} {percentiles[0]-mu_estimate:.2f}\")"
   ]
  },
  {
   "cell_type": "code",
   "execution_count": 13,
   "metadata": {},
   "outputs": [
    {
     "name": "stdout",
     "output_type": "stream",
     "text": [
      "Acceptance rate: 0.5056122964910507\n"
     ]
    }
   ],
   "source": [
    "# What happens if you increase the number of observations?\n",
    "obs = np.random.choice(data, len(data), replace=False)\n",
    "samples, _, mc = metro_hastings(0, 5, n_samples=10000)\n",
    "print(\"Acceptance rate: {}\".format(len(samples)/len(mc)))"
   ]
  },
  {
   "cell_type": "code",
   "execution_count": null,
   "metadata": {},
   "outputs": [],
   "source": [
    "# Optional: \n",
    "# Run the MCMC algorithm for both mu and sigma \n",
    "# and plot the mean and the 90% CI\n",
    "\n",
    "# How can you make the MCMC algorithm more efficient?\n",
    "# How can you make the samples indepdent?\n",
    "# The answer can be found here: https://arxiv.org/pdf/2101.08176.pdf\n",
    "# The key idea is that you can use \"Normalizing Flows\" to approximate\n",
    "# the target distribution which you can then correct using Metropolis-Hastings\n",
    "# to obtain an exact i.i.d sample of the target distribution. "
   ]
  }
 ],
 "metadata": {
  "interpreter": {
   "hash": "c34b3f829f55344124a5a0f2100dda58adb8e3cad3250906cc72bb8dd00bb6e7"
  },
  "kernelspec": {
   "display_name": "Python 3.9.7 64-bit ('base': conda)",
   "language": "python",
   "name": "python3"
  },
  "language_info": {
   "codemirror_mode": {
    "name": "ipython",
    "version": 3
   },
   "file_extension": ".py",
   "mimetype": "text/x-python",
   "name": "python",
   "nbconvert_exporter": "python",
   "pygments_lexer": "ipython3",
   "version": "3.10.1"
  },
  "orig_nbformat": 4
 },
 "nbformat": 4,
 "nbformat_minor": 2
}
