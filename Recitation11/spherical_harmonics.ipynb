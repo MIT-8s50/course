{
 "cells": [
  {
   "cell_type": "markdown",
   "metadata": {},
   "source": [
    "# Recitation 11: Spherical Harmonics\n",
    "\n",
    "Author: Tri Nguyen\n",
    "\n",
    "This recitation introduces spherical harmonics."
   ]
  },
  {
   "cell_type": "code",
   "execution_count": null,
   "metadata": {},
   "outputs": [],
   "source": [
    "import numpy as np\n",
    "import matplotlib as mpl\n",
    "import matplotlib.pyplot as plt\n",
    "from matplotlib import cm, colors\n",
    "from mpl_toolkits.mplot3d import Axes3D\n",
    "from scipy.special import sph_harm\n",
    "\n",
    "%matplotlib inline"
   ]
  },
  {
   "cell_type": "code",
   "execution_count": null,
   "metadata": {},
   "outputs": [],
   "source": [
    "%%javascript\n",
    "MathJax.Hub.Config({\n",
    "    TeX: { equationNumbers: { autoNumber: \"AMS\" } }\n",
    "});"
   ]
  },
  {
   "cell_type": "markdown",
   "metadata": {},
   "source": [
    "# Background\n",
    "\n",
    "## Laplace's equation in spherical coordinate\n",
    "\n",
    "Let our coordinate system be $(r, \\theta, \\phi)$ where $r$ is the radius, $\\theta$ is the polar angle ($0 \\leq \\theta \\leq \\pi)$ , and $\\phi$ is the azimuthal angle $(0 \\leq \\phi \\leq 2\\pi)$.\n",
    "We want to solve the Laplace's equation for a scalar function $\\Psi = \\Psi(r, \\theta, \\phi)$:\n",
    "\n",
    "\\begin{align}\n",
    "    \\nabla^2 \\Psi &=  \\frac{\\partial^2 \\Psi}{\\partial x^2} + \\frac{\\partial^2 \\Psi}{\\partial y^2} + \\frac{\\partial^2 \\Psi}{\\partial z^2} \\\\ \n",
    "    &=\n",
    "    \\frac{1}{r^2} \\frac{\\partial}{\\partial r} \\left(r^2 \\frac{\\partial \\Psi}{\\partial r} \\right)\n",
    "    + \\frac{1}{r^2 \\sin\\theta} \\frac{\\partial}{\\partial \\theta} \\left(\\sin\\theta \\frac{\\partial \\Psi}{\\partial \\theta} \\right) \n",
    "    + \\frac{1}{r^2 \\sin^2\\theta} \\frac{\\partial^2 \\Psi}{\\partial \\phi^2} = 0\n",
    "\\end{align}\n",
    "\n",
    "As a reminder, the Laplacian $\\nabla^2$ (or also $\\Delta$) is the divergence of the gradient.\n",
    "We often encounter the Laplace's equation in many areas of physics. \n",
    "For example:\n",
    "\n",
    "1. $\\nabla^2 V = 0$ for $\\mathbf{E} = -\\nabla V$ where $\\mathbf{E}$ is the electric field and $V$ is the electric potential\n",
    "\n",
    "2. $\\nabla^2 \\phi = 0$ for $\\mathbf{g} = -\\nabla \\phi$ where $\\mathbf{g}$ is the gravitational field and $\\phi$ is the gravitational potential\n",
    "\n",
    "and so on."
   ]
  },
  {
   "cell_type": "markdown",
   "metadata": {},
   "source": [
    "<img src=\"figures/spherical_coord.png\" width=600 height=600 />"
   ]
  },
  {
   "cell_type": "markdown",
   "metadata": {},
   "source": [
    "In physics, we often find that we can separate the solution $\\Psi$ into a radial component $R(r)$ and an angular component $Y(\\theta, \\phi)$, i.e. $\\Psi(r, \\theta, \\phi) = R(r) Y(\\theta, \\phi)$.\n",
    "Then, the Laplace's equation becomes:\n",
    "\n",
    "\\begin{equation}\n",
    "    \\frac{1}{R}\\frac{d}{dr}\\left(r^2 \\frac{dR}{dr}\\right) = l(l+1) , \\quad \n",
    "    \\frac{1}{Y}\\frac{1}{\\sin\\theta} \\frac{\\partial}{\\partial\\theta}\n",
    "    \\left(\\sin\\theta\\frac{\\partial Y}{\\partial \\theta}\\right) \n",
    "    + \\frac{1}{Y} \\frac{1}{\\sin^2\\theta} \\frac{\\partial^2 Y}{\\partial \\phi^2} \n",
    "    = -l(l + 1)\n",
    "\\end{equation}\n",
    "\n",
    "where we let the separation constant to be $l(l+1)$ by convention."
   ]
  },
  {
   "cell_type": "markdown",
   "metadata": {},
   "source": [
    "## Spherical harmonics\n",
    "\n",
    "In this recitation, we will ignore the radial equation and focus on the angular equation.\n",
    "To solve for the angular equation, we again apply separation of variables by assuming that $Y$ has the form $Y(\\theta, \\phi) = \\Theta(\\theta) \\Phi(\\phi)$:\n",
    "\n",
    "\\begin{equation}\n",
    "    \\label{eq:laplace_azi}\n",
    "    \\frac{1}{\\Phi} \\frac{d^2\\Phi}{d\\phi^2} = -m^2\n",
    "\\end{equation}\n",
    "\n",
    "\\begin{equation}\n",
    "    \\label{eq:laplace_polar}\n",
    "    l(l+1)\\sin^2\\theta \n",
    "    + \\frac{\\sin\\theta}{\\Theta}\\frac{d}{d\\theta}\\left(\\sin\\theta \\frac{d\\Theta}{d\\theta}\\right)\n",
    "    = m^2\n",
    "\\end{equation}\n",
    "\n",
    "where we let our second separation constant to be $m^2$ by convention.\n",
    "\n",
    "### The azimuthal equation\n",
    "\n",
    "The azimuthal equation has a simple solution:\n",
    "\n",
    "\\begin{equation}\n",
    "    \\label{eq:sol_azi}\n",
    "    \\frac{1}{\\Phi} \\frac{d^2\\Phi}{d\\phi^2} = -m^2 \\Rightarrow \\Phi(\\phi) = e^{im\\phi}\n",
    "\\end{equation}\n",
    "\n",
    "Here, we have simplied the solution by allowing $m$ to have negative values. "
   ]
  },
  {
   "cell_type": "markdown",
   "metadata": {},
   "source": [
    "> **QUESTION 1:** \n",
    "Proof that $m$ must also be an integer.\n",
    "\n",
    "> **ANSWER 1:**\n",
    "Your answer here"
   ]
  },
  {
   "cell_type": "markdown",
   "metadata": {},
   "source": [
    "### The polar equation\n",
    "The polar equation is a bit more complicated, so we will just show the solution here:\n",
    "\n",
    "\\begin{equation}\n",
    "    \\label{eq:sol_polar}\n",
    "    \\Theta(\\theta) = P^m_l(\\cos\\theta)\n",
    "\\end{equation}\n",
    "\n",
    "where $P^m_l$ is the *associcated Legendre function*:\n",
    "\n",
    "\\begin{equation}\n",
    "    P^m_l(x) = \\frac{(-1)^m}{2^l l!}(1-x^2)^{m/2} \\frac{d^{l+m}}{dx^{l+m}} (x^2 - 1)^l\n",
    "\\end{equation}\n",
    "\n",
    "which is non-zero for non-negative $l$ and $-l \\leq m \\leq l$.\n",
    "The factor $(-1)^m$ is the Condon and Shortley phase factor convention, which is convenient in quantum mechanics (e.g. angular momentum ladder operator).\n",
    "This is the convention used by Scipy: see [`scipy.special.lpmv`](https://docs.scipy.org/doc/scipy/reference/generated/scipy.special.lpmv.html#scipy.special.lpmv).\n",
    "\n",
    "\n",
    "### Final solution\n",
    "Combining the azimuthal and polar solutions,\n",
    "we have the solution for the angular Laplace's equation:\n",
    "\n",
    "\\begin{equation}\n",
    "    \\boxed{Y^m_l(\\theta, \\phi) \n",
    "    = \\sqrt{\\frac{(2l + 1)}{4\\pi} \\frac{(l-m)!}{(l+m)!}} e^{i m \\phi} P^m_l(\\cos\\theta)}\n",
    "\\end{equation}\n",
    "\n",
    "for $l = 0, 1, 2,...$ and $m = -l, -l + 1, ..., l - 1, l$. \n",
    "The functions $Y^m_l (\\theta, \\phi)$ are known as the **spherical harmonics**. \n",
    "The first term of $Y^m_l$ is the normalization constant chosen such that:\n",
    "\n",
    "\\begin{equation}\n",
    "    \\int _0^{2\\pi}\\int_{-1}^{1} \\left|Y^m_l(\\theta, \\phi)\\right|^2 d(\\cos\\theta) d\\phi = 1\n",
    "\\end{equation}"
   ]
  },
  {
   "cell_type": "markdown",
   "metadata": {},
   "source": [
    "> **QUESTION 2:**\n",
    "What is the relation between $P^m_l$ and $P^{-m}_l$? What is the relation between $Y^m_l$ and $Y^{-m}_l$ then?\n",
    "\n",
    "> **ANSWER 2:**\n",
    "Your answer here"
   ]
  },
  {
   "cell_type": "markdown",
   "metadata": {},
   "source": [
    "**Example**: the first few spherical harmonics (with Condon-Shortley convention):\n",
    "\\begin{gather*}\n",
    "   Y^0_0(\\theta, \\phi) = \\sqrt{\\frac{1}{4\\pi}} \\\\\n",
    "   Y^0_1(\\theta, \\phi) = \\sqrt{\\frac{3}{4\\pi}} \\cos\\theta, \\quad\n",
    "   Y^1_1(\\theta, \\phi) = -\\sqrt{\\frac{3}{8\\pi}} e^{i\\phi} \\sin\\theta  \\\\\n",
    "   Y^0_2(\\theta, \\phi) = \\sqrt{\\frac{5}{16\\pi}} (3\\cos^2\\theta - 1), \\quad\n",
    "   Y^1_2(\\theta, \\phi) = - \\sqrt{\\frac{15}{8\\pi}} e^{i\\phi} \\sin\\theta \\cos\\theta, \\quad\n",
    "   Y^2_2(\\theta, \\phi) = \\sqrt{\\frac{15}{32\\pi}} e^{2i\\phi} \\sin^2\\theta, \\quad\n",
    "\\end{gather*}"
   ]
  },
  {
   "cell_type": "markdown",
   "metadata": {},
   "source": [
    "### Important properties\n",
    "\n",
    "Spherical harmonics form an **orthonormal basis**:\n",
    "\n",
    "1. Orthonormality:\n",
    "\n",
    "\\begin{equation}\n",
    "    \\int _0^{2\\pi}\\int_ {-1}^{1} Y^m_l(\\theta, \\phi)Y^{m'}_ {l'}(\\theta, \\phi) d(\\cos\\theta) d\\phi \n",
    "    = \\delta_{l l'} \\delta_{m m'}\n",
    "\\end{equation}\n",
    "\n",
    "where $\\delta_{ij}$ is the Kronecker delta ($\\delta_{ij} = 1$ for $i = j$ and $0$ otherwise).\n",
    "\n",
    "2. Completeness: \n",
    "$Y^m_l$ forms a complete basis of square-integrable functions: $\\exp(i m \\phi)$ and the associated Legendre polynomials $P^m_l(\\cos\\theta)$ are both complete. \n",
    "\n",
    "For an well-behave function $f(\\theta, \\phi)$ on a unit sphere, we can write it as:\n",
    "\n",
    "\\begin{equation}\n",
    "    f(\\theta, \\phi) = \\sum^\\infty_{l=0} \\sum^l_{m=-l} a^m_l Y^m_l (\\theta, \\phi)\n",
    "\\end{equation}\n",
    "\n",
    "where $a^m_l$ are some *complex* cofficients dependent on $(m, l$)"
   ]
  },
  {
   "cell_type": "markdown",
   "metadata": {},
   "source": [
    "> **QUESTION 3:**\n",
    "Given a function $f(\\theta, \\phi)$, how would you find $a^m_l$?\n",
    "\n",
    "> **ANSWER 3:**\n",
    "Your answer here"
   ]
  },
  {
   "cell_type": "markdown",
   "metadata": {},
   "source": [
    "# Plotting spherical harmonics in Python\n",
    "\n",
    "In this section, we show how to plot the spherical harmonics using Scipy and Matplotlib.\n",
    "\n",
    "Because Scipy uses a different angle convention than what we previously introduced ($\\phi$ as polar angle and $\\theta$ as the azimuthal angle), we will re-define its spherical harmonic function to match our convention, which is more commonly used in physics."
   ]
  },
  {
   "cell_type": "code",
   "execution_count": null,
   "metadata": {},
   "outputs": [],
   "source": [
    "def Yml(theta, phi, m, l):\n",
    "    ''' Returns the spherical harmonics Y^m_l(theta, phi) including the Condon-Shortley phase\n",
    "    where theta is the polar angle (in rad) and phi is the azimuthal angle (in rad).\n",
    "    '''\n",
    "    return sph_harm(m, l, phi, theta)    "
   ]
  },
  {
   "cell_type": "code",
   "execution_count": null,
   "metadata": {},
   "outputs": [],
   "source": [
    "def plot_spherical_harmonics(m, l, ax, mode='real'):\n",
    "    ''' Plot spherical harmonics Y^m_l (theta, phi)\n",
    "    where theta is the polar angle (in rad) and phi is the azimuthal angle (in rad).\n",
    "    \n",
    "    Args:\n",
    "    - m, l (int, int):  spherical harmonics number\n",
    "    - ax (matplotlib.pyplot.axis): axis to plot\n",
    "    - mode (str): either \"real\" or \"imag\". Default is \"real\"\n",
    "    Returns:\n",
    "    - fig (matplotlib.pyplot.figure): returns if ax is not given\n",
    "    '''\n",
    "    \n",
    "    # Define an angular grid over a unit sphere\n",
    "    phi = np.linspace(0, 2*np.pi, 100)\n",
    "    theta = np.linspace(0, np.pi, 100)\n",
    "    phi, theta = np.meshgrid(phi, theta)\n",
    "    \n",
    "    # The Cartesian coordinates of the unit sphere\n",
    "    x = np.sin(theta) * np.cos(phi)\n",
    "    y = np.sin(theta) * np.sin(phi)\n",
    "    z = np.cos(theta)\n",
    "\n",
    "    # Calculate the spherical harmonic Y(l,m)\n",
    "    if mode == 'real':\n",
    "        fcolors = Yml(theta, phi, m, l).real\n",
    "    elif mode == 'imag':\n",
    "        fcolors = Yml(theta, phi, m, l).imag\n",
    "    else:\n",
    "        raise ValueError('mode must either be \"real\" or \"imag\"')\n",
    "\n",
    "    # Set the aspect ratio to 1 so our sphere looks spherical\n",
    "    cmap = cm.ScalarMappable(cmap=plt.get_cmap('seismic'))\n",
    "    ax.plot_surface(x, y, z,  rstride=1, cstride=1, facecolors=cmap.to_rgba(fcolors))"
   ]
  },
  {
   "cell_type": "markdown",
   "metadata": {},
   "source": [
    "As an example, we will now plot the first two $l=1, 2$ ($l=0$ case is just a constant):\n",
    "\n",
    "1. Plot $l=1$ case:"
   ]
  },
  {
   "cell_type": "code",
   "execution_count": null,
   "metadata": {},
   "outputs": [],
   "source": [
    "fig, axes = plt.subplots(2, 3, figsize=(9, 6), subplot_kw={'projection': '3d'})\n",
    "\n",
    "# Plot m, l = 0, 1\n",
    "plot_spherical_harmonics(0, 1, axes[0, 0], 'real')\n",
    "axes[0, 0].set_title(r'Re[$Y^0_1$]')\n",
    "\n",
    "# Plot m, l = 1, 1\n",
    "plot_spherical_harmonics(1, 1, axes[0, 1], 'real')\n",
    "plot_spherical_harmonics(1, 1, axes[1, 1], 'imag')\n",
    "axes[0, 1].set_title(r'Re[$Y^1_1$]')\n",
    "axes[1, 1].set_title(r'Im[$Y^1_1$]')\n",
    "\n",
    "# Plot m, l = -1, 1\n",
    "plot_spherical_harmonics(-1, 1, axes[0, 2], 'real')\n",
    "plot_spherical_harmonics(-1, 1, axes[1, 2], 'imag')\n",
    "axes[0, 2].set_title(r'Re[$Y^{-1}_1$]')\n",
    "axes[1, 2].set_title(r'Im[$Y^{-1}_1$]')\n",
    "\n",
    "# Turn off axis\n",
    "for ax in axes.ravel():\n",
    "    ax.axis('off')\n",
    "\n",
    "fig.tight_layout()"
   ]
  },
  {
   "cell_type": "markdown",
   "metadata": {},
   "source": [
    "2. Plot $l=2$ case:"
   ]
  },
  {
   "cell_type": "code",
   "execution_count": null,
   "metadata": {},
   "outputs": [],
   "source": [
    "fig, axes = plt.subplots(2, 5, figsize=(15, 6), subplot_kw={'projection': '3d'})\n",
    "\n",
    "# Plot m, l = 0, 2\n",
    "plot_spherical_harmonics(0, 2, axes[0, 0], 'real')\n",
    "axes[0, 0].set_title(r'Re[$Y^0_2$]')\n",
    "\n",
    "# Plot m, l = 1, 2\n",
    "plot_spherical_harmonics(1, 2, axes[0, 1], 'real')\n",
    "plot_spherical_harmonics(1, 2, axes[1, 1], 'imag')\n",
    "axes[0, 1].set_title(r'Re[$Y^1_2$]')\n",
    "axes[1, 1].set_title(r'Im[$Y^1_2$]')\n",
    "\n",
    "# Plot m, l = -1, 2\n",
    "plot_spherical_harmonics(-1, 2, axes[0, 2], 'real')\n",
    "plot_spherical_harmonics(-1, 2, axes[1, 2], 'imag')\n",
    "axes[0, 2].set_title(r'Re[$Y^{-1}_2$]')\n",
    "axes[1, 2].set_title(r'Im[$Y^{-1}_2$]')\n",
    "\n",
    "# Plot m, l = 2, 2\n",
    "plot_spherical_harmonics(2, 2, axes[0, 3], 'real')\n",
    "plot_spherical_harmonics(2, 2, axes[1, 3], 'imag')\n",
    "axes[0, 3].set_title(r'Re[$Y^2_2$]')\n",
    "axes[1, 3].set_title(r'Im[$Y^2_2$]')\n",
    "\n",
    "# Plot m, l = -2, 2\n",
    "plot_spherical_harmonics(-2, 2, axes[0, 4], 'real')\n",
    "plot_spherical_harmonics(-2, 2, axes[1, 4], 'imag')\n",
    "axes[0, 4].set_title(r'Re[$Y^{-2}_2$]')\n",
    "axes[1, 4].set_title(r'Im[$Y^{-2}_2$]')\n",
    "\n",
    "# Turn off axis\n",
    "for ax in axes.ravel():\n",
    "    ax.axis('off')\n",
    "\n",
    "fig.tight_layout()"
   ]
  },
  {
   "cell_type": "markdown",
   "metadata": {},
   "source": [
    "3. Plot $l=3$ case:"
   ]
  },
  {
   "cell_type": "code",
   "execution_count": null,
   "metadata": {},
   "outputs": [],
   "source": [
    "fig, axes = plt.subplots(1, 4, figsize=(15, 6), subplot_kw={'projection': '3d'})\n",
    "\n",
    "# Plot m, l = 0, 3\n",
    "plot_spherical_harmonics(0, 3, axes[0], 'real')\n",
    "axes[0].set_title(r'Re[$Y^0_3$]')\n",
    "\n",
    "# Plot m, l = 1, 3\n",
    "plot_spherical_harmonics(1, 3, axes[1], 'real')\n",
    "axes[1].set_title(r'Re[$Y^1_3$]')\n",
    "\n",
    "# Plot m, l = 2, 3\n",
    "plot_spherical_harmonics(2, 3, axes[2], 'real')\n",
    "axes[2].set_title(r'Re[$Y^2_3$]')\n",
    "\n",
    "# Plot m, l = 3, 3\n",
    "plot_spherical_harmonics(3, 3, axes[3], 'real')\n",
    "axes[3].set_title(r'Re[$Y^3_3$]')\n",
    "\n",
    "# Turn off axis\n",
    "for ax in axes.ravel():\n",
    "    ax.axis('off')\n",
    "\n",
    "fig.tight_layout()"
   ]
  },
  {
   "cell_type": "markdown",
   "metadata": {},
   "source": [
    "4. Plot $l=4$ case:"
   ]
  },
  {
   "cell_type": "code",
   "execution_count": null,
   "metadata": {},
   "outputs": [],
   "source": [
    "fig, axes = plt.subplots(1, 5, figsize=(15, 6), subplot_kw={'projection': '3d'})\n",
    "\n",
    "# Plot m, l = 0, 4\n",
    "plot_spherical_harmonics(0, 4, axes[0], 'real')\n",
    "axes[0].set_title(r'Re[$Y^0_4$]')\n",
    "\n",
    "# Plot m, l = 1, 4\n",
    "plot_spherical_harmonics(1, 4, axes[1], 'real')\n",
    "axes[1].set_title(r'Re[$Y^1_4$]')\n",
    "\n",
    "# Plot m, l = 2, 4\n",
    "plot_spherical_harmonics(2, 4, axes[2], 'real')\n",
    "axes[2].set_title(r'Re[$Y^2_4$]')\n",
    "\n",
    "# Plot m, l = 3, 4\n",
    "plot_spherical_harmonics(3, 4, axes[3], 'real')\n",
    "axes[3].set_title(r'Re[$Y^3_4$]')\n",
    "\n",
    "# Plot m, l = 3, 4\n",
    "plot_spherical_harmonics(4, 4, axes[4], 'real')\n",
    "axes[4].set_title(r'Re[$Y^4_4$]')\n",
    "\n",
    "# Turn off axis\n",
    "for ax in axes.ravel():\n",
    "    ax.axis('off')\n",
    "\n",
    "fig.tight_layout()"
   ]
  },
  {
   "cell_type": "markdown",
   "metadata": {},
   "source": [
    "# Example\n",
    "\n",
    "\n"
   ]
  },
  {
   "cell_type": "markdown",
   "metadata": {},
   "source": [
    "As you will see in Project 3, the temperature anisotropy of the CMB can be described by spherical harmonics:\n",
    "\n",
    "\\begin{equation}\n",
    "\\frac{\\Delta T (\\theta, \\phi)}{T} = \\sum_{lm} a^m_l Y^m_l (\\theta, \\phi)\n",
    "\\end{equation}\n",
    "\n",
    "where $T = 2.725 \\mathrm{K}$ is the mean temperature of the CMB."
   ]
  },
  {
   "cell_type": "markdown",
   "metadata": {},
   "source": [
    "<img src=\"figures/cmb_map.jpg\" width=400 height=400 />"
   ]
  },
  {
   "cell_type": "markdown",
   "metadata": {},
   "source": [
    "We often see the *angular power spectrum* $C_l$:\n",
    "\n",
    "\\begin{equation}\n",
    "    C_l = \\frac{1}{2l + 1} \\sum_m |a^m_l|^2\n",
    "\\end{equation}"
   ]
  },
  {
   "cell_type": "markdown",
   "metadata": {},
   "source": [
    "The angular power spectrum describes the temperature differences between points on the sky separated by an angle $\\theta$ (note that here we have changed the definition of $\\theta$).\n",
    "The separation angle $\\theta$ relates to the mode $l$ by approximately:\n",
    "\n",
    "\\begin{equation}\n",
    "    \\theta = \\frac{180^\\circ}{l}\n",
    "\\end{equation}\n",
    "\n",
    "With some math, we can find that the variance of the temperature fluctuation field is given by:\n",
    "\\begin{equation}\n",
    "    \\left(\\frac{\\Delta T}{T}\\right)_l = \\sum_l  \\frac{l(l+1)}{2\\pi}C_l\n",
    "\\end{equation}"
   ]
  },
  {
   "cell_type": "markdown",
   "metadata": {},
   "source": [
    "<img src=\"figures/cmb_angular.jpg\" width=800 height=800 />"
   ]
  },
  {
   "cell_type": "markdown",
   "metadata": {},
   "source": [
    "# Exercise\n",
    "\n",
    "In this exercise, you will attempt to solve for the coefficients $a^m_l$ given a function $f(\\theta, \\phi)$.\n",
    "\n",
    "## Part 1\n",
    "First, we want to define a function that integrates over a unit sphere. \n",
    "In other words, for any well-behave function $F(\\theta, \\phi)$, define $\\mathrm{INT}$ such that:\n",
    "\\begin{equation*}\n",
    "    \\mathrm{INT}[F] = \\int_0^{2\\pi}\\int_ {-1}^{1} F(\\theta, \\phi) d(\\cos\\theta) d\\phi \n",
    "\\end{equation*}\n",
    "Using `scipy.integrat.dblquad` ([doc](https://docs.scipy.org/doc/scipy/reference/generated/scipy.integrate.dblquad.html)), write a Python function `int_sphere` that:\n",
    "- Take in as its first argument a Python function `F`, which takes theta and phi as its first and second arguments.\n",
    "- `int_sphere` should return a number.\n",
    "- You may have as many other arguments as you want. "
   ]
  },
  {
   "cell_type": "code",
   "execution_count": null,
   "metadata": {},
   "outputs": [],
   "source": [
    "from scipy.integrate import dblquad\n",
    "\n",
    "def int_sphere(F):\n",
    "    ### Your code here\n",
    "    pass"
   ]
  },
  {
   "cell_type": "markdown",
   "metadata": {},
   "source": [
    "## Part 2\n",
    "\n",
    "To check if your integration function behaves correctly, evaluate the following:\n",
    "\n",
    "- $F(\\theta, \\phi) = 1$\n",
    "- $F(\\theta, \\phi) = \\sin^2\\phi$\n",
    "- $F(\\theta, \\phi) = \\sin\\phi \\cos\\phi$\n",
    "- $F(\\theta, \\phi) = Y^m_l(\\theta, \\phi) \\, Y^m_l(\\theta, \\phi)^\\ast$\n",
    "- $F(\\theta, \\phi) = Y^m_l(\\theta, \\phi) \\, Y^n_l(\\theta, \\phi)^\\ast$ for $m \\neq n$\n",
    "- $F(\\theta, \\phi) = Y^m_l(\\theta, \\phi) \\, Y^m_k(\\theta, \\phi)^\\ast$ for $l  \\neq k$\n"
   ]
  },
  {
   "cell_type": "code",
   "execution_count": null,
   "metadata": {},
   "outputs": [],
   "source": [
    "# Your code here"
   ]
  },
  {
   "cell_type": "markdown",
   "metadata": {},
   "source": [
    "## Part 3\n",
    "\n",
    "Now, use the orthornormality and completeness properties and the solution to Question 3 above to solve for the coefficients $a^m_l$ for the following functions:\n",
    "\n",
    "- $f(\\theta, \\phi) = \\cos\\theta$\n",
    "- $f(\\theta, \\phi) = \\cos(3\\theta)$\n",
    "- $f(\\theta, \\phi) = \\sin(2\\theta)\\left[\\cos(3\\phi) + \\sin(2\\phi)\\right]$\n",
    "\n",
    "Assuming that $f(\\theta, \\phi)$ can be written as:\n",
    "\\begin{equation*}\n",
    "    f(\\theta, \\phi) = \\sum^\\infty_{l=0} \\sum^l_{m=-l} a^m_l Y^m_l (\\theta, \\phi)\n",
    "\\end{equation*}\n",
    "\n",
    "To save time, you should pick a value $l_{max}$ and evaluate all $a^m_l$ up to $l_{max}$"
   ]
  },
  {
   "cell_type": "code",
   "execution_count": null,
   "metadata": {},
   "outputs": [],
   "source": [
    "# Your code here"
   ]
  },
  {
   "cell_type": "markdown",
   "metadata": {},
   "source": [
    "## Part 4\n",
    "\n",
    "Consider the last function in Part 3:\n",
    "\n",
    "\\begin{equation*}\n",
    "    f(\\theta, \\phi) = \\sin(2\\theta)\\left[\\cos(3\\phi) + \\sin(2\\phi)\\right]\n",
    "\\end{equation*}\n",
    "\n",
    "We want to approximate $f(\\theta, \\phi)$ using spherical harmonics. \n",
    "However, due to computational time, we can only evaluate $a^m_l$ up to a certain $l_{max}$.\n",
    "We define a function $\\hat{f}_{l_{max}}(\\theta, \\phi)$:\n",
    "\n",
    "\\begin{equation*}\n",
    "     f(\\theta, \\phi) \\approx \\hat{f}_{l_{max}}(\\theta, \\phi) = \\sum^{l_{max}}_{l=0} \\sum^l_{m=-l} a^m_l Y^m_l (\\theta, \\phi) \n",
    "\\end{equation*}\n",
    "\n",
    "Define a Python function for $f_{l_{max}}(\\theta, \\phi)$. \n",
    "For $l_{max} = 4, 8, 12$, plot $f(\\theta, \\phi)$, $\\hat{f}_{l_{max}}(\\theta, \\phi)$, and their residual:\n",
    "\n",
    "\\begin{equation*}\n",
    "      \\hat{r}(\\theta, \\phi) = f(\\theta, \\phi) - \\hat{f}_{l_{max}}(\\theta, \\phi)\n",
    "\\end{equation*}\n",
    "\n",
    "on like a sphere (like the example above).\n",
    "You should plot both the real and complex components of each function.\n",
    "\n",
    "How does increasing $l_{max}$ affect the observation? Why?"
   ]
  },
  {
   "cell_type": "code",
   "execution_count": null,
   "metadata": {},
   "outputs": [],
   "source": [
    "# For convenience, you can use this function below\n",
    "# to plot the surface of any function f(theta, phi) on a sphere\n",
    "def plot_surface(func, ax, mode='real'):\n",
    "    ''' Plot a color map of any function f(theta, phi) on a sphere '''\n",
    "    \n",
    "    # Define an angular grid over a unit sphere\n",
    "    phi = np.linspace(0, 2*np.pi, 100)\n",
    "    theta = np.linspace(0, np.pi, 100)\n",
    "    phi, theta = np.meshgrid(phi, theta)\n",
    "    \n",
    "    # The Cartesian coordinates of the unit sphere\n",
    "    x = np.sin(theta) * np.cos(phi)\n",
    "    y = np.sin(theta) * np.sin(phi)\n",
    "    z = np.cos(theta)\n",
    "\n",
    "    fcolors = func(theta, phi)\n",
    "    if mode == 'real':\n",
    "        fcolors = func(theta, phi).real\n",
    "    elif mode == 'imag':\n",
    "        fcolors = func(theta, phi).imag\n",
    "    else:\n",
    "        raise ValueError('mode must either be \"real\" or \"imag\"')\n",
    "\n",
    "    # Set the aspect ratio to 1 so our sphere looks spherical\n",
    "    cmap = cm.ScalarMappable(cmap=plt.get_cmap('seismic'))\n",
    "    ax.plot_surface(x, y, z,  rstride=1, cstride=1, facecolors=cmap.to_rgba(fcolors))"
   ]
  },
  {
   "cell_type": "code",
   "execution_count": null,
   "metadata": {},
   "outputs": [],
   "source": [
    "# Your code here"
   ]
  }
 ],
 "metadata": {
  "kernelspec": {
   "display_name": "Python 3 (ipykernel)",
   "language": "python",
   "name": "python3"
  },
  "language_info": {
   "codemirror_mode": {
    "name": "ipython",
    "version": 3
   },
   "file_extension": ".py",
   "mimetype": "text/x-python",
   "name": "python",
   "nbconvert_exporter": "python",
   "pygments_lexer": "ipython3",
   "version": "3.8.5"
  }
 },
 "nbformat": 4,
 "nbformat_minor": 4
}
